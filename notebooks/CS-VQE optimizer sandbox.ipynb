{
 "cells": [
  {
   "cell_type": "code",
   "execution_count": 1,
   "id": "1437cc10",
   "metadata": {},
   "outputs": [],
   "source": [
    "from symred.symplectic_form import PauliwordOp, StabilizerOp\n",
    "from symred.S3_projection import (S3_projection, \n",
    "                                  gf2_gaus_elim, \n",
    "                                  gf2_basis_for_gf2_rref, \n",
    "                                  QubitTapering, \n",
    "                                  CS_VQE, \n",
    "                                  CheatS_VQE)\n",
    "from symred.build_model import build_molecule_for_projection\n",
    "from symred.utils import exact_gs_energy, quasi_model\n",
    "import json\n",
    "import numpy as np\n",
    "from functools import reduce\n",
    "import matplotlib.pyplot as plt\n",
    "import openfermion as of\n",
    "import openfermionpyscf as ofpyscf\n",
    "from openfermion.circuits import ( uccsd_singlet_get_packed_amplitudes,\n",
    "                                   uccsd_singlet_generator, uccsd_generator,\n",
    "                                   uccsd_convert_amplitude_format)\n",
    "from cirq.testing import random_unitary\n",
    "from itertools import combinations, product\n",
    "\n",
    "import warnings\n",
    "import os"
   ]
  },
  {
   "cell_type": "code",
   "execution_count": 2,
   "id": "f1e3071d",
   "metadata": {},
   "outputs": [],
   "source": [
    "cwd = os.getcwd()\n",
    "symred_dir = os.path.dirname(cwd)\n",
    "data_dir = os.path.join(symred_dir, 'data')\n",
    "mol_list = os.listdir(data_dir)"
   ]
  },
  {
   "cell_type": "code",
   "execution_count": 3,
   "id": "55e66d5b",
   "metadata": {},
   "outputs": [
    {
     "data": {
      "text/plain": [
       "['H1-O1-Na1_STO-3G_singlet_NaOHNaOH.json',\n",
       " 'C1-O2_STO-3G_singlet_CO2CO2.json',\n",
       " 'H2-C1-O1_STO-3G_singlet_MethanalMethanal.json',\n",
       " 'H6-C3_STO-3G_singlet_PropenePropene.json',\n",
       " 'H2_3-21G_singlet_H2_3-21GH2_3-21G.json',\n",
       " 'H6-C3-O1_STO-3G_singlet_PropanonePropanone.json',\n",
       " 'H1-O1_STO-3G_singlet_-1-_OH-OH-.json',\n",
       " 'H2_6-311G*_singlet_H2_6-311G*H2_6-311G*.json',\n",
       " 'H1-Cl1_STO-3G_singlet_HclHcl.json',\n",
       " 'H5-C2-N1-O1_STO-3G_singlet_EthanamideEthanamide.json',\n",
       " 'H2-Mg1_STO-3G_singlet_MgH2MgH2.json',\n",
       " 'Si1_STO-3G_triplet_SiSi.json',\n",
       " 'Cl2_STO-3G_singlet_Cl2Cl2.json',\n",
       " 'H2-S1_STO-3G_singlet_H2SH2S.json',\n",
       " 'S1_STO-3G_triplet_SS.json',\n",
       " 'Br1_STO-3G_doublet_BrBr.json',\n",
       " 'H2_STO-3G_singlet_H2H2.json',\n",
       " 'H1-He1_6-31+G**_singlet_1+_HeH+_6-31+G**HeH+_6-31+G**.json',\n",
       " 'H1-Na1_STO-3G_singlet_NaHNaH.json',\n",
       " 'F1_STO-3G_doublet_FF.json',\n",
       " 'O1_STO-3G_triplet_OO.json',\n",
       " 'H2-C1_STO-3G_triplet_CH2CH2.json',\n",
       " 'H2-C2_STO-3G_singlet_EthyneEthyne.json',\n",
       " 'N1-O3_STO-3G_singlet_-1-_NO3-NO3-.json',\n",
       " 'O2_STO-3G_singlet_O2_singletO2_singlet.json',\n",
       " 'H8-C3-O1_STO-3G_singlet_1-Propanol1-Propanol.json',\n",
       " 'H4-C2-O1_STO-3G_singlet_EthanalEthanal.json',\n",
       " 'H2_6-31G_singlet_H2_6-31GH2_6-31G.json',\n",
       " 'H1-F1_STO-3G_singlet_HFHF.json',\n",
       " 'N2_STO-3G_singlet_N2N2.json',\n",
       " 'H2-O1_3-21G_singlet_H2O_3-21GH2O_3-21G.json',\n",
       " 'Cl1_STO-3G_doublet_ClCl.json',\n",
       " 'C1-O3_STO-3G_singlet_CO3CO3.json',\n",
       " 'H1-Li1-O1_STO-3G_singlet_LiOHLiOH.json',\n",
       " 'H1-He1_3-21G_singlet_1+_HeH+_3-21GHeH+_3-21G.json',\n",
       " 'I1_STO-3G_doublet_II.json',\n",
       " 'H1-He1_6-31G*_singlet_1+_HeH+_6-31G*HeH+_6-31G*.json',\n",
       " 'H2-O2-Mg1_STO-3G_singlet_Mg_HydroxideMg_Hydroxide.json',\n",
       " 'K1_STO-3G_doublet_KK.json',\n",
       " 'H3_STO-3G_singlet_1+_H3+H3+.json',\n",
       " 'H2-C1_3-21G_triplet_CH2_3-21GCH2_3-21G.json',\n",
       " 'H7-C2-N1_STO-3G_singlet_DimethylamineDimethylamine.json',\n",
       " 'He1_STO-3G_singlet_HeHe.json',\n",
       " 'C1-O1_STO-3G_singlet_COCO.json',\n",
       " 'H4-C1-O1_STO-3G_singlet_MethanolMethanol.json',\n",
       " 'H3_3-21G_singlet_1+_H3+_3-21GH3+_3-21G.json',\n",
       " 'H1-He1_6-31G_singlet_1+_HeH+_6-31GHeH+_6-31G.json',\n",
       " 'H4-N1_STO-3G_singlet_1+_NH4+NH4+.json',\n",
       " 'H3-N1_STO-3G_singlet_NH3NH3.json',\n",
       " 'H2_6-311G**_singlet_H2_6-311G**H2_6-311G**.json',\n",
       " 'open_files.ipynb',\n",
       " 'F2_STO-3G_singlet_F2F2.json',\n",
       " 'Br1_STO-3G_singlet_-1-_Br-Br-.json',\n",
       " 'H1-He1_STO-3G_singlet_1+_HeH+_STO-3GHeH+_STO-3G.json',\n",
       " 'H3-C2-O2_STO-3G_singlet_-1-_Ethanoate_ionEthanoate_ion.json',\n",
       " 'H1-He1_6-31G**_singlet_1+_HeH+_6-31G**HeH+_6-31G**.json',\n",
       " 'N1-O2_STO-3G_doublet_ONOONO.json',\n",
       " 'H2_6-31G**_singlet_H2_6-31G**H2_6-31G**.json',\n",
       " 'H2_6-31G*_singlet_H2_6-31G*H2_6-31G*.json',\n",
       " 'O2_STO-3G_triplet_O2O2.json',\n",
       " 'H2-C1_STO-3G_triplet_CH2_3-21GCH2_3-21G.json',\n",
       " 'H5-C1-N1_STO-3G_singlet_MethylamineMethylamine.json',\n",
       " 'H1-He1_6-311G**_singlet_1+_HeH+_6-311G**HeH+_6-311G**.json',\n",
       " 'Ne1_STO-3G_singlet_NeNe.json',\n",
       " 'Cl1_STO-3G_singlet_-1-_Cl-Cl-.json',\n",
       " 'C1_STO-3G_triplet_CC.json',\n",
       " 'Mg1_STO-3G_singlet_MgMg.json',\n",
       " 'H1-He1_6-311G*_singlet_1+_HeH+_6-311G*HeH+_6-311G*.json',\n",
       " 'H6-C2_STO-3G_singlet_EthaneEthane.json',\n",
       " 'Na1_STO-3G_doublet_NaNa.json',\n",
       " 'H4-C2-O2_STO-3G_singlet_Ethanoic_AcidEthanoic_Acid.json',\n",
       " 'Be1_STO-3G_singlet_BeBe.json',\n",
       " 'H2_6-31+G**_singlet_H2_6-31+G**H2_6-31+G**.json',\n",
       " 'H1-Li1_STO-3G_singlet_LiHLiH.json',\n",
       " 'H1_STO-3G_doublet_HH.json',\n",
       " 'B1_STO-3G_doublet_BB.json',\n",
       " 'H4-C2_STO-3G_singlet_EtheneEthene.json',\n",
       " 'H1-F1_3-21G_singlet_HF_3-21GHF_3-21G.json',\n",
       " '.ipynb_checkpoints',\n",
       " 'H1-N1-O3_STO-3G_singlet_HNO3HNO3.json',\n",
       " 'H6-C2-O1_STO-3G_singlet_EthanolEthanol.json',\n",
       " 'H2-O1_STO-3G_singlet_H2OH2O.json',\n",
       " 'H4-C1_STO-3G_singlet_MethaneMethane.json',\n",
       " 'H2-O2_STO-3G_singlet_Hydrogen_PeroxideHydrogen_Peroxide.json',\n",
       " 'H8-C3_STO-3G_singlet_PropanePropane.json',\n",
       " 'I1_STO-3G_singlet_-1-_I-I-.json',\n",
       " 'Li1_STO-3G_doublet_LiLi.json',\n",
       " 'H1-Li1_3-21G_singlet_LiH_3-21GLiH_3-21G.json',\n",
       " 'N1_STO-3G_quartet_NN.json',\n",
       " 'P1_STO-3G_quartet_PP.json',\n",
       " 'H2-Be1_STO-3G_singlet_BeH2BeH2.json',\n",
       " 'Ar1_STO-3G_singlet_ArAr.json']"
      ]
     },
     "execution_count": 3,
     "metadata": {},
     "output_type": "execute_result"
    }
   ],
   "source": [
    "mol_list"
   ]
  },
  {
   "cell_type": "markdown",
   "id": "fa695f0a",
   "metadata": {},
   "source": [
    "# Get Hamiltonian"
   ]
  },
  {
   "cell_type": "code",
   "execution_count": null,
   "id": "5724d288",
   "metadata": {},
   "outputs": [],
   "source": []
  },
  {
   "cell_type": "code",
   "execution_count": 4,
   "id": "65275e6e",
   "metadata": {},
   "outputs": [],
   "source": [
    "speciesname = 'Be1_STO-3G_singlet_BeBe.json'\n",
    "# speciesname = 'H2_STO-3G_singlet_H2H2.json',\n",
    "mol_file = os.path.join(data_dir, speciesname)\n",
    "with open(mol_file, 'r') as infile:\n",
    "    ham = json.load(infile)\n",
    "\n",
    "ham_op = PauliwordOp(ham)\n",
    "# print(ham_op)"
   ]
  },
  {
   "cell_type": "code",
   "execution_count": null,
   "id": "ffebc665",
   "metadata": {},
   "outputs": [],
   "source": []
  },
  {
   "cell_type": "markdown",
   "id": "b48bcd2c",
   "metadata": {},
   "source": [
    "# Convert to qubits, taper and construct CS-VQE model"
   ]
  },
  {
   "cell_type": "code",
   "execution_count": 5,
   "id": "7d0d7990",
   "metadata": {},
   "outputs": [
    {
     "name": "stderr",
     "output_type": "stream",
     "text": [
      "/Users/lex/anaconda3/envs/symred/lib/python3.9/site-packages/symred/S3_projection.py:302: ComplexWarning: Casting complex values to real discards the imaginary part\n",
      "  ham_nc_dict = {op:float(coeff) for op,coeff in self.noncontextual_operator.to_dictionary.items()}\n"
     ]
    }
   ],
   "source": [
    "contextual_sub = CS_VQE(ham_op)"
   ]
  },
  {
   "cell_type": "code",
   "execution_count": 6,
   "id": "2daf8583",
   "metadata": {},
   "outputs": [
    {
     "data": {
      "text/plain": [
       "array([-1.00000000e+00, -1.02213201e-08])"
      ]
     },
     "execution_count": 6,
     "metadata": {},
     "output_type": "execute_result"
    }
   ],
   "source": [
    "contextual_sub.clique_operator.coeff_vec"
   ]
  },
  {
   "cell_type": "code",
   "execution_count": 7,
   "id": "6728a8e0",
   "metadata": {},
   "outputs": [
    {
     "data": {
      "text/plain": [
       "(74, 9)"
      ]
     },
     "execution_count": 7,
     "metadata": {},
     "output_type": "execute_result"
    }
   ],
   "source": [
    "contextual_sub.G_indices.shape"
   ]
  },
  {
   "cell_type": "code",
   "execution_count": 8,
   "id": "660be28f",
   "metadata": {},
   "outputs": [
    {
     "data": {
      "text/plain": [
       "(74, 2)"
      ]
     },
     "execution_count": 8,
     "metadata": {},
     "output_type": "execute_result"
    }
   ],
   "source": [
    "contextual_sub.r_indices.shape"
   ]
  },
  {
   "cell_type": "code",
   "execution_count": 9,
   "id": "cdb703d4",
   "metadata": {},
   "outputs": [
    {
     "data": {
      "text/plain": [
       "-14.351880476202037"
      ]
     },
     "execution_count": 9,
     "metadata": {},
     "output_type": "execute_result"
    }
   ],
   "source": [
    "contextual_sub.noncontextual_objective_function(contextual_sub.symmetry_generators.coeff_vec,\n",
    "                                        contextual_sub.clique_operator.coeff_vec)"
   ]
  },
  {
   "cell_type": "code",
   "execution_count": null,
   "id": "7b4da659",
   "metadata": {},
   "outputs": [],
   "source": []
  },
  {
   "cell_type": "code",
   "execution_count": 10,
   "id": "d15c8bf2",
   "metadata": {},
   "outputs": [
    {
     "data": {
      "text/plain": [
       "array([-1,  1,  1,  1,  1,  1,  1,  1,  1])"
      ]
     },
     "execution_count": 10,
     "metadata": {},
     "output_type": "execute_result"
    }
   ],
   "source": [
    "contextual_sub.symmetry_generators.coeff_vec"
   ]
  },
  {
   "cell_type": "code",
   "execution_count": 11,
   "id": "1971e1df",
   "metadata": {},
   "outputs": [],
   "source": [
    "# print(contextual_sub.noncontextual_operator)"
   ]
  },
  {
   "cell_type": "code",
   "execution_count": 12,
   "id": "d57da15e",
   "metadata": {},
   "outputs": [],
   "source": [
    "# contextual_sub.noncontextual_operator"
   ]
  },
  {
   "cell_type": "code",
   "execution_count": null,
   "id": "9ec227d5",
   "metadata": {},
   "outputs": [],
   "source": []
  },
  {
   "cell_type": "code",
   "execution_count": 60,
   "id": "4803cde1",
   "metadata": {},
   "outputs": [
    {
     "data": {
      "text/plain": [
       "-14.351880476202037"
      ]
     },
     "execution_count": 60,
     "metadata": {},
     "output_type": "execute_result"
    }
   ],
   "source": [
    "#### random vecs (allowed to be non ints for G!)\n",
    "n_gen = contextual_sub.symmetry_generators.n_terms \n",
    "g_vec = np.random.rand(n_gen) * np.random.choice([-1,1], size=n_gen)\n",
    "g_vec_norm = g_vec / np.linalg.norm(g_vec)\n",
    "\n",
    "r_vec = np.random.rand(contextual_sub.n_cliques) * np.random.choice([-1,1], size=contextual_sub.n_cliques)\n",
    "\n",
    "\n",
    "#### correct vecs\n",
    "g_vec_norm = contextual_sub.symmetry_generators.coeff_vec\n",
    "r_vec = contextual_sub.clique_operator.coeff_vec\n",
    "\n",
    "\n",
    "\n",
    "r_exp = contextual_sub.r_indices * r_vec\n",
    "r_exp[np.where(r_exp==0)]=1\n",
    "\n",
    "g_exp = contextual_sub.G_indices * g_vec_norm\n",
    "g_exp[np.where(g_exp==0)]=1 # set values not affecting cost to 1 (so np.prod doesn't go to zero!)\n",
    "\n",
    "G = np.prod(g_exp, axis=1)\n",
    "R = np.prod(r_exp, axis=1)\n",
    "\n",
    "np.sum(contextual_sub.noncontextual_operator.coeff_vec*G*R).real\n",
    "\n"
   ]
  },
  {
   "cell_type": "code",
   "execution_count": 403,
   "id": "56f2992c",
   "metadata": {},
   "outputs": [],
   "source": [
    "def new_cost_F(vector):\n",
    "    # vector = (q, r)\n",
    "    \n",
    "    if isinstance(vector, list):\n",
    "        vector = np.array(vector)\n",
    "    \n",
    "    g_exp = contextual_sub.G_indices * vector[:contextual_sub.symmetry_generators.n_terms]\n",
    "    g_exp[np.where(g_exp==0)]=1 # set values not affecting cost to 1 (so np.prod doesn't go to zero!)\n",
    "    \n",
    "    r_exp = contextual_sub.r_indices * vector[contextual_sub.symmetry_generators.n_terms:]\n",
    "    r_exp[np.where(r_exp==0)]=1\n",
    "\n",
    "    G = np.prod(g_exp, axis=1)\n",
    "    R = np.prod(r_exp, axis=1)\n",
    "\n",
    "#     return np.sum(contextual_sub.noncontextual_operator.coeff_vec.real*G*R)\n",
    "    return np.dot(contextual_sub.noncontextual_operator.coeff_vec.real,  G*R)\n",
    "    "
   ]
  },
  {
   "cell_type": "code",
   "execution_count": null,
   "id": "1ab6eb64",
   "metadata": {},
   "outputs": [],
   "source": []
  },
  {
   "cell_type": "code",
   "execution_count": 393,
   "id": "69ede527",
   "metadata": {},
   "outputs": [
    {
     "data": {
      "text/plain": [
       "-9.176020339519699"
      ]
     },
     "execution_count": 393,
     "metadata": {},
     "output_type": "execute_result"
    }
   ],
   "source": [
    "size = contextual_sub.symmetry_generators.n_terms + contextual_sub.n_cliques \n",
    "random_vec = np.random.rand(size) * np.random.choice([-1,1], size=size)\n",
    "random_vec = random_vec / np.linalg.norm(random_vec)\n",
    "new_cost_F(random_vec)"
   ]
  },
  {
   "cell_type": "code",
   "execution_count": 257,
   "id": "323add4b",
   "metadata": {},
   "outputs": [
    {
     "data": {
      "text/plain": [
       "array([-0.67980422,  0.34194459])"
      ]
     },
     "execution_count": 257,
     "metadata": {},
     "output_type": "execute_result"
    }
   ],
   "source": [
    "size = contextual_sub.symmetry_generators.n_terms + contextual_sub.n_cliques \n",
    "random_vec = np.random.rand(size) * np.random.choice([-1,1], size=size)\n",
    "\n",
    "random_vec[contextual_sub.symmetry_generators.n_terms:]"
   ]
  },
  {
   "cell_type": "code",
   "execution_count": 443,
   "id": "488bcf52",
   "metadata": {},
   "outputs": [],
   "source": [
    "def unit_sphere(angles):\n",
    "    if isinstance(angles, list):\n",
    "        angles = np.array(angles)\n",
    "        \n",
    "    cartesians = [np.prod(np.sin(angles[:i]))*np.cos(angles[i]) for i in range(len(angles))]\n",
    "    cartesians.append(np.prod(np.sin(angles)))\n",
    "    vec = np.array(cartesians)\n",
    "    return vec\n",
    "    \n",
    "def new_cost_F_rangle(vector):\n",
    "    # vector = (q, r) = (q, angle)\n",
    "    # r = (cos(angle), sin(angle))  \n",
    "    # note vector here is size |G|+|C|-1\n",
    "    \n",
    "    if isinstance(vector, list):\n",
    "        vector = np.array(vector)\n",
    "    \n",
    "    g_exp = contextual_sub.G_indices * vector[:contextual_sub.symmetry_generators.n_terms]\n",
    "    g_exp[np.where(g_exp==0)]=1 # set values not affecting cost to 1 (so np.prod doesn't go to zero!)\n",
    "    \n",
    "    \n",
    "#     angle = vector[-1]\n",
    "#     r_vec = np.array([np.cos(angle),np.sin(angle)])\n",
    "    angles = vector[contextual_sub.symmetry_generators.n_terms:]\n",
    "    r_vec = unit_sphere(angles)\n",
    "#     print(np.linalg.norm(r_vec))\n",
    "    \n",
    "    r_exp = contextual_sub.r_indices * r_vec\n",
    "    r_exp[np.where(r_exp==0)]=1\n",
    "\n",
    "    G = np.prod(g_exp, axis=1)\n",
    "    R = np.prod(r_exp, axis=1)\n",
    "\n",
    "#     return np.sum(contextual_sub.noncontextual_operator.coeff_vec*G*R).real\n",
    "    return np.sum(contextual_sub.noncontextual_operator.coeff_vec.real*G*R)\n",
    "    "
   ]
  },
  {
   "cell_type": "code",
   "execution_count": null,
   "id": "11d3ef5b",
   "metadata": {},
   "outputs": [],
   "source": []
  },
  {
   "cell_type": "code",
   "execution_count": 444,
   "id": "4e2d844c",
   "metadata": {},
   "outputs": [
    {
     "ename": "KeyboardInterrupt",
     "evalue": "",
     "output_type": "error",
     "traceback": [
      "\u001b[0;31m---------------------------------------------------------------------------\u001b[0m",
      "\u001b[0;31mKeyboardInterrupt\u001b[0m                         Traceback (most recent call last)",
      "\u001b[0;32m/var/folders/7l/9g4tmq2s5zg48_szmd8z7qh40000gn/T/ipykernel_64757/423204181.py\u001b[0m in \u001b[0;36m<cell line: 13>\u001b[0;34m()\u001b[0m\n\u001b[1;32m     11\u001b[0m \u001b[0;31m# optimizer_output = shgo(func=new_cost_F, bounds=nu_bounds)\u001b[0m\u001b[0;34m\u001b[0m\u001b[0;34m\u001b[0m\u001b[0m\n\u001b[1;32m     12\u001b[0m \u001b[0;34m\u001b[0m\u001b[0m\n\u001b[0;32m---> 13\u001b[0;31m optimizer_output = differential_evolution(\n\u001b[0m\u001b[1;32m     14\u001b[0m                         \u001b[0mfunc\u001b[0m\u001b[0;34m=\u001b[0m\u001b[0mnew_cost_F_rangle\u001b[0m\u001b[0;34m,\u001b[0m\u001b[0;34m\u001b[0m\u001b[0;34m\u001b[0m\u001b[0m\n\u001b[1;32m     15\u001b[0m                         \u001b[0mbounds\u001b[0m\u001b[0;34m=\u001b[0m\u001b[0mbounds\u001b[0m\u001b[0;34m,\u001b[0m\u001b[0;34m\u001b[0m\u001b[0;34m\u001b[0m\u001b[0m\n",
      "\u001b[0;32m~/anaconda3/envs/symred/lib/python3.9/site-packages/scipy/optimize/_differentialevolution.py\u001b[0m in \u001b[0;36mdifferential_evolution\u001b[0;34m(func, bounds, args, strategy, maxiter, popsize, tol, mutation, recombination, seed, callback, disp, polish, init, atol, updating, workers, constraints)\u001b[0m\n\u001b[1;32m    306\u001b[0m                                      \u001b[0mworkers\u001b[0m\u001b[0;34m=\u001b[0m\u001b[0mworkers\u001b[0m\u001b[0;34m,\u001b[0m\u001b[0;34m\u001b[0m\u001b[0;34m\u001b[0m\u001b[0m\n\u001b[1;32m    307\u001b[0m                                      constraints=constraints) as solver:\n\u001b[0;32m--> 308\u001b[0;31m         \u001b[0mret\u001b[0m \u001b[0;34m=\u001b[0m \u001b[0msolver\u001b[0m\u001b[0;34m.\u001b[0m\u001b[0msolve\u001b[0m\u001b[0;34m(\u001b[0m\u001b[0;34m)\u001b[0m\u001b[0;34m\u001b[0m\u001b[0;34m\u001b[0m\u001b[0m\n\u001b[0m\u001b[1;32m    309\u001b[0m \u001b[0;34m\u001b[0m\u001b[0m\n\u001b[1;32m    310\u001b[0m     \u001b[0;32mreturn\u001b[0m \u001b[0mret\u001b[0m\u001b[0;34m\u001b[0m\u001b[0;34m\u001b[0m\u001b[0m\n",
      "\u001b[0;32m~/anaconda3/envs/symred/lib/python3.9/site-packages/scipy/optimize/_differentialevolution.py\u001b[0m in \u001b[0;36msolve\u001b[0;34m(self)\u001b[0m\n\u001b[1;32m    757\u001b[0m             \u001b[0;31m# evolve the population by a generation\u001b[0m\u001b[0;34m\u001b[0m\u001b[0;34m\u001b[0m\u001b[0m\n\u001b[1;32m    758\u001b[0m             \u001b[0;32mtry\u001b[0m\u001b[0;34m:\u001b[0m\u001b[0;34m\u001b[0m\u001b[0;34m\u001b[0m\u001b[0m\n\u001b[0;32m--> 759\u001b[0;31m                 \u001b[0mnext\u001b[0m\u001b[0;34m(\u001b[0m\u001b[0mself\u001b[0m\u001b[0;34m)\u001b[0m\u001b[0;34m\u001b[0m\u001b[0;34m\u001b[0m\u001b[0m\n\u001b[0m\u001b[1;32m    760\u001b[0m             \u001b[0;32mexcept\u001b[0m \u001b[0mStopIteration\u001b[0m\u001b[0;34m:\u001b[0m\u001b[0;34m\u001b[0m\u001b[0;34m\u001b[0m\u001b[0m\n\u001b[1;32m    761\u001b[0m                 \u001b[0mwarning_flag\u001b[0m \u001b[0;34m=\u001b[0m \u001b[0;32mTrue\u001b[0m\u001b[0;34m\u001b[0m\u001b[0;34m\u001b[0m\u001b[0m\n",
      "\u001b[0;32m~/anaconda3/envs/symred/lib/python3.9/site-packages/scipy/optimize/_differentialevolution.py\u001b[0m in \u001b[0;36m__next__\u001b[0;34m(self)\u001b[0m\n\u001b[1;32m   1046\u001b[0m \u001b[0;34m\u001b[0m\u001b[0m\n\u001b[1;32m   1047\u001b[0m                 \u001b[0;31m# create a trial solution\u001b[0m\u001b[0;34m\u001b[0m\u001b[0;34m\u001b[0m\u001b[0m\n\u001b[0;32m-> 1048\u001b[0;31m                 \u001b[0mtrial\u001b[0m \u001b[0;34m=\u001b[0m \u001b[0mself\u001b[0m\u001b[0;34m.\u001b[0m\u001b[0m_mutate\u001b[0m\u001b[0;34m(\u001b[0m\u001b[0mcandidate\u001b[0m\u001b[0;34m)\u001b[0m\u001b[0;34m\u001b[0m\u001b[0;34m\u001b[0m\u001b[0m\n\u001b[0m\u001b[1;32m   1049\u001b[0m \u001b[0;34m\u001b[0m\u001b[0m\n\u001b[1;32m   1050\u001b[0m                 \u001b[0;31m# ensuring that it's in the range [0, 1)\u001b[0m\u001b[0;34m\u001b[0m\u001b[0;34m\u001b[0m\u001b[0m\n",
      "\u001b[0;32m~/anaconda3/envs/symred/lib/python3.9/site-packages/scipy/optimize/_differentialevolution.py\u001b[0m in \u001b[0;36m_mutate\u001b[0;34m(self, candidate)\u001b[0m\n\u001b[1;32m   1161\u001b[0m                                         self._select_samples(candidate, 5))\n\u001b[1;32m   1162\u001b[0m         \u001b[0;32melse\u001b[0m\u001b[0;34m:\u001b[0m\u001b[0;34m\u001b[0m\u001b[0;34m\u001b[0m\u001b[0m\n\u001b[0;32m-> 1163\u001b[0;31m             \u001b[0mbprime\u001b[0m \u001b[0;34m=\u001b[0m \u001b[0mself\u001b[0m\u001b[0;34m.\u001b[0m\u001b[0mmutation_func\u001b[0m\u001b[0;34m(\u001b[0m\u001b[0mself\u001b[0m\u001b[0;34m.\u001b[0m\u001b[0m_select_samples\u001b[0m\u001b[0;34m(\u001b[0m\u001b[0mcandidate\u001b[0m\u001b[0;34m,\u001b[0m \u001b[0;36m5\u001b[0m\u001b[0;34m)\u001b[0m\u001b[0;34m)\u001b[0m\u001b[0;34m\u001b[0m\u001b[0;34m\u001b[0m\u001b[0m\n\u001b[0m\u001b[1;32m   1164\u001b[0m \u001b[0;34m\u001b[0m\u001b[0m\n\u001b[1;32m   1165\u001b[0m         \u001b[0;32mif\u001b[0m \u001b[0mself\u001b[0m\u001b[0;34m.\u001b[0m\u001b[0mstrategy\u001b[0m \u001b[0;32min\u001b[0m \u001b[0mself\u001b[0m\u001b[0;34m.\u001b[0m\u001b[0m_binomial\u001b[0m\u001b[0;34m:\u001b[0m\u001b[0;34m\u001b[0m\u001b[0;34m\u001b[0m\u001b[0m\n",
      "\u001b[0;31mKeyboardInterrupt\u001b[0m: "
     ]
    }
   ],
   "source": [
    "from scipy.optimize import shgo, differential_evolution\n",
    "size = contextual_sub.symmetry_generators.n_terms + contextual_sub.n_cliques -1\n",
    "\n",
    "# G bounds\n",
    "bounds = [(-1, +1)]* contextual_sub.symmetry_generators.n_terms\n",
    "\n",
    "# R bounds\n",
    "bounds += [(0, 2*np.pi)]* (contextual_sub.n_cliques -1)\n",
    "\n",
    "\n",
    "# optimizer_output = shgo(func=new_cost_F, bounds=nu_bounds)\n",
    "\n",
    "optimizer_output = differential_evolution(\n",
    "                        func=new_cost_F_rangle, \n",
    "                        bounds=bounds,\n",
    "                        maxiter=10_000) # limits how many runs (max iteration!)\n",
    "\n",
    "print('minimum = ', optimizer_output.fun)\n",
    "print('q_vec_opt = ', optimizer_output.x[:contextual_sub.symmetry_generators.n_terms])\n",
    "print('r_vec_opt = ', unit_sphere(optimizer_output.x[contextual_sub.symmetry_generators.n_terms:]))\n",
    "print('steps taken:', optimizer_output.nfev)"
   ]
  },
  {
   "cell_type": "code",
   "execution_count": null,
   "id": "2b3ecb29",
   "metadata": {},
   "outputs": [],
   "source": []
  },
  {
   "cell_type": "code",
   "execution_count": 442,
   "id": "5233b9d4",
   "metadata": {},
   "outputs": [
    {
     "data": {
      "text/plain": [
       "     fun: 4.381813624780127e-07\n",
       "     jac: array([-1.16093573e-06, -3.77041835e-06,  1.49335655e-06,  1.26570463e-05,\n",
       "        7.34335252e-07, -6.43227494e-07,  8.66847564e-07,  2.26229675e-06,\n",
       "       -2.04239775e-06,  5.17969418e-07])\n",
       " message: 'Optimization terminated successfully'\n",
       "    nfev: 11\n",
       "     nit: 1\n",
       "    njev: 1\n",
       "  status: 0\n",
       " success: True\n",
       "       x: array([-0.37743812, -0.11621558,  0.29342046,  0.03461956,  0.59670449,\n",
       "       -0.68122323,  0.50548846,  0.19368872, -0.21454261,  2.08929013])"
      ]
     },
     "execution_count": 442,
     "metadata": {},
     "output_type": "execute_result"
    }
   ],
   "source": [
    "from scipy.optimize import minimize\n",
    "\n",
    "# random q_vec\n",
    "G_size = contextual_sub.symmetry_generators.n_terms \n",
    "qvec = np.random.rand(G_size) * np.random.choice([-1,1], size=G_size)\n",
    "# random r_vec\n",
    "R_size = contextual_sub.n_cliques -1\n",
    "rvec = np.random.uniform(low=0, high=2*np.pi, size=(R_size,))\n",
    "\n",
    "\n",
    "# G bounds\n",
    "bounds = [(-1, +1)]* contextual_sub.symmetry_generators.n_terms\n",
    "# R bounds\n",
    "bounds += [(0, 2*np.pi)]* (contextual_sub.n_cliques -1)\n",
    "\n",
    "x0 = np.hstack((qvec, rvec))\n",
    "## methods: TNC, SLSQP, L-BFGS-B\n",
    "minimize(new_cost_F_rangle, x0, method='SLSQP', bounds=bounds)\n"
   ]
  },
  {
   "cell_type": "code",
   "execution_count": 320,
   "id": "4725a0c0",
   "metadata": {},
   "outputs": [
    {
     "data": {
      "text/plain": [
       "-14.351880476202037"
      ]
     },
     "execution_count": 320,
     "metadata": {},
     "output_type": "execute_result"
    }
   ],
   "source": [
    "contextual_sub.noncontextual_objective_function(contextual_sub.symmetry_generators.coeff_vec,\n",
    "                                        contextual_sub.clique_operator.coeff_vec)"
   ]
  },
  {
   "cell_type": "code",
   "execution_count": null,
   "id": "bae6cded",
   "metadata": {},
   "outputs": [],
   "source": []
  },
  {
   "cell_type": "code",
   "execution_count": 376,
   "id": "b4939997",
   "metadata": {},
   "outputs": [
    {
     "data": {
      "text/plain": [
       "array([-1., -1., -1., -1., -1., -1., -1., -1., -1.,  0.])"
      ]
     },
     "execution_count": 376,
     "metadata": {},
     "output_type": "execute_result"
    }
   ],
   "source": [
    "b_lb"
   ]
  },
  {
   "cell_type": "code",
   "execution_count": null,
   "id": "91f504af",
   "metadata": {},
   "outputs": [],
   "source": []
  },
  {
   "cell_type": "code",
   "execution_count": null,
   "id": "fd76f463",
   "metadata": {},
   "outputs": [],
   "source": [
    "def unit_sphere(angles):\n",
    "    if isinstance(angles, list):\n",
    "        angles = np.array(angles)\n",
    "        \n",
    "    cartesians = [np.prod(np.sin(angles[:i]))*np.cos(angles[i]) for i in range(len(angles))]\n",
    "    cartesians.append(np.prod(np.sin(angles)))\n",
    "    vec = np.array(cartesians)\n",
    "    return vec\n",
    "    \n",
    "def new_cost_F_rangle(vector):\n",
    "    # vector = (q, r) = (q, angle)\n",
    "    # r = (cos(angle), sin(angle))  \n",
    "    # note vector here is size |G|+|C|-1\n",
    "    \n",
    "    if isinstance(vector, list):\n",
    "        vector = np.array(vector)\n",
    "    \n",
    "    g_exp = contextual_sub.G_indices * vector[:contextual_sub.symmetry_generators.n_terms]\n",
    "    g_exp[np.where(g_exp==0)]=1 # set values not affecting cost to 1 (so np.prod doesn't go to zero!)\n",
    "    \n",
    "    \n",
    "#     angle = vector[-1]\n",
    "#     r_vec = np.array([np.cos(angle),np.sin(angle)])\n",
    "    angles = vector[contextual_sub.symmetry_generators.n_terms:]\n",
    "    r_vec = unit_sphere(angles)\n",
    "#     print(np.linalg.norm(r_vec))\n",
    "    \n",
    "    r_exp = contextual_sub.r_indices * r_vec\n",
    "    r_exp[np.where(r_exp==0)]=1\n",
    "\n",
    "    G = np.prod(g_exp, axis=1)\n",
    "    R = np.prod(r_exp, axis=1)\n",
    "\n",
    "#     return np.sum(contextual_sub.noncontextual_operator.coeff_vec*G*R).real\n",
    "    return np.sum(contextual_sub.noncontextual_operator.coeff_vec.real*G*R)\n",
    "    "
   ]
  },
  {
   "cell_type": "code",
   "execution_count": 405,
   "id": "85b4fb29",
   "metadata": {},
   "outputs": [
    {
     "data": {
      "text/plain": [
       "(74,)"
      ]
     },
     "execution_count": 405,
     "metadata": {},
     "output_type": "execute_result"
    }
   ],
   "source": [
    "c.shape"
   ]
  },
  {
   "cell_type": "code",
   "execution_count": 419,
   "id": "4d88ca88",
   "metadata": {
    "scrolled": true
   },
   "outputs": [
    {
     "data": {
      "text/plain": [
       "array([1, 1, 1, 1, 1, 1, 1, 1, 1, 1, 1, 1, 1, 1, 1, 1, 1, 1, 1, 1, 1, 1,\n",
       "       1, 1, 1, 1, 1, 1, 1, 1, 1, 1, 1, 1, 1, 1, 1, 1, 1, 1, 1, 1, 1, 1,\n",
       "       1, 1, 1, 1, 1, 1, 1, 1, 1, 1, 1, 1, 1, 1, 1, 1, 1, 1, 1, 1, 1, 1,\n",
       "       1, 1, 1, 1, 1, 1, 1, 1])"
      ]
     },
     "execution_count": 419,
     "metadata": {},
     "output_type": "execute_result"
    }
   ],
   "source": []
  },
  {
   "cell_type": "code",
   "execution_count": 412,
   "id": "b7a39642",
   "metadata": {},
   "outputs": [
    {
     "data": {
      "text/plain": [
       "     con: array([-9.00940166e+00, -2.24322924e+00, -2.24322924e+00, -5.68833460e-01,\n",
       "       -4.66916923e-02, -1.31734600e-01, -1.42809077e-01, -4.66916923e-02,\n",
       "       -1.42809077e-01, -1.31734600e-01, -1.01034405e-01, -1.48432476e-01,\n",
       "       -1.38407439e-01, -1.42307209e-01, -8.06969811e-02, -1.02399226e-01,\n",
       "       -1.48432476e-01, -1.42307209e-01, -1.38407439e-01, -1.02399226e-01,\n",
       "       -8.06969811e-02, -1.12464760e-01, -1.48432476e-01, -1.38407439e-01,\n",
       "       -1.42307209e-01, -8.06969811e-02, -1.02399226e-01, -9.42777259e-02,\n",
       "       -1.00340071e-01, -1.48432476e-01, -1.42307209e-01, -1.38407439e-01,\n",
       "       -1.02399226e-01, -8.06969811e-02, -1.00340071e-01, -9.42777259e-02,\n",
       "       -1.12464760e-01, -1.48432476e-01, -1.38407439e-01, -1.42307209e-01,\n",
       "       -8.06969811e-02, -1.02399226e-01, -9.42777259e-02, -1.00340071e-01,\n",
       "       -9.42777259e-02, -1.00340071e-01, -1.48432476e-01, -1.42307209e-01,\n",
       "       -1.38407439e-01, -1.02399226e-01, -8.06969811e-02, -1.00340071e-01,\n",
       "       -9.42777259e-02, -1.00340071e-01, -9.42777259e-02, -1.12464760e-01,\n",
       "       -3.56093776e-03, -3.80616241e-02, -6.33325274e-02, -3.56093776e-03,\n",
       "       -3.80616241e-02, -6.33325274e-02, -2.23498544e-03, -2.23498544e-03,\n",
       "       -7.37562825e-03, -7.37562825e-03, -2.23498544e-03, -2.23498544e-03,\n",
       "       -7.37562825e-03, -7.37562825e-03, -2.23498544e-03, -2.23498544e-03,\n",
       "       -7.37562825e-03, -7.37562825e-03])\n",
       "     fun: 0.0\n",
       " message: 'The problem is (trivially) infeasible because a singleton row in the equality constraints is inconsistent with the bounds.'\n",
       "     nit: 0\n",
       "   slack: array([9.00940166e+00, 2.24322924e+00, 2.24322924e+00, 5.68833460e-01,\n",
       "       4.66916923e-02, 1.31734600e-01, 1.42809077e-01, 4.66916923e-02,\n",
       "       1.42809077e-01, 1.31734600e-01, 1.01034405e-01, 1.48432476e-01,\n",
       "       1.38407439e-01, 1.42307209e-01, 8.06969811e-02, 1.02399226e-01,\n",
       "       1.48432476e-01, 1.42307209e-01, 1.38407439e-01, 1.02399226e-01,\n",
       "       8.06969811e-02, 1.12464760e-01, 1.48432476e-01, 1.38407439e-01,\n",
       "       1.42307209e-01, 8.06969811e-02, 1.02399226e-01, 9.42777259e-02,\n",
       "       1.00340071e-01, 1.48432476e-01, 1.42307209e-01, 1.38407439e-01,\n",
       "       1.02399226e-01, 8.06969811e-02, 1.00340071e-01, 9.42777259e-02,\n",
       "       1.12464760e-01, 1.48432476e-01, 1.38407439e-01, 1.42307209e-01,\n",
       "       8.06969811e-02, 1.02399226e-01, 9.42777259e-02, 1.00340071e-01,\n",
       "       9.42777259e-02, 1.00340071e-01, 1.48432476e-01, 1.42307209e-01,\n",
       "       1.38407439e-01, 1.02399226e-01, 8.06969811e-02, 1.00340071e-01,\n",
       "       9.42777259e-02, 1.00340071e-01, 9.42777259e-02, 1.12464760e-01,\n",
       "       3.56093776e-03, 3.80616241e-02, 6.33325274e-02, 3.56093776e-03,\n",
       "       3.80616241e-02, 6.33325274e-02, 2.23498544e-03, 2.23498544e-03,\n",
       "       7.37562825e-03, 7.37562825e-03, 2.23498544e-03, 2.23498544e-03,\n",
       "       7.37562825e-03, 7.37562825e-03, 2.23498544e-03, 2.23498544e-03,\n",
       "       7.37562825e-03, 7.37562825e-03])\n",
       "  status: 2\n",
       " success: False\n",
       "       x: array([0., 0., 0., 0., 0., 0., 0., 0., 0., 0., 0., 0., 0., 0., 0., 0., 0.,\n",
       "       0., 0., 0., 0., 0., 0., 0., 0., 0., 0., 0., 0., 0., 0., 0., 0., 0.,\n",
       "       0., 0., 0., 0., 0., 0., 0., 0., 0., 0., 0., 0., 0., 0., 0., 0., 0.,\n",
       "       0., 0., 0., 0., 0., 0., 0., 0., 0., 0., 0., 0., 0., 0., 0., 0., 0.,\n",
       "       0., 0., 0., 0., 0., 0.])"
      ]
     },
     "execution_count": 412,
     "metadata": {},
     "output_type": "execute_result"
    }
   ],
   "source": [
    "\n",
    "import numpy as np\n",
    "from scipy.optimize import linprog\n",
    "# https://docs.scipy.org/doc/scipy/reference/optimize.linprog-interior-point.html\n",
    "\n",
    "\n",
    "# Set the inequality constraints matrix\n",
    "# Note: the inequality constraints must be in the form of <=\n",
    "G_size = contextual_sub.symmetry_generators.n_terms \n",
    "R_size = contextual_sub.n_cliques -1 \n",
    "A_matrix = np.eye(G_size+R_size)\n",
    "\n",
    "# lower bound \n",
    "G_lb = -1*np.ones(G_size)\n",
    "R_lb = np.zeros(R_size)\n",
    "\n",
    "b_lb = np.hstack((G_lb, R_lb))\n",
    "\n",
    "# upper bound\n",
    "G_ub = np.ones(G_size)\n",
    "R_ub = np.array([2*np.pi for _ in range(R_size)])\n",
    "\n",
    "b_ub = np.hstack((G_ub, R_ub))\n",
    "\n",
    "\n",
    "c = contextual_sub.noncontextual_operator.coeff_vec.real\n",
    "\n",
    "res = linprog(c, A_ub=np.eye(c.shape[0]),\n",
    "              b_ub=np.abs(c),\n",
    "              A_eq=np.eye(c.shape[0]),\n",
    "              b_eq=-1*np.abs(c),\n",
    "              bounds=None,method='interior-point')\n",
    "\n",
    "\n",
    "res"
   ]
  },
  {
   "cell_type": "code",
   "execution_count": null,
   "id": "3c0678b8",
   "metadata": {},
   "outputs": [],
   "source": []
  },
  {
   "cell_type": "code",
   "execution_count": null,
   "id": "dc20b08e",
   "metadata": {},
   "outputs": [],
   "source": [
    "# Set the inequality constraints matrix\n",
    "# Note: the inequality constraints must be in the form of <=\n",
    "G_size = contextual_sub.symmetry_generators.n_terms \n",
    "R_size = contextual_sub.n_cliques -1 \n",
    "A_matrix = np.eye(G_size+R_size)\n",
    "\n",
    "# lower bound \n",
    "G_lb = -1*np.ones(G_size)\n",
    "R_lb = np.zeros(R_size)\n",
    "\n",
    "b_lb = np.hstack((G_lb, R_lb))\n",
    "\n",
    "# upper bound\n",
    "G_ub = np.ones(G_size)\n",
    "R_ub = np.array([2*np.pi for _ in range(R_size)])\n",
    "\n",
    "b_ub = np.hstack((G_ub, R_ub))\n",
    "\n",
    "\n",
    "c = contextual_sub.noncontextual_operator.coeff_vec.real\n",
    "\n",
    "res = linprog(c, A_ub=A_matrix, b_ub=b_ub, A_eq=A_matrix, b_eq=b_lb, bounds=None,method='interior-point')"
   ]
  },
  {
   "cell_type": "code",
   "execution_count": null,
   "id": "2e6996d1",
   "metadata": {},
   "outputs": [],
   "source": []
  },
  {
   "cell_type": "code",
   "execution_count": null,
   "id": "ee44cc6f",
   "metadata": {},
   "outputs": [],
   "source": []
  },
  {
   "cell_type": "code",
   "execution_count": null,
   "id": "f5ea11a7",
   "metadata": {},
   "outputs": [],
   "source": []
  },
  {
   "cell_type": "code",
   "execution_count": null,
   "id": "b84c0737",
   "metadata": {},
   "outputs": [],
   "source": []
  },
  {
   "cell_type": "code",
   "execution_count": null,
   "id": "ce5efd03",
   "metadata": {},
   "outputs": [],
   "source": []
  },
  {
   "cell_type": "code",
   "execution_count": null,
   "id": "9559383e",
   "metadata": {},
   "outputs": [],
   "source": [
    "# Form objective.\n",
    "obj = cp.Minimize((x - y)**2)\n",
    "\n",
    "# Form and solve problem.\n",
    "prob = cp.Problem(obj, constraints)\n",
    "\n",
    "\n"
   ]
  },
  {
   "cell_type": "code",
   "execution_count": 353,
   "id": "430bf0ae",
   "metadata": {},
   "outputs": [
    {
     "name": "stderr",
     "output_type": "stream",
     "text": [
      "/var/folders/7l/9g4tmq2s5zg48_szmd8z7qh40000gn/T/ipykernel_64757/2791763583.py:8: DeprecationWarning: elementwise comparison failed; this will raise an error in the future.\n",
      "  g_exp[np.where(g_exp==0)]=1 # set values not affecting cost to 1 (so np.prod doesn't go to zero!)\n",
      "/var/folders/7l/9g4tmq2s5zg48_szmd8z7qh40000gn/T/ipykernel_64757/2791763583.py:11: DeprecationWarning: elementwise comparison failed; this will raise an error in the future.\n",
      "  r_exp[np.where(r_exp==0)]=1\n"
     ]
    },
    {
     "ename": "DCPError",
     "evalue": "Problem does not follow DCP rules. Specifically:\nThe objective is not DCP. Its following subexpressions are not:\n0.0 @ var9975 @ 0.0 @ var9976\n0.0 @ var9984 @ 0.0 @ var9985\n1.0 @ var9975 @ 0.0 @ var9976\n0.0 @ var9984 @ 0.0 @ var9985\n0.0 @ var9975 @ 0.0 @ var9976\n1.0 @ var9984 @ 0.0 @ var9985\n1.0 @ var9975 @ 0.0 @ var9976\n1.0 @ var9984 @ 0.0 @ var9985\n1.0 @ var9975 @ 1.0 @ var9976\n0.0 @ var9984 @ 0.0 @ var9985\n0.0 @ var9975 @ 1.0 @ var9976\n0.0 @ var9984 @ 0.0 @ var9985\n1.0 @ var9975 @ 1.0 @ var9976\n1.0 @ var9984 @ 0.0 @ var9985\n0.0 @ var9975 @ 0.0 @ var9976\n1.0 @ var9984 @ 0.0 @ var9985\n1.0 @ var9975 @ 0.0 @ var9976\n1.0 @ var9984 @ 0.0 @ var9985\n0.0 @ var9975 @ 0.0 @ var9976\n0.0 @ var9984 @ 0.0 @ var9985\n1.0 @ var9975 @ 1.0 @ var9976\n1.0 @ var9984 @ 0.0 @ var9985\n0.0 @ var9975 @ 0.0 @ var9976\n0.0 @ var9984 @ 0.0 @ var9985\n1.0 @ var9975 @ 0.0 @ var9976\n0.0 @ var9984 @ 0.0 @ var9985\n0.0 @ var9975 @ 0.0 @ var9976\n1.0 @ var9984 @ 0.0 @ var9985\n1.0 @ var9975 @ 1.0 @ var9976\n0.0 @ var9984 @ 0.0 @ var9985\n0.0 @ var9975 @ 0.0 @ var9976\n1.0 @ var9984 @ 0.0 @ var9985\n0.0 @ var9975 @ 0.0 @ var9976\n0.0 @ var9984 @ 0.0 @ var9985\n1.0 @ var9975 @ 0.0 @ var9976\n0.0 @ var9984 @ 0.0 @ var9985\n0.0 @ var9975 @ 0.0 @ var9976\n1.0 @ var9984 @ 0.0 @ var9985\n1.0 @ var9975 @ 1.0 @ var9976\n0.0 @ var9984 @ 0.0 @ var9985\n0.0 @ var9975 @ 0.0 @ var9976\n1.0 @ var9984 @ 0.0 @ var9985\n0.0 @ var9975 @ 0.0 @ var9976\n0.0 @ var9984 @ 0.0 @ var9985\n0.0 @ var9975 @ 0.0 @ var9976\n0.0 @ var9984 @ 0.0 @ var9985\n1.0 @ var9975 @ 0.0 @ var9976\n0.0 @ var9984 @ 0.0 @ var9985\n0.0 @ var9975 @ 0.0 @ var9976\n1.0 @ var9984 @ 0.0 @ var9985\n1.0 @ var9975 @ 1.0 @ var9976\n0.0 @ var9984 @ 0.0 @ var9985\n0.0 @ var9975 @ 0.0 @ var9976\n1.0 @ var9984 @ 0.0 @ var9985\n0.0 @ var9975 @ 0.0 @ var9976\n0.0 @ var9984 @ 0.0 @ var9985\n0.0 @ var9975 @ 0.0 @ var9976\n0.0 @ var9984 @ 0.0 @ var9985\n0.0 @ var9975 @ 0.0 @ var9976\n0.0 @ var9984 @ 0.0 @ var9985\n1.0 @ var9975 @ 0.0 @ var9976\n0.0 @ var9984 @ 0.0 @ var9985\n0.0 @ var9975 @ 0.0 @ var9976\n1.0 @ var9984 @ 0.0 @ var9985\n1.0 @ var9975 @ 1.0 @ var9976\n0.0 @ var9984 @ 0.0 @ var9985\n0.0 @ var9975 @ 0.0 @ var9976\n1.0 @ var9984 @ 0.0 @ var9985\n0.0 @ var9975 @ 0.0 @ var9976\n0.0 @ var9984 @ 0.0 @ var9985\n0.0 @ var9975 @ 0.0 @ var9976\n0.0 @ var9984 @ 0.0 @ var9985\n0.0 @ var9975 @ 0.0 @ var9976\n0.0 @ var9984 @ 0.0 @ var9985\n0.0 @ var9975 @ 0.0 @ var9976\n0.0 @ var9984 @ 0.0 @ var9985\n1.0 @ var9975 @ 0.0 @ var9976\n0.0 @ var9984 @ 0.0 @ var9985\n0.0 @ var9975 @ 0.0 @ var9976\n1.0 @ var9984 @ 0.0 @ var9985\n1.0 @ var9975 @ 1.0 @ var9976\n0.0 @ var9984 @ 0.0 @ var9985\n0.0 @ var9975 @ 0.0 @ var9976\n1.0 @ var9984 @ 0.0 @ var9985\n0.0 @ var9975 @ 0.0 @ var9976\n0.0 @ var9984 @ 0.0 @ var9985\n0.0 @ var9975 @ 0.0 @ var9976\n0.0 @ var9984 @ 0.0 @ var9985\n0.0 @ var9975 @ 0.0 @ var9976\n0.0 @ var9984 @ 0.0 @ var9985\n0.0 @ var9975 @ 0.0 @ var9976\n0.0 @ var9984 @ 0.0 @ var9985\n0.0 @ var9975 @ 0.0 @ var9976\n0.0 @ var9984 @ 0.0 @ var9985\n1.0 @ var9975 @ 0.0 @ var9976\n0.0 @ var9984 @ 0.0 @ var9985\n0.0 @ var9975 @ 0.0 @ var9976\n1.0 @ var9984 @ 0.0 @ var9985\n1.0 @ var9975 @ 1.0 @ var9976\n0.0 @ var9984 @ 0.0 @ var9985\n0.0 @ var9975 @ 0.0 @ var9976\n1.0 @ var9984 @ 0.0 @ var9985\n0.0 @ var9975 @ 0.0 @ var9976\n0.0 @ var9984 @ 0.0 @ var9985\n0.0 @ var9975 @ 0.0 @ var9976\n0.0 @ var9984 @ 0.0 @ var9985\n0.0 @ var9975 @ 0.0 @ var9976\n0.0 @ var9984 @ 0.0 @ var9985\n0.0 @ var9975 @ 0.0 @ var9976\n0.0 @ var9984 @ 0.0 @ var9985\n0.0 @ var9975 @ 0.0 @ var9976\n0.0 @ var9984 @ 0.0 @ var9985\n0.0 @ var9975 @ 1.0 @ var9976\n0.0 @ var9984 @ 1.0 @ var9985\n1.0 @ var9975 @ 0.0 @ var9976\n0.0 @ var9984 @ 1.0 @ var9985\n0.0 @ var9975 @ 0.0 @ var9976\n0.0 @ var9984 @ 1.0 @ var9985\n0.0 @ var9975 @ 1.0 @ var9976\n0.0 @ var9984 @ 1.0 @ var9985\n1.0 @ var9975 @ 0.0 @ var9976\n0.0 @ var9984 @ 1.0 @ var9985\n0.0 @ var9975 @ 0.0 @ var9976\n0.0 @ var9984 @ 1.0 @ var9985\n1.0 @ var9975 @ 0.0 @ var9976\n0.0 @ var9984 @ 1.0 @ var9985\n1.0 @ var9975 @ 0.0 @ var9976\n0.0 @ var9984 @ 1.0 @ var9985\n1.0 @ var9975 @ 0.0 @ var9976\n0.0 @ var9984 @ 1.0 @ var9985\n1.0 @ var9975 @ 0.0 @ var9976\n0.0 @ var9984 @ 1.0 @ var9985\n1.0 @ var9975 @ 0.0 @ var9976\n0.0 @ var9984 @ 1.0 @ var9985\n1.0 @ var9975 @ 0.0 @ var9976\n0.0 @ var9984 @ 1.0 @ var9985\n1.0 @ var9975 @ 0.0 @ var9976\n0.0 @ var9984 @ 1.0 @ var9985\n1.0 @ var9975 @ 0.0 @ var9976\n0.0 @ var9984 @ 1.0 @ var9985\n1.0 @ var9975 @ 0.0 @ var9976\n0.0 @ var9984 @ 1.0 @ var9985\n1.0 @ var9975 @ 0.0 @ var9976\n0.0 @ var9984 @ 1.0 @ var9985\n1.0 @ var9975 @ 0.0 @ var9976\n0.0 @ var9984 @ 1.0 @ var9985\n1.0 @ var9975 @ 0.0 @ var9976\n0.0 @ var9984 @ 1.0 @ var9985",
     "output_type": "error",
     "traceback": [
      "\u001b[0;31m---------------------------------------------------------------------------\u001b[0m",
      "\u001b[0;31mDCPError\u001b[0m                                  Traceback (most recent call last)",
      "\u001b[0;32m/var/folders/7l/9g4tmq2s5zg48_szmd8z7qh40000gn/T/ipykernel_64757/1019696076.py\u001b[0m in \u001b[0;36m<cell line: 15>\u001b[0;34m()\u001b[0m\n\u001b[1;32m     13\u001b[0m \u001b[0mobj\u001b[0m \u001b[0;34m=\u001b[0m \u001b[0mcp\u001b[0m\u001b[0;34m.\u001b[0m\u001b[0mMinimize\u001b[0m\u001b[0;34m(\u001b[0m\u001b[0mnew_cost_F\u001b[0m\u001b[0;34m(\u001b[0m\u001b[0mvar_list\u001b[0m\u001b[0;34m)\u001b[0m\u001b[0;34m)\u001b[0m\u001b[0;34m\u001b[0m\u001b[0;34m\u001b[0m\u001b[0m\n\u001b[1;32m     14\u001b[0m \u001b[0mprob\u001b[0m \u001b[0;34m=\u001b[0m \u001b[0mcp\u001b[0m\u001b[0;34m.\u001b[0m\u001b[0mProblem\u001b[0m\u001b[0;34m(\u001b[0m\u001b[0mobj\u001b[0m\u001b[0;34m,\u001b[0m \u001b[0mcons\u001b[0m\u001b[0;34m)\u001b[0m\u001b[0;34m\u001b[0m\u001b[0;34m\u001b[0m\u001b[0m\n\u001b[0;32m---> 15\u001b[0;31m \u001b[0mprob\u001b[0m\u001b[0;34m.\u001b[0m\u001b[0msolve\u001b[0m\u001b[0;34m(\u001b[0m\u001b[0;34m)\u001b[0m\u001b[0;34m\u001b[0m\u001b[0;34m\u001b[0m\u001b[0m\n\u001b[0m",
      "\u001b[0;32m~/anaconda3/envs/symred/lib/python3.9/site-packages/cvxpy/problems/problem.py\u001b[0m in \u001b[0;36msolve\u001b[0;34m(self, *args, **kwargs)\u001b[0m\n\u001b[1;32m    479\u001b[0m         \u001b[0;32melse\u001b[0m\u001b[0;34m:\u001b[0m\u001b[0;34m\u001b[0m\u001b[0;34m\u001b[0m\u001b[0m\n\u001b[1;32m    480\u001b[0m             \u001b[0msolve_func\u001b[0m \u001b[0;34m=\u001b[0m \u001b[0mProblem\u001b[0m\u001b[0;34m.\u001b[0m\u001b[0m_solve\u001b[0m\u001b[0;34m\u001b[0m\u001b[0;34m\u001b[0m\u001b[0m\n\u001b[0;32m--> 481\u001b[0;31m         \u001b[0;32mreturn\u001b[0m \u001b[0msolve_func\u001b[0m\u001b[0;34m(\u001b[0m\u001b[0mself\u001b[0m\u001b[0;34m,\u001b[0m \u001b[0;34m*\u001b[0m\u001b[0margs\u001b[0m\u001b[0;34m,\u001b[0m \u001b[0;34m**\u001b[0m\u001b[0mkwargs\u001b[0m\u001b[0;34m)\u001b[0m\u001b[0;34m\u001b[0m\u001b[0;34m\u001b[0m\u001b[0m\n\u001b[0m\u001b[1;32m    482\u001b[0m \u001b[0;34m\u001b[0m\u001b[0m\n\u001b[1;32m    483\u001b[0m     \u001b[0;34m@\u001b[0m\u001b[0mclassmethod\u001b[0m\u001b[0;34m\u001b[0m\u001b[0;34m\u001b[0m\u001b[0m\n",
      "\u001b[0;32m~/anaconda3/envs/symred/lib/python3.9/site-packages/cvxpy/problems/problem.py\u001b[0m in \u001b[0;36m_solve\u001b[0;34m(self, solver, warm_start, verbose, gp, qcp, requires_grad, enforce_dpp, ignore_dpp, **kwargs)\u001b[0m\n\u001b[1;32m   1001\u001b[0m                 \u001b[0;32mreturn\u001b[0m \u001b[0mself\u001b[0m\u001b[0;34m.\u001b[0m\u001b[0mvalue\u001b[0m\u001b[0;34m\u001b[0m\u001b[0;34m\u001b[0m\u001b[0m\n\u001b[1;32m   1002\u001b[0m \u001b[0;34m\u001b[0m\u001b[0m\n\u001b[0;32m-> 1003\u001b[0;31m         data, solving_chain, inverse_data = self.get_problem_data(\n\u001b[0m\u001b[1;32m   1004\u001b[0m             solver, gp, enforce_dpp, ignore_dpp, verbose)\n\u001b[1;32m   1005\u001b[0m \u001b[0;34m\u001b[0m\u001b[0m\n",
      "\u001b[0;32m~/anaconda3/envs/symred/lib/python3.9/site-packages/cvxpy/problems/problem.py\u001b[0m in \u001b[0;36mget_problem_data\u001b[0;34m(self, solver, gp, enforce_dpp, ignore_dpp, verbose)\u001b[0m\n\u001b[1;32m    605\u001b[0m         \u001b[0;32mif\u001b[0m \u001b[0mkey\u001b[0m \u001b[0;34m!=\u001b[0m \u001b[0mself\u001b[0m\u001b[0;34m.\u001b[0m\u001b[0m_cache\u001b[0m\u001b[0;34m.\u001b[0m\u001b[0mkey\u001b[0m\u001b[0;34m:\u001b[0m\u001b[0;34m\u001b[0m\u001b[0;34m\u001b[0m\u001b[0m\n\u001b[1;32m    606\u001b[0m             \u001b[0mself\u001b[0m\u001b[0;34m.\u001b[0m\u001b[0m_cache\u001b[0m\u001b[0;34m.\u001b[0m\u001b[0minvalidate\u001b[0m\u001b[0;34m(\u001b[0m\u001b[0;34m)\u001b[0m\u001b[0;34m\u001b[0m\u001b[0;34m\u001b[0m\u001b[0m\n\u001b[0;32m--> 607\u001b[0;31m             solving_chain = self._construct_chain(\n\u001b[0m\u001b[1;32m    608\u001b[0m                 \u001b[0msolver\u001b[0m\u001b[0;34m=\u001b[0m\u001b[0msolver\u001b[0m\u001b[0;34m,\u001b[0m \u001b[0mgp\u001b[0m\u001b[0;34m=\u001b[0m\u001b[0mgp\u001b[0m\u001b[0;34m,\u001b[0m\u001b[0;34m\u001b[0m\u001b[0;34m\u001b[0m\u001b[0m\n\u001b[1;32m    609\u001b[0m                 \u001b[0menforce_dpp\u001b[0m\u001b[0;34m=\u001b[0m\u001b[0menforce_dpp\u001b[0m\u001b[0;34m,\u001b[0m\u001b[0;34m\u001b[0m\u001b[0;34m\u001b[0m\u001b[0m\n",
      "\u001b[0;32m~/anaconda3/envs/symred/lib/python3.9/site-packages/cvxpy/problems/problem.py\u001b[0m in \u001b[0;36m_construct_chain\u001b[0;34m(self, solver, gp, enforce_dpp, ignore_dpp)\u001b[0m\n\u001b[1;32m    839\u001b[0m         \u001b[0mcandidate_solvers\u001b[0m \u001b[0;34m=\u001b[0m \u001b[0mself\u001b[0m\u001b[0;34m.\u001b[0m\u001b[0m_find_candidate_solvers\u001b[0m\u001b[0;34m(\u001b[0m\u001b[0msolver\u001b[0m\u001b[0;34m=\u001b[0m\u001b[0msolver\u001b[0m\u001b[0;34m,\u001b[0m \u001b[0mgp\u001b[0m\u001b[0;34m=\u001b[0m\u001b[0mgp\u001b[0m\u001b[0;34m)\u001b[0m\u001b[0;34m\u001b[0m\u001b[0;34m\u001b[0m\u001b[0m\n\u001b[1;32m    840\u001b[0m         \u001b[0mself\u001b[0m\u001b[0;34m.\u001b[0m\u001b[0m_sort_candidate_solvers\u001b[0m\u001b[0;34m(\u001b[0m\u001b[0mcandidate_solvers\u001b[0m\u001b[0;34m)\u001b[0m\u001b[0;34m\u001b[0m\u001b[0;34m\u001b[0m\u001b[0m\n\u001b[0;32m--> 841\u001b[0;31m         return construct_solving_chain(self, candidate_solvers, gp=gp,\n\u001b[0m\u001b[1;32m    842\u001b[0m                                        \u001b[0menforce_dpp\u001b[0m\u001b[0;34m=\u001b[0m\u001b[0menforce_dpp\u001b[0m\u001b[0;34m,\u001b[0m\u001b[0;34m\u001b[0m\u001b[0;34m\u001b[0m\u001b[0m\n\u001b[1;32m    843\u001b[0m                                        ignore_dpp=ignore_dpp)\n",
      "\u001b[0;32m~/anaconda3/envs/symred/lib/python3.9/site-packages/cvxpy/reductions/solvers/solving_chain.py\u001b[0m in \u001b[0;36mconstruct_solving_chain\u001b[0;34m(problem, candidates, gp, enforce_dpp, ignore_dpp)\u001b[0m\n\u001b[1;32m    160\u001b[0m     \u001b[0;32mif\u001b[0m \u001b[0mlen\u001b[0m\u001b[0;34m(\u001b[0m\u001b[0mproblem\u001b[0m\u001b[0;34m.\u001b[0m\u001b[0mvariables\u001b[0m\u001b[0;34m(\u001b[0m\u001b[0;34m)\u001b[0m\u001b[0;34m)\u001b[0m \u001b[0;34m==\u001b[0m \u001b[0;36m0\u001b[0m\u001b[0;34m:\u001b[0m\u001b[0;34m\u001b[0m\u001b[0;34m\u001b[0m\u001b[0m\n\u001b[1;32m    161\u001b[0m         \u001b[0;32mreturn\u001b[0m \u001b[0mSolvingChain\u001b[0m\u001b[0;34m(\u001b[0m\u001b[0mreductions\u001b[0m\u001b[0;34m=\u001b[0m\u001b[0;34m[\u001b[0m\u001b[0mConstantSolver\u001b[0m\u001b[0;34m(\u001b[0m\u001b[0;34m)\u001b[0m\u001b[0;34m]\u001b[0m\u001b[0;34m)\u001b[0m\u001b[0;34m\u001b[0m\u001b[0;34m\u001b[0m\u001b[0m\n\u001b[0;32m--> 162\u001b[0;31m     \u001b[0mreductions\u001b[0m \u001b[0;34m=\u001b[0m \u001b[0m_reductions_for_problem_class\u001b[0m\u001b[0;34m(\u001b[0m\u001b[0mproblem\u001b[0m\u001b[0;34m,\u001b[0m \u001b[0mcandidates\u001b[0m\u001b[0;34m,\u001b[0m \u001b[0mgp\u001b[0m\u001b[0;34m)\u001b[0m\u001b[0;34m\u001b[0m\u001b[0;34m\u001b[0m\u001b[0m\n\u001b[0m\u001b[1;32m    163\u001b[0m \u001b[0;34m\u001b[0m\u001b[0m\n\u001b[1;32m    164\u001b[0m     \u001b[0;31m# Process DPP status of the problem.\u001b[0m\u001b[0;34m\u001b[0m\u001b[0;34m\u001b[0m\u001b[0m\n",
      "\u001b[0;32m~/anaconda3/envs/symred/lib/python3.9/site-packages/cvxpy/reductions/solvers/solving_chain.py\u001b[0m in \u001b[0;36m_reductions_for_problem_class\u001b[0;34m(problem, candidates, gp)\u001b[0m\n\u001b[1;32m     92\u001b[0m             append += (\"\\nHowever, the problem does follow DQCP rules. \"\n\u001b[1;32m     93\u001b[0m                        \"Consider calling solve() with `qcp=True`.\")\n\u001b[0;32m---> 94\u001b[0;31m         raise DCPError(\n\u001b[0m\u001b[1;32m     95\u001b[0m             \"Problem does not follow DCP rules. Specifically:\\n\" + append)\n\u001b[1;32m     96\u001b[0m     \u001b[0;32melif\u001b[0m \u001b[0mgp\u001b[0m \u001b[0;32mand\u001b[0m \u001b[0;32mnot\u001b[0m \u001b[0mproblem\u001b[0m\u001b[0;34m.\u001b[0m\u001b[0mis_dgp\u001b[0m\u001b[0;34m(\u001b[0m\u001b[0;34m)\u001b[0m\u001b[0;34m:\u001b[0m\u001b[0;34m\u001b[0m\u001b[0;34m\u001b[0m\u001b[0m\n",
      "\u001b[0;31mDCPError\u001b[0m: Problem does not follow DCP rules. Specifically:\nThe objective is not DCP. Its following subexpressions are not:\n0.0 @ var9975 @ 0.0 @ var9976\n0.0 @ var9984 @ 0.0 @ var9985\n1.0 @ var9975 @ 0.0 @ var9976\n0.0 @ var9984 @ 0.0 @ var9985\n0.0 @ var9975 @ 0.0 @ var9976\n1.0 @ var9984 @ 0.0 @ var9985\n1.0 @ var9975 @ 0.0 @ var9976\n1.0 @ var9984 @ 0.0 @ var9985\n1.0 @ var9975 @ 1.0 @ var9976\n0.0 @ var9984 @ 0.0 @ var9985\n0.0 @ var9975 @ 1.0 @ var9976\n0.0 @ var9984 @ 0.0 @ var9985\n1.0 @ var9975 @ 1.0 @ var9976\n1.0 @ var9984 @ 0.0 @ var9985\n0.0 @ var9975 @ 0.0 @ var9976\n1.0 @ var9984 @ 0.0 @ var9985\n1.0 @ var9975 @ 0.0 @ var9976\n1.0 @ var9984 @ 0.0 @ var9985\n0.0 @ var9975 @ 0.0 @ var9976\n0.0 @ var9984 @ 0.0 @ var9985\n1.0 @ var9975 @ 1.0 @ var9976\n1.0 @ var9984 @ 0.0 @ var9985\n0.0 @ var9975 @ 0.0 @ var9976\n0.0 @ var9984 @ 0.0 @ var9985\n1.0 @ var9975 @ 0.0 @ var9976\n0.0 @ var9984 @ 0.0 @ var9985\n0.0 @ var9975 @ 0.0 @ var9976\n1.0 @ var9984 @ 0.0 @ var9985\n1.0 @ var9975 @ 1.0 @ var9976\n0.0 @ var9984 @ 0.0 @ var9985\n0.0 @ var9975 @ 0.0 @ var9976\n1.0 @ var9984 @ 0.0 @ var9985\n0.0 @ var9975 @ 0.0 @ var9976\n0.0 @ var9984 @ 0.0 @ var9985\n1.0 @ var9975 @ 0.0 @ var9976\n0.0 @ var9984 @ 0.0 @ var9985\n0.0 @ var9975 @ 0.0 @ var9976\n1.0 @ var9984 @ 0.0 @ var9985\n1.0 @ var9975 @ 1.0 @ var9976\n0.0 @ var9984 @ 0.0 @ var9985\n0.0 @ var9975 @ 0.0 @ var9976\n1.0 @ var9984 @ 0.0 @ var9985\n0.0 @ var9975 @ 0.0 @ var9976\n0.0 @ var9984 @ 0.0 @ var9985\n0.0 @ var9975 @ 0.0 @ var9976\n0.0 @ var9984 @ 0.0 @ var9985\n1.0 @ var9975 @ 0.0 @ var9976\n0.0 @ var9984 @ 0.0 @ var9985\n0.0 @ var9975 @ 0.0 @ var9976\n1.0 @ var9984 @ 0.0 @ var9985\n1.0 @ var9975 @ 1.0 @ var9976\n0.0 @ var9984 @ 0.0 @ var9985\n0.0 @ var9975 @ 0.0 @ var9976\n1.0 @ var9984 @ 0.0 @ var9985\n0.0 @ var9975 @ 0.0 @ var9976\n0.0 @ var9984 @ 0.0 @ var9985\n0.0 @ var9975 @ 0.0 @ var9976\n0.0 @ var9984 @ 0.0 @ var9985\n0.0 @ var9975 @ 0.0 @ var9976\n0.0 @ var9984 @ 0.0 @ var9985\n1.0 @ var9975 @ 0.0 @ var9976\n0.0 @ var9984 @ 0.0 @ var9985\n0.0 @ var9975 @ 0.0 @ var9976\n1.0 @ var9984 @ 0.0 @ var9985\n1.0 @ var9975 @ 1.0 @ var9976\n0.0 @ var9984 @ 0.0 @ var9985\n0.0 @ var9975 @ 0.0 @ var9976\n1.0 @ var9984 @ 0.0 @ var9985\n0.0 @ var9975 @ 0.0 @ var9976\n0.0 @ var9984 @ 0.0 @ var9985\n0.0 @ var9975 @ 0.0 @ var9976\n0.0 @ var9984 @ 0.0 @ var9985\n0.0 @ var9975 @ 0.0 @ var9976\n0.0 @ var9984 @ 0.0 @ var9985\n0.0 @ var9975 @ 0.0 @ var9976\n0.0 @ var9984 @ 0.0 @ var9985\n1.0 @ var9975 @ 0.0 @ var9976\n0.0 @ var9984 @ 0.0 @ var9985\n0.0 @ var9975 @ 0.0 @ var9976\n1.0 @ var9984 @ 0.0 @ var9985\n1.0 @ var9975 @ 1.0 @ var9976\n0.0 @ var9984 @ 0.0 @ var9985\n0.0 @ var9975 @ 0.0 @ var9976\n1.0 @ var9984 @ 0.0 @ var9985\n0.0 @ var9975 @ 0.0 @ var9976\n0.0 @ var9984 @ 0.0 @ var9985\n0.0 @ var9975 @ 0.0 @ var9976\n0.0 @ var9984 @ 0.0 @ var9985\n0.0 @ var9975 @ 0.0 @ var9976\n0.0 @ var9984 @ 0.0 @ var9985\n0.0 @ var9975 @ 0.0 @ var9976\n0.0 @ var9984 @ 0.0 @ var9985\n0.0 @ var9975 @ 0.0 @ var9976\n0.0 @ var9984 @ 0.0 @ var9985\n1.0 @ var9975 @ 0.0 @ var9976\n0.0 @ var9984 @ 0.0 @ var9985\n0.0 @ var9975 @ 0.0 @ var9976\n1.0 @ var9984 @ 0.0 @ var9985\n1.0 @ var9975 @ 1.0 @ var9976\n0.0 @ var9984 @ 0.0 @ var9985\n0.0 @ var9975 @ 0.0 @ var9976\n1.0 @ var9984 @ 0.0 @ var9985\n0.0 @ var9975 @ 0.0 @ var9976\n0.0 @ var9984 @ 0.0 @ var9985\n0.0 @ var9975 @ 0.0 @ var9976\n0.0 @ var9984 @ 0.0 @ var9985\n0.0 @ var9975 @ 0.0 @ var9976\n0.0 @ var9984 @ 0.0 @ var9985\n0.0 @ var9975 @ 0.0 @ var9976\n0.0 @ var9984 @ 0.0 @ var9985\n0.0 @ var9975 @ 0.0 @ var9976\n0.0 @ var9984 @ 0.0 @ var9985\n0.0 @ var9975 @ 1.0 @ var9976\n0.0 @ var9984 @ 1.0 @ var9985\n1.0 @ var9975 @ 0.0 @ var9976\n0.0 @ var9984 @ 1.0 @ var9985\n0.0 @ var9975 @ 0.0 @ var9976\n0.0 @ var9984 @ 1.0 @ var9985\n0.0 @ var9975 @ 1.0 @ var9976\n0.0 @ var9984 @ 1.0 @ var9985\n1.0 @ var9975 @ 0.0 @ var9976\n0.0 @ var9984 @ 1.0 @ var9985\n0.0 @ var9975 @ 0.0 @ var9976\n0.0 @ var9984 @ 1.0 @ var9985\n1.0 @ var9975 @ 0.0 @ var9976\n0.0 @ var9984 @ 1.0 @ var9985\n1.0 @ var9975 @ 0.0 @ var9976\n0.0 @ var9984 @ 1.0 @ var9985\n1.0 @ var9975 @ 0.0 @ var9976\n0.0 @ var9984 @ 1.0 @ var9985\n1.0 @ var9975 @ 0.0 @ var9976\n0.0 @ var9984 @ 1.0 @ var9985\n1.0 @ var9975 @ 0.0 @ var9976\n0.0 @ var9984 @ 1.0 @ var9985\n1.0 @ var9975 @ 0.0 @ var9976\n0.0 @ var9984 @ 1.0 @ var9985\n1.0 @ var9975 @ 0.0 @ var9976\n0.0 @ var9984 @ 1.0 @ var9985\n1.0 @ var9975 @ 0.0 @ var9976\n0.0 @ var9984 @ 1.0 @ var9985\n1.0 @ var9975 @ 0.0 @ var9976\n0.0 @ var9984 @ 1.0 @ var9985\n1.0 @ var9975 @ 0.0 @ var9976\n0.0 @ var9984 @ 1.0 @ var9985\n1.0 @ var9975 @ 0.0 @ var9976\n0.0 @ var9984 @ 1.0 @ var9985\n1.0 @ var9975 @ 0.0 @ var9976\n0.0 @ var9984 @ 1.0 @ var9985"
     ]
    }
   ],
   "source": [
    "size_G = contextual_sub.symmetry_generators.n_terms\n",
    "size_R = contextual_sub.n_cliques\n",
    "size = size_G + size_R\n",
    "var_list = [cp.Variable() for var_ind in range(size)]\n",
    "\n",
    "# G constraint\n",
    "cons = [cp.square(var)<= 1 for var in var_list[:size_G]]\n",
    "\n",
    "# R constraint\n",
    "# cons += [cp.sum_squares(var_list[size_G:])==1]\n",
    "cons += [cp.square(var_list[size_G:][0])+cp.square(var_list[size_G:][1])==1]\n",
    "\n",
    "obj = cp.Minimize(new_cost_F(var_list))\n",
    "prob = cp.Problem(obj, cons)\n",
    "prob.solve()"
   ]
  },
  {
   "cell_type": "code",
   "execution_count": 201,
   "id": "d59b019b",
   "metadata": {},
   "outputs": [
    {
     "data": {
      "text/plain": [
       "0"
      ]
     },
     "execution_count": 201,
     "metadata": {},
     "output_type": "execute_result"
    }
   ],
   "source": [
    "\n",
    "# Create scalar optimization variables.\n",
    "size = contextual_sub.symmetry_generators.n_terms + contextual_sub.n_cliques\n",
    "var_list = = [cp.Variable() for var_ind in range(size)]\n",
    "\n",
    "# Create two constraints.\n",
    "constraints = [|var|<=1for var in var_list]\n",
    "\n",
    "# Form objective.\n",
    "obj = cp.Minimize((x - y)**2)\n",
    "\n",
    "# Form and solve problem.\n",
    "prob = cp.Problem(obj, constraints)\n",
    "prob.solve()\n",
    "\n",
    "# The optimal dual variable (Lagrange multiplier) for\n",
    "# a constraint is stored in constraint.dual_value.\n",
    "print(\"optimal (x + y == 1) dual variable\", constraints[0].dual_value)\n",
    "print(\"optimal (x - y >= 1) dual variable\", constraints[1].dual_value)\n",
    "print(\"x - y value:\", (x - y).value)"
   ]
  },
  {
   "cell_type": "code",
   "execution_count": 197,
   "id": "f3dec1dc",
   "metadata": {},
   "outputs": [
    {
     "data": {
      "text/plain": [
       "array([-1.        ,  1.        ,  1.        ,  1.        ,  1.        ,\n",
       "        1.        ,  1.        ,  1.        ,  1.        , -1.        ,\n",
       "       -0.70649809])"
      ]
     },
     "execution_count": 197,
     "metadata": {},
     "output_type": "execute_result"
    }
   ],
   "source": [
    "optimizer_output.x"
   ]
  },
  {
   "cell_type": "code",
   "execution_count": 184,
   "id": "54d4d5cb",
   "metadata": {},
   "outputs": [
    {
     "data": {
      "text/plain": [
       "array([-1.00000000e+00,  1.22464680e-16, -2.99951957e-32])"
      ]
     },
     "execution_count": 184,
     "metadata": {},
     "output_type": "execute_result"
    }
   ],
   "source": [
    "angles = [np.pi, 2*np.pi]\n",
    "cartesians = [np.prod(np.sin(angles[:i]))*np.cos(angles[i]) for i in range(len(angles))]\n",
    "cartesians.append(np.prod(np.sin(angles)))\n",
    "np.array(cartesians)"
   ]
  },
  {
   "cell_type": "code",
   "execution_count": null,
   "id": "37924117",
   "metadata": {},
   "outputs": [],
   "source": [
    "r_bounds = [(0, np.pi)]*(self.n_cliques-2)+[(0, 2*np.pi)]\n",
    "optimizer_output = differential_evolution(\n",
    "    func=lambda angles:self.noncontextual_objective_function(\n",
    "        nu, unit_n_sphere_cartesian_coords(angles)\n",
    "        ), \n",
    "    bounds=r_bounds"
   ]
  },
  {
   "cell_type": "code",
   "execution_count": null,
   "id": "81f4f509",
   "metadata": {},
   "outputs": [],
   "source": []
  },
  {
   "cell_type": "code",
   "execution_count": 15,
   "id": "ddba2a82",
   "metadata": {},
   "outputs": [],
   "source": [
    "import cvxpy as cp"
   ]
  },
  {
   "cell_type": "code",
   "execution_count": 34,
   "id": "04e51dec",
   "metadata": {},
   "outputs": [
    {
     "data": {
      "text/plain": [
       "array([[1.10427193, 0.99040005, 1.1384572 , 0.6317542 ],\n",
       "       [0.99040005, 1.33268412, 1.21742497, 0.60147133],\n",
       "       [1.1384572 , 1.21742497, 1.80624826, 0.4064872 ],\n",
       "       [0.6317542 , 0.60147133, 0.4064872 , 0.74301387]])"
      ]
     },
     "execution_count": 34,
     "metadata": {},
     "output_type": "execute_result"
    }
   ],
   "source": [
    "matrixSize =4\n",
    "A = np.random.rand(matrixSize, matrixSize)\n",
    "B = np.dot(A, A.transpose())\n",
    "\n",
    "B"
   ]
  },
  {
   "cell_type": "code",
   "execution_count": 58,
   "id": "c905a60b",
   "metadata": {},
   "outputs": [
    {
     "data": {
      "text/plain": [
       "0"
      ]
     },
     "execution_count": 58,
     "metadata": {},
     "output_type": "execute_result"
    }
   ],
   "source": [
    "(1+1)%2"
   ]
  },
  {
   "cell_type": "code",
   "execution_count": 59,
   "id": "b087d66a",
   "metadata": {},
   "outputs": [
    {
     "ename": "TypeError",
     "evalue": "unsupported operand type(s) for %: 'AddExpression' and 'int'",
     "output_type": "error",
     "traceback": [
      "\u001b[0;31m---------------------------------------------------------------------------\u001b[0m",
      "\u001b[0;31mTypeError\u001b[0m                                 Traceback (most recent call last)",
      "\u001b[0;32m/var/folders/7l/9g4tmq2s5zg48_szmd8z7qh40000gn/T/ipykernel_64757/208847478.py\u001b[0m in \u001b[0;36m<cell line: 8>\u001b[0;34m()\u001b[0m\n\u001b[1;32m      6\u001b[0m \u001b[0mX\u001b[0m \u001b[0;34m=\u001b[0m \u001b[0mcp\u001b[0m\u001b[0;34m.\u001b[0m\u001b[0mVariable\u001b[0m\u001b[0;34m(\u001b[0m\u001b[0;34m(\u001b[0m\u001b[0mopt_vec_size\u001b[0m\u001b[0;34m)\u001b[0m\u001b[0;34m)\u001b[0m\u001b[0;34m\u001b[0m\u001b[0;34m\u001b[0m\u001b[0m\n\u001b[1;32m      7\u001b[0m \u001b[0;34m\u001b[0m\u001b[0m\n\u001b[0;32m----> 8\u001b[0;31m \u001b[0mconstraints\u001b[0m \u001b[0;34m=\u001b[0m \u001b[0;34m[\u001b[0m\u001b[0;34m(\u001b[0m\u001b[0;36m1\u001b[0m\u001b[0;34m+\u001b[0m\u001b[0mX\u001b[0m\u001b[0;34m[\u001b[0m\u001b[0mind\u001b[0m\u001b[0;34m]\u001b[0m\u001b[0;34m)\u001b[0m\u001b[0;34m%\u001b[0m\u001b[0;36m2\u001b[0m\u001b[0;34m==\u001b[0m\u001b[0;36m0\u001b[0m \u001b[0;32mfor\u001b[0m \u001b[0mind\u001b[0m \u001b[0;32min\u001b[0m \u001b[0mrange\u001b[0m\u001b[0;34m(\u001b[0m\u001b[0mnum_G\u001b[0m\u001b[0;34m)\u001b[0m\u001b[0;34m]\u001b[0m\u001b[0;34m,\u001b[0m\u001b[0;34m\u001b[0m\u001b[0;34m\u001b[0m\u001b[0m\n\u001b[0m\u001b[1;32m      9\u001b[0m \u001b[0;34m\u001b[0m\u001b[0m\n\u001b[1;32m     10\u001b[0m \u001b[0mconstraints\u001b[0m \u001b[0;34m+=\u001b[0m \u001b[0;34m[\u001b[0m\u001b[0mnp\u001b[0m\u001b[0;34m.\u001b[0m\u001b[0mlinalg\u001b[0m\u001b[0;34m.\u001b[0m\u001b[0mnorm\u001b[0m\u001b[0;34m(\u001b[0m\u001b[0mX\u001b[0m\u001b[0;34m[\u001b[0m\u001b[0mcontextual_sub\u001b[0m\u001b[0;34m.\u001b[0m\u001b[0msymmetry_generators\u001b[0m\u001b[0;34m.\u001b[0m\u001b[0mn_terms\u001b[0m\u001b[0;34m:\u001b[0m\u001b[0;34m]\u001b[0m\u001b[0;34m==\u001b[0m\u001b[0;36m1\u001b[0m\u001b[0;34m)\u001b[0m\u001b[0;34m]\u001b[0m\u001b[0;34m\u001b[0m\u001b[0;34m\u001b[0m\u001b[0m\n",
      "\u001b[0;32m/var/folders/7l/9g4tmq2s5zg48_szmd8z7qh40000gn/T/ipykernel_64757/208847478.py\u001b[0m in \u001b[0;36m<listcomp>\u001b[0;34m(.0)\u001b[0m\n\u001b[1;32m      6\u001b[0m \u001b[0mX\u001b[0m \u001b[0;34m=\u001b[0m \u001b[0mcp\u001b[0m\u001b[0;34m.\u001b[0m\u001b[0mVariable\u001b[0m\u001b[0;34m(\u001b[0m\u001b[0;34m(\u001b[0m\u001b[0mopt_vec_size\u001b[0m\u001b[0;34m)\u001b[0m\u001b[0;34m)\u001b[0m\u001b[0;34m\u001b[0m\u001b[0;34m\u001b[0m\u001b[0m\n\u001b[1;32m      7\u001b[0m \u001b[0;34m\u001b[0m\u001b[0m\n\u001b[0;32m----> 8\u001b[0;31m \u001b[0mconstraints\u001b[0m \u001b[0;34m=\u001b[0m \u001b[0;34m[\u001b[0m\u001b[0;34m(\u001b[0m\u001b[0;36m1\u001b[0m\u001b[0;34m+\u001b[0m\u001b[0mX\u001b[0m\u001b[0;34m[\u001b[0m\u001b[0mind\u001b[0m\u001b[0;34m]\u001b[0m\u001b[0;34m)\u001b[0m\u001b[0;34m%\u001b[0m\u001b[0;36m2\u001b[0m\u001b[0;34m==\u001b[0m\u001b[0;36m0\u001b[0m \u001b[0;32mfor\u001b[0m \u001b[0mind\u001b[0m \u001b[0;32min\u001b[0m \u001b[0mrange\u001b[0m\u001b[0;34m(\u001b[0m\u001b[0mnum_G\u001b[0m\u001b[0;34m)\u001b[0m\u001b[0;34m]\u001b[0m\u001b[0;34m,\u001b[0m\u001b[0;34m\u001b[0m\u001b[0;34m\u001b[0m\u001b[0m\n\u001b[0m\u001b[1;32m      9\u001b[0m \u001b[0;34m\u001b[0m\u001b[0m\n\u001b[1;32m     10\u001b[0m \u001b[0mconstraints\u001b[0m \u001b[0;34m+=\u001b[0m \u001b[0;34m[\u001b[0m\u001b[0mnp\u001b[0m\u001b[0;34m.\u001b[0m\u001b[0mlinalg\u001b[0m\u001b[0;34m.\u001b[0m\u001b[0mnorm\u001b[0m\u001b[0;34m(\u001b[0m\u001b[0mX\u001b[0m\u001b[0;34m[\u001b[0m\u001b[0mcontextual_sub\u001b[0m\u001b[0;34m.\u001b[0m\u001b[0msymmetry_generators\u001b[0m\u001b[0;34m.\u001b[0m\u001b[0mn_terms\u001b[0m\u001b[0;34m:\u001b[0m\u001b[0;34m]\u001b[0m\u001b[0;34m==\u001b[0m\u001b[0;36m1\u001b[0m\u001b[0;34m)\u001b[0m\u001b[0;34m]\u001b[0m\u001b[0;34m\u001b[0m\u001b[0;34m\u001b[0m\u001b[0m\n",
      "\u001b[0;31mTypeError\u001b[0m: unsupported operand type(s) for %: 'AddExpression' and 'int'"
     ]
    }
   ],
   "source": [
    "# brute force\n",
    "num_G = contextual_sub.symmetry_generators.n_terms\n",
    "num_A = contextual_sub.n_cliques\n",
    "opt_vec_size = num_G + num_A\n",
    "\n",
    "X = cp.Variable((opt_vec_size))\n",
    "\n",
    "constraints = [(1+X[ind])%2==0 for ind in range(num_G)],\n",
    "\n",
    "constraints += [np.linalg.norm(X[contextual_sub.symmetry_generators.n_terms:]==1)]\n"
   ]
  },
  {
   "cell_type": "code",
   "execution_count": 168,
   "id": "e993a27e",
   "metadata": {},
   "outputs": [
    {
     "data": {
      "text/plain": [
       "array([1., 1., 1.])"
      ]
     },
     "execution_count": 168,
     "metadata": {},
     "output_type": "execute_result"
    }
   ],
   "source": [
    "n_gen=3\n",
    "G_matrix = np.random.rand(n_gen, n_gen)* np.random.choice([-1,1], size=(n_gen, n_gen))\n",
    "denom = np.sqrt(np.einsum('ij->i',np.abs(G_matrix)**2))\n",
    "\n",
    "matrix = G_matrix / denom.reshape((n_gen,1))\n",
    "\n",
    "# sum(matrix[0]**2)\n",
    "np.einsum('ij->i', matrix**2)"
   ]
  },
  {
   "cell_type": "code",
   "execution_count": 172,
   "id": "93cf648d",
   "metadata": {},
   "outputs": [
    {
     "data": {
      "text/plain": [
       "-0.2068582449457306"
      ]
     },
     "execution_count": 172,
     "metadata": {},
     "output_type": "execute_result"
    }
   ],
   "source": [
    "matrix[0].dot(matrix[])"
   ]
  },
  {
   "cell_type": "code",
   "execution_count": 159,
   "id": "43a8d1ba",
   "metadata": {},
   "outputs": [
    {
     "data": {
      "text/plain": [
       "array([1., 1., 1.])"
      ]
     },
     "execution_count": 159,
     "metadata": {},
     "output_type": "execute_result"
    }
   ],
   "source": [
    "G_matrix/denom.reshape((n_gen,1))\n",
    "\n"
   ]
  },
  {
   "cell_type": "code",
   "execution_count": 155,
   "id": "e1b9a624",
   "metadata": {},
   "outputs": [
    {
     "data": {
      "text/plain": [
       "1.1318401121306578"
      ]
     },
     "execution_count": 155,
     "metadata": {},
     "output_type": "execute_result"
    }
   ],
   "source": []
  },
  {
   "cell_type": "code",
   "execution_count": 143,
   "id": "280458d7",
   "metadata": {},
   "outputs": [
    {
     "data": {
      "text/plain": [
       "array([[0.19680819, 0.02129569, 0.01688673],\n",
       "       [0.71889439, 0.21723831, 0.61067591],\n",
       "       [0.70460741, 0.84595524, 0.92850381]])"
      ]
     },
     "execution_count": 143,
     "metadata": {},
     "output_type": "execute_result"
    }
   ],
   "source": [
    "G_matrix**2"
   ]
  },
  {
   "cell_type": "code",
   "execution_count": 105,
   "id": "0c191dc1",
   "metadata": {},
   "outputs": [],
   "source": [
    "# n_gen = contextual_sub.symmetry_generators.n_terms \n",
    "# g_vec = np.random.rand(n_gen) * np.random.choice([-1,1], size=n_gen)\n",
    "# # g_vec_norm = g_vec / np.linalg.norm(g_vec)"
   ]
  },
  {
   "cell_type": "code",
   "execution_count": null,
   "id": "d38c119d",
   "metadata": {},
   "outputs": [],
   "source": [
    "opt_vec_size = contextual_sub.symmetry_generators.n_terms + contextual_sub.n_cliques\n",
    "\n",
    "X = cp.Variable((opt_vec_size,opt_vec_size), symmetric=True)\n",
    "\n",
    "constraints = [[X>>0],\n",
    "              [X[i,i]==1 for i in range(opt_vec_size)]]"
   ]
  },
  {
   "cell_type": "code",
   "execution_count": null,
   "id": "c9127e47",
   "metadata": {},
   "outputs": [],
   "source": []
  },
  {
   "cell_type": "code",
   "execution_count": 255,
   "id": "85491f6a",
   "metadata": {},
   "outputs": [
    {
     "name": "stdout",
     "output_type": "stream",
     "text": [
      "1.0\n"
     ]
    },
    {
     "data": {
      "text/plain": [
       "[0.5403023058681398,\n",
       " -0.35017548837401463,\n",
       " -0.7574901860152801,\n",
       " 0.10797760742916983]"
      ]
     },
     "execution_count": 255,
     "metadata": {},
     "output_type": "execute_result"
    }
   ],
   "source": [
    "angles = np.array([1,2,3])\n",
    "\n",
    "cartesians = [np.prod(np.sin(angles[:i]))*np.cos(angles[i]) for i in range(len(angles))]\n",
    "cartesians.append(np.prod(np.sin(angles)))\n",
    "print(np.linalg.norm(cartesians))\n",
    "\n",
    "cartesians"
   ]
  },
  {
   "cell_type": "code",
   "execution_count": null,
   "id": "e5e9bfa4",
   "metadata": {},
   "outputs": [],
   "source": []
  },
  {
   "cell_type": "code",
   "execution_count": 435,
   "id": "ca282525",
   "metadata": {},
   "outputs": [
    {
     "data": {
      "text/plain": [
       "array([[14],\n",
       "       [32],\n",
       "       [50]])"
      ]
     },
     "execution_count": 435,
     "metadata": {},
     "output_type": "execute_result"
    }
   ],
   "source": [
    "A = np.array([[1],[2],[3]])\n",
    "\n",
    "B = np.array([[1,2,3],\n",
    "             [4,5,6],\n",
    "             [7,8,9]])\n",
    "\n",
    "B@A"
   ]
  }
 ],
 "metadata": {
  "kernelspec": {
   "display_name": "Python 3 (ipykernel)",
   "language": "python",
   "name": "python3"
  },
  "language_info": {
   "codemirror_mode": {
    "name": "ipython",
    "version": 3
   },
   "file_extension": ".py",
   "mimetype": "text/x-python",
   "name": "python",
   "nbconvert_exporter": "python",
   "pygments_lexer": "ipython3",
   "version": "3.9.7"
  }
 },
 "nbformat": 4,
 "nbformat_minor": 5
}
