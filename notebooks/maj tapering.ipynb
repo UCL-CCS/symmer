{
 "cells": [
  {
   "cell_type": "markdown",
   "id": "1f026262",
   "metadata": {},
   "source": [
    "# Majorana Tapering \n",
    "### in the Stabilizer Subspace Projection formalism\n",
    "Here, we take a look at the qubit reduction technique of [tapering](https://arxiv.org/abs/1701.08213) and an implementation based on the core `S3_projection` class. Unlike [Contextual-Subspace VQE](https://doi.org/10.22331/q-2021-05-14-456), this technique is *exact*, in the sense that it perfectly preserves the energy spectrum of the input operator.\n",
    "\n",
    "At the core of qubit tapering is a symmetry of the Hamiltonian, which in this case means a set of universally commuting operators. The idea is that these operators must be simultaneously measureable and so can be treated independently of the remaining Hamiltonian terms. The method works by finding an independent generating set for the symmetry and seeks to find the 'correct' assignment of eigenvalues (called a *sector*), which completely determines the measurement outcome of the symmetry operators. Once this is obtained, the theory of stabilizers allows us to rotate the symmetry generators onto single Pauli $X$ operators, and since they must commute universally every operator of the rotated Hamiltonian will consist of an identity or Pauli $X$ in the corresponding qubit position. This means we can drop the qubit from the Hamiltonian, leaving in its place the eigenvalue determined by the chosen sector."
   ]
  },
  {
   "cell_type": "code",
   "execution_count": 1,
   "id": "a0c47287",
   "metadata": {},
   "outputs": [],
   "source": [
    "from symred.symplectic_form import PauliwordOp, QubitHamiltonian, MajoranaOp, convert_openF_fermionic_op_to_maj_op\n",
    "import numpy as np\n",
    "from openfermion import MajoranaOperator, FermionOperator, get_majorana_operator"
   ]
  },
  {
   "cell_type": "code",
   "execution_count": null,
   "id": "de99fac5",
   "metadata": {},
   "outputs": [],
   "source": [
    "operator1 = [\n",
    "    [4],\n",
    "]\n",
    "coeffs1 = np.arange(2,len(operator1)+2)\n",
    "M1 = MajoranaOp(operator1, coeffs1)\n",
    "print(M1)\n",
    "print()\n",
    "\n",
    "operator2 = [\n",
    "    [2],\n",
    "    [3]\n",
    "]\n",
    "coeffs2 = 1*np.arange(5,len(operator2)+5)\n",
    "M2 = MajoranaOp(operator2, coeffs2)\n",
    "print(M2)\n",
    "print()\n",
    "\n",
    "M3 = M1 + M2\n",
    "\n",
    "print(M3)\n",
    "print()\n",
    "\n",
    "M4 =M1 * M2\n",
    "print(M4)\n",
    "print()\n",
    "\n",
    "M1_openf = M1.to_OF_op()\n",
    "M2_openf = M2.to_OF_op()\n",
    "print(M1_openf+M2_openf)\n",
    "print()\n",
    "print(M1_openf*M2_openf)"
   ]
  },
  {
   "cell_type": "code",
   "execution_count": null,
   "id": "5cf40e3b",
   "metadata": {},
   "outputs": [],
   "source": [
    "y1 = MajoranaOperator(term=(4,), coefficient=2)\n",
    "y2 = MajoranaOperator(term=(2,), coefficient=5) + MajoranaOperator(term=(3,), coefficient=6)\n",
    "y1*y2"
   ]
  },
  {
   "cell_type": "code",
   "execution_count": null,
   "id": "1ac2b306",
   "metadata": {},
   "outputs": [],
   "source": []
  },
  {
   "cell_type": "code",
   "execution_count": 2,
   "id": "911ccf06",
   "metadata": {},
   "outputs": [
    {
     "name": "stdout",
     "output_type": "stream",
     "text": [
      "(2+0j) γ0 γ1 γ2 γ3 +\n",
      "(3+0j) γ5 γ6 +\n",
      "(4+0j) γ3 γ5 +\n",
      "(5+0j) γ0 γ1 γ2 γ3 γ4 γ5 γ6 γ7 +\n",
      "(6+0j) γ2 γ3 +\n",
      "(7+0j) γ4\n"
     ]
    },
    {
     "data": {
      "text/plain": [
       "array([[0, 0, 1, 0, 0, 0],\n",
       "       [0, 0, 1, 0, 0, 0],\n",
       "       [1, 1, 0, 0, 1, 0],\n",
       "       [0, 0, 0, 0, 0, 1],\n",
       "       [0, 0, 1, 0, 0, 0],\n",
       "       [0, 0, 0, 1, 0, 0]])"
      ]
     },
     "execution_count": 2,
     "metadata": {},
     "output_type": "execute_result"
    }
   ],
   "source": [
    "operator = [\n",
    "    [0,1,2,3],\n",
    "    [5,6],\n",
    "    [3,5],\n",
    "    [0,1,2,3,4,5,6,7],\n",
    "    [2,3],\n",
    "    [4]\n",
    "]\n",
    "\n",
    "# operator = [\n",
    "#     [0],\n",
    "#     [1,2],\n",
    "#     [3,4],\n",
    "#     [0,1,2,3,4,5,6,7],\n",
    "#     [2,3]\n",
    "# ]\n",
    "\n",
    "# operator = [\n",
    "#     [1],\n",
    "#     [2],\n",
    "#     [3]\n",
    "\n",
    "# ]\n",
    "\n",
    "# # #\n",
    "# operator = [\n",
    "#     [0]\n",
    "# ]\n",
    "\n",
    "\n",
    "# operator = [\n",
    "#     [1]\n",
    "# ]\n",
    "\n",
    "coeffs = np.arange(2,len(operator)+2)\n",
    "\n",
    "###\n",
    "M = MajoranaOp(operator, coeffs)\n",
    "print(M)\n",
    "\n",
    "M.adjacency_matrix()"
   ]
  },
  {
   "cell_type": "code",
   "execution_count": 3,
   "id": "46ba38ea",
   "metadata": {},
   "outputs": [
    {
     "name": "stdout",
     "output_type": "stream",
     "text": [
      "(17+0j) I +\n",
      "(42+0j) γ4 γ5 γ6 +\n",
      "(20+0j) γ4 γ5 γ6 γ7 +\n",
      "(-56+0j) γ3 γ4 γ5 +\n",
      "(36+0j) γ2 γ3 γ5 γ6 +\n",
      "(84+0j) γ2 γ3 γ4 +\n",
      "(-24+0j) γ0 γ1 +\n",
      "(-60+0j) γ0 γ1 γ4 γ5 γ6 γ7 +\n",
      "(40+0j) γ0 γ1 γ2 γ4 γ6 γ7 +\n",
      "(12+0j) γ0 γ1 γ2 γ3 γ5 γ6 +\n",
      "(28+0j) γ0 γ1 γ2 γ3 γ4 +\n",
      "(-30+0j) γ0 γ1 γ2 γ3 γ4 γ7\n",
      "\n",
      "(17+0j) () +\n",
      "(-24+0j) (0, 1) +\n",
      "(28+0j) (0, 1, 2, 3, 4) +\n",
      "(-30+0j) (0, 1, 2, 3, 4, 7) +\n",
      "(12+0j) (0, 1, 2, 3, 5, 6) +\n",
      "(40+0j) (0, 1, 2, 4, 6, 7) +\n",
      "(-60+0j) (0, 1, 4, 5, 6, 7) +\n",
      "(84+0j) (2, 3, 4) +\n",
      "(36+0j) (2, 3, 5, 6) +\n",
      "(-56+0j) (3, 4, 5) +\n",
      "(42+0j) (4, 5, 6) +\n",
      "(20+0j) (4, 5, 6, 7)\n"
     ]
    }
   ],
   "source": [
    "print(M*M)\n",
    "print()\n",
    "\n",
    "C = M.to_OF_op()\n",
    "out = C*C\n",
    "print(out)\n",
    "# print()\n",
    "# print(C)"
   ]
  },
  {
   "cell_type": "code",
   "execution_count": null,
   "id": "924583c8",
   "metadata": {},
   "outputs": [],
   "source": [
    "M.adjacency_matrix()"
   ]
  },
  {
   "cell_type": "markdown",
   "id": "dc25712f",
   "metadata": {},
   "source": [
    "# get basis for operator"
   ]
  },
  {
   "cell_type": "code",
   "execution_count": 4,
   "id": "de12ecbf",
   "metadata": {},
   "outputs": [
    {
     "data": {
      "text/plain": [
       "array([[1, 1, 0, 0, 0, 0, 0, 0],\n",
       "       [0, 0, 1, 1, 0, 1, 1, 0]])"
      ]
     },
     "execution_count": 4,
     "metadata": {},
     "output_type": "execute_result"
    }
   ],
   "source": [
    "from symred.S3_projection import gf2_basis_for_gf2_rref, gf2_gaus_elim\n",
    "ZX_symp = M.symp_matrix\n",
    "reduced = gf2_gaus_elim(ZX_symp)\n",
    "kernel  =  gf2_basis_for_gf2_rref(reduced)\n",
    "\n",
    "kernel = kernel.astype(int)\n",
    "kernel"
   ]
  },
  {
   "cell_type": "code",
   "execution_count": 5,
   "id": "ca5a4019",
   "metadata": {},
   "outputs": [
    {
     "name": "stdout",
     "output_type": "stream",
     "text": [
      "(1+0j) γ0 γ1 +\n",
      "(1+0j) γ2 γ3 γ5 γ6\n"
     ]
    }
   ],
   "source": [
    "if kernel.shape[0]:\n",
    "    basis_coeffs = np.ones(kernel.shape[0])\n",
    "else:\n",
    "    basis_coeffs=[1]\n",
    "\n",
    "basis_op = MajoranaOp(kernel, basis_coeffs)\n",
    "print(basis_op)"
   ]
  },
  {
   "cell_type": "code",
   "execution_count": null,
   "id": "f0af0dd0",
   "metadata": {},
   "outputs": [],
   "source": []
  },
  {
   "cell_type": "code",
   "execution_count": 6,
   "id": "2b223fc1",
   "metadata": {},
   "outputs": [
    {
     "name": "stdout",
     "output_type": "stream",
     "text": [
      "(2+0j) γ0 γ1 γ2 γ3 +\n",
      "(3+0j) γ5 γ6 +\n",
      "(4+0j) γ3 γ5 +\n",
      "(5+0j) γ0 γ1 γ2 γ3 γ4 γ5 γ6 γ7 +\n",
      "(6+0j) γ2 γ3 +\n",
      "(7+0j) γ4\n",
      "\n",
      "(1+0j) γ0 γ1 +\n",
      "(1+0j) γ2 γ3 γ5 γ6\n",
      "commmutes:  True\n",
      "[[0 0]\n",
      " [0 0]\n",
      " [0 0]\n",
      " [0 0]\n",
      " [0 0]\n",
      " [0 0]]\n"
     ]
    },
    {
     "data": {
      "text/plain": [
       "True"
      ]
     },
     "execution_count": 6,
     "metadata": {},
     "output_type": "execute_result"
    }
   ],
   "source": [
    "print(M)\n",
    "print()\n",
    "print(basis_op)\n",
    "\n",
    "openF_M_op = M.to_OF_op()\n",
    "basis_op_openF =  basis_op.to_OF_op()\n",
    "print('commmutes: ', openF_M_op*basis_op_openF == basis_op_openF*openF_M_op)\n",
    "\n",
    "print(M.commutes_termwise(basis_op))\n",
    "M.commutes(basis_op)"
   ]
  },
  {
   "cell_type": "code",
   "execution_count": null,
   "id": "6df8589f",
   "metadata": {},
   "outputs": [],
   "source": [
    "print(M)"
   ]
  },
  {
   "cell_type": "code",
   "execution_count": null,
   "id": "3437885d",
   "metadata": {},
   "outputs": [],
   "source": []
  },
  {
   "cell_type": "code",
   "execution_count": 23,
   "id": "1c16720d",
   "metadata": {},
   "outputs": [
    {
     "name": "stdout",
     "output_type": "stream",
     "text": [
      "-0.25j γ1 γ6 +\n",
      "(-0.03125+0j) γ1 γ3 γ5 γ7 +\n",
      "-0.03125j γ1 γ3 γ5 γ6 +\n",
      "-0.03125j γ1 γ3 γ4 γ7 +\n",
      "(0.03125+0j) γ1 γ3 γ4 γ6 +\n",
      "0.03125j γ1 γ2 γ5 γ7 +\n",
      "(-0.03125+0j) γ1 γ2 γ5 γ6 +\n",
      "(-0.03125+0j) γ1 γ2 γ4 γ7 +\n",
      "-0.03125j γ1 γ2 γ4 γ6 +\n",
      "0.25j γ0 γ7 +\n",
      "0.03125j γ0 γ3 γ5 γ7 +\n",
      "(-0.03125+0j) γ0 γ3 γ5 γ6 +\n",
      "(-0.03125+0j) γ0 γ3 γ4 γ7 +\n",
      "-0.03125j γ0 γ3 γ4 γ6 +\n",
      "(0.03125+0j) γ0 γ2 γ5 γ7 +\n",
      "0.03125j γ0 γ2 γ5 γ6 +\n",
      "0.03125j γ0 γ2 γ4 γ7 +\n",
      "(-0.03125+0j) γ0 γ2 γ4 γ6\n"
     ]
    }
   ],
   "source": [
    "ham = (FermionOperator('0^ 3', .5) +\n",
    "       FermionOperator('3^ 0', 0.5) +\n",
    "      FermionOperator('3^ 2^ 0 1', 0.5))\n",
    "\n",
    "M_out = convert_openF_fermionic_op_to_maj_op(ham)\n",
    "\n",
    "M_out.to_OF_op() == get_majorana_operator(ham)\n",
    "\n",
    "print(M_out)"
   ]
  },
  {
   "cell_type": "code",
   "execution_count": null,
   "id": "92a96844",
   "metadata": {},
   "outputs": [],
   "source": [
    "print(basis_op, '\\n')\n",
    "op1 = MajoranaOp([[],[0]],[np.cos(np.pi/4), 1j*np.sin(np.pi/4)])\n",
    "op1_dag = MajoranaOp([[],[0]],[np.cos(np.pi/4), -1j*np.sin(np.pi/4)])\n",
    "\n",
    "rot1 = op1*basis_op*op1_dag\n",
    "print(rot1)\n",
    "\n",
    "op1.commutes_termwise(basis_op)"
   ]
  },
  {
   "cell_type": "code",
   "execution_count": null,
   "id": "b9c8d162",
   "metadata": {},
   "outputs": [],
   "source": [
    "print(op1*op1_dag)"
   ]
  },
  {
   "cell_type": "code",
   "execution_count": null,
   "id": "e41f7468",
   "metadata": {},
   "outputs": [],
   "source": [
    "print(op1.commutes(basis_op))\n",
    "\n",
    "op1.commutes_termwise(basis_op)"
   ]
  },
  {
   "cell_type": "code",
   "execution_count": null,
   "id": "ce3cdf36",
   "metadata": {},
   "outputs": [],
   "source": []
  },
  {
   "cell_type": "code",
   "execution_count": null,
   "id": "86016ce3",
   "metadata": {},
   "outputs": [],
   "source": [
    "print(rot1)\n",
    "print(op2)"
   ]
  },
  {
   "cell_type": "code",
   "execution_count": null,
   "id": "4287eec0",
   "metadata": {},
   "outputs": [],
   "source": [
    "op2 = MajoranaOp([[], [1, 6]],[np.cos(np.pi/4), 1j*np.sin(np.pi/4)])\n",
    "op2_dag = MajoranaOp([[], [1, 6]],[np.cos(np.pi/4), -1j*np.sin(np.pi/4)])\n",
    "\n",
    "rot2 = op2*rot1*op2_dag\n",
    "print(rot2)\n",
    "\n",
    "rot1.commutes_termwise(pp)"
   ]
  },
  {
   "cell_type": "code",
   "execution_count": null,
   "id": "1557c279",
   "metadata": {},
   "outputs": [],
   "source": []
  },
  {
   "cell_type": "code",
   "execution_count": null,
   "id": "7eca6f7f",
   "metadata": {},
   "outputs": [],
   "source": [
    "print(op1*basis_op*op1_dag)"
   ]
  },
  {
   "cell_type": "code",
   "execution_count": null,
   "id": "a8c54a04",
   "metadata": {},
   "outputs": [],
   "source": []
  },
  {
   "cell_type": "code",
   "execution_count": null,
   "id": "14f7d936",
   "metadata": {},
   "outputs": [],
   "source": [
    "# bug fixed\n",
    "op2 = MajoranaOp([[12, 10]], [1])\n",
    "print(op2)\n",
    "from openfermion import MajoranaOperator\n",
    "test = MajoranaOperator(term=(12,10))\n",
    "print(test)"
   ]
  },
  {
   "cell_type": "code",
   "execution_count": null,
   "id": "01fe79cc",
   "metadata": {},
   "outputs": [],
   "source": []
  },
  {
   "cell_type": "code",
   "execution_count": null,
   "id": "91ebf43f",
   "metadata": {},
   "outputs": [],
   "source": [
    "op1 = MajoranaOp([[1,2,3,4,5]],[1])\n",
    "op2 = MajoranaOp([[6]],[1])\n",
    "\n",
    "print(op1.commutes(op2))\n",
    "\n",
    "print(op1*op2*op1)"
   ]
  }
 ],
 "metadata": {
  "kernelspec": {
   "display_name": "Python 3 (ipykernel)",
   "language": "python",
   "name": "python3"
  },
  "language_info": {
   "codemirror_mode": {
    "name": "ipython",
    "version": 3
   },
   "file_extension": ".py",
   "mimetype": "text/x-python",
   "name": "python",
   "nbconvert_exporter": "python",
   "pygments_lexer": "ipython3",
   "version": "3.9.7"
  }
 },
 "nbformat": 4,
 "nbformat_minor": 5
}
