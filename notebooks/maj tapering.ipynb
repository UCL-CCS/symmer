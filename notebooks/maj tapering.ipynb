{
 "cells": [
  {
   "cell_type": "markdown",
   "id": "1f026262",
   "metadata": {},
   "source": [
    "# Majorana Tapering \n",
    "### in the Stabilizer Subspace Projection formalism\n",
    "Here, we take a look at the qubit reduction technique of [tapering](https://arxiv.org/abs/1701.08213) and an implementation based on the core `S3_projection` class. Unlike [Contextual-Subspace VQE](https://doi.org/10.22331/q-2021-05-14-456), this technique is *exact*, in the sense that it perfectly preserves the energy spectrum of the input operator.\n",
    "\n",
    "At the core of qubit tapering is a symmetry of the Hamiltonian, which in this case means a set of universally commuting operators. The idea is that these operators must be simultaneously measureable and so can be treated independently of the remaining Hamiltonian terms. The method works by finding an independent generating set for the symmetry and seeks to find the 'correct' assignment of eigenvalues (called a *sector*), which completely determines the measurement outcome of the symmetry operators. Once this is obtained, the theory of stabilizers allows us to rotate the symmetry generators onto single Pauli $X$ operators, and since they must commute universally every operator of the rotated Hamiltonian will consist of an identity or Pauli $X$ in the corresponding qubit position. This means we can drop the qubit from the Hamiltonian, leaving in its place the eigenvalue determined by the chosen sector."
   ]
  },
  {
   "cell_type": "code",
   "execution_count": 1,
   "id": "058dc781",
   "metadata": {},
   "outputs": [],
   "source": [
    "from symred.symplectic_form import PauliwordOp, QubitHamiltonian, MajoranaOp\n",
    "import numpy as np\n",
    "from openfermion import MajoranaOperator"
   ]
  },
  {
   "cell_type": "code",
   "execution_count": 2,
   "id": "ff455321",
   "metadata": {},
   "outputs": [
    {
     "name": "stdout",
     "output_type": "stream",
     "text": [
      "(2+0j) γ4\n",
      "\n",
      "(5+0j) γ2 +\n",
      "(6+0j) γ3\n",
      "\n",
      "(2+0j) γ4 +\n",
      "(6+0j) γ3 +\n",
      "(5+0j) γ2\n",
      "\n",
      "(-12+0j) γ3 γ4 +\n",
      "(-10+0j) γ2 γ4\n",
      "\n",
      "(5+0j) (2,) +\n",
      "(6+0j) (3,) +\n",
      "(2+0j) (4,)\n",
      "\n",
      "(-10+0j) (2, 4) +\n",
      "(-12+0j) (3, 4)\n"
     ]
    }
   ],
   "source": [
    "operator1 = [\n",
    "    [4],\n",
    "]\n",
    "coeffs1 = np.arange(2,len(operator1)+2)\n",
    "M1 = MajoranaOp(operator1, coeffs1)\n",
    "print(M1)\n",
    "print()\n",
    "\n",
    "operator2 = [\n",
    "    [2],\n",
    "    [3]\n",
    "]\n",
    "coeffs2 = 1*np.arange(5,len(operator2)+5)\n",
    "M2 = MajoranaOp(operator2, coeffs2)\n",
    "print(M2)\n",
    "print()\n",
    "\n",
    "M3 = M1 + M2\n",
    "\n",
    "print(M3)\n",
    "print()\n",
    "\n",
    "M4 =M1 * M2\n",
    "print(M4)\n",
    "print()\n",
    "\n",
    "M1_openf = M1.to_OF_op()\n",
    "M2_openf = M2.to_OF_op()\n",
    "print(M1_openf+M2_openf)\n",
    "print()\n",
    "print(M1_openf*M2_openf)"
   ]
  },
  {
   "cell_type": "code",
   "execution_count": 3,
   "id": "c9b56f93",
   "metadata": {},
   "outputs": [
    {
     "data": {
      "text/plain": [
       "MajoranaOperator.from_dict(terms={(2, 4): -10, (3, 4): -12})"
      ]
     },
     "execution_count": 3,
     "metadata": {},
     "output_type": "execute_result"
    }
   ],
   "source": [
    "y1 = MajoranaOperator(term=(4,), coefficient=2)\n",
    "y2 = MajoranaOperator(term=(2,), coefficient=5) + MajoranaOperator(term=(3,), coefficient=6)\n",
    "y1*y2"
   ]
  },
  {
   "cell_type": "code",
   "execution_count": null,
   "id": "60553513",
   "metadata": {},
   "outputs": [],
   "source": []
  },
  {
   "cell_type": "code",
   "execution_count": 4,
   "id": "911ccf06",
   "metadata": {},
   "outputs": [
    {
     "name": "stdout",
     "output_type": "stream",
     "text": [
      "(2+0j) γ0 γ1 γ2 γ3 +\n",
      "(3+0j) γ5 γ6 +\n",
      "(4+0j) γ3 γ5 +\n",
      "(5+0j) γ0 γ1 γ2 γ3 γ4 γ5 γ6 γ7 +\n",
      "(6+0j) γ2 γ3 +\n",
      "(7+0j) γ4\n"
     ]
    },
    {
     "data": {
      "text/plain": [
       "array([[0, 0, 1, 0, 0, 0],\n",
       "       [0, 0, 1, 0, 0, 0],\n",
       "       [1, 1, 0, 0, 1, 0],\n",
       "       [0, 0, 0, 0, 0, 1],\n",
       "       [0, 0, 1, 0, 0, 0],\n",
       "       [0, 0, 0, 1, 0, 0]])"
      ]
     },
     "execution_count": 4,
     "metadata": {},
     "output_type": "execute_result"
    }
   ],
   "source": [
    "operator = [\n",
    "    [0,1,2,3],\n",
    "    [5,6],\n",
    "    [3,5],\n",
    "    [0,1,2,3,4,5,6,7],\n",
    "    [2,3],\n",
    "    [4]\n",
    "]\n",
    "\n",
    "# operator = [\n",
    "#     [0],\n",
    "#     [1,2],\n",
    "#     [3,4],\n",
    "#     [0,1,2,3,4,5,6,7],\n",
    "#     [2,3]\n",
    "# ]\n",
    "\n",
    "# operator = [\n",
    "#     [1],\n",
    "#     [2],\n",
    "#     [3]\n",
    "\n",
    "# ]\n",
    "\n",
    "# # #\n",
    "# operator = [\n",
    "#     [0]\n",
    "# ]\n",
    "\n",
    "\n",
    "# operator = [\n",
    "#     [1]\n",
    "# ]\n",
    "\n",
    "coeffs = np.arange(2,len(operator)+2)\n",
    "\n",
    "###\n",
    "M = MajoranaOp(operator, coeffs)\n",
    "print(M)\n",
    "\n",
    "M.adjacency_matrix()"
   ]
  },
  {
   "cell_type": "code",
   "execution_count": 5,
   "id": "fa779e98",
   "metadata": {},
   "outputs": [
    {
     "name": "stdout",
     "output_type": "stream",
     "text": [
      "(17+0j) I +\n",
      "(42+0j) γ4 γ5 γ6 +\n",
      "(20+0j) γ4 γ5 γ6 γ7 +\n",
      "(-56+0j) γ3 γ4 γ5 +\n",
      "(36+0j) γ2 γ3 γ5 γ6 +\n",
      "(84+0j) γ2 γ3 γ4 +\n",
      "(-24+0j) γ0 γ1 +\n",
      "(-60+0j) γ0 γ1 γ4 γ5 γ6 γ7 +\n",
      "(40+0j) γ0 γ1 γ2 γ4 γ6 γ7 +\n",
      "(12+0j) γ0 γ1 γ2 γ3 γ5 γ6 +\n",
      "(28+0j) γ0 γ1 γ2 γ3 γ4 +\n",
      "(-30+0j) γ0 γ1 γ2 γ3 γ4 γ7\n",
      "\n",
      "(17+0j) () +\n",
      "(-24+0j) (0, 1) +\n",
      "(28+0j) (0, 1, 2, 3, 4) +\n",
      "(-30+0j) (0, 1, 2, 3, 4, 7) +\n",
      "(12+0j) (0, 1, 2, 3, 5, 6) +\n",
      "(40+0j) (0, 1, 2, 4, 6, 7) +\n",
      "(-60+0j) (0, 1, 4, 5, 6, 7) +\n",
      "(84+0j) (2, 3, 4) +\n",
      "(36+0j) (2, 3, 5, 6) +\n",
      "(-56+0j) (3, 4, 5) +\n",
      "(42+0j) (4, 5, 6) +\n",
      "(20+0j) (4, 5, 6, 7)\n"
     ]
    }
   ],
   "source": [
    "print(M*M)\n",
    "print()\n",
    "\n",
    "C = M.to_OF_op()\n",
    "out = C*C\n",
    "print(out)\n",
    "# print()\n",
    "# print(C)"
   ]
  },
  {
   "cell_type": "code",
   "execution_count": 6,
   "id": "924583c8",
   "metadata": {},
   "outputs": [
    {
     "data": {
      "text/plain": [
       "array([[0, 0, 1, 0, 0, 0],\n",
       "       [0, 0, 1, 0, 0, 0],\n",
       "       [1, 1, 0, 0, 1, 0],\n",
       "       [0, 0, 0, 0, 0, 1],\n",
       "       [0, 0, 1, 0, 0, 0],\n",
       "       [0, 0, 0, 1, 0, 0]])"
      ]
     },
     "execution_count": 6,
     "metadata": {},
     "output_type": "execute_result"
    }
   ],
   "source": [
    "M.adjacency_matrix()"
   ]
  },
  {
   "cell_type": "markdown",
   "id": "27245fbe",
   "metadata": {},
   "source": [
    "# get basis for operator"
   ]
  },
  {
   "cell_type": "code",
   "execution_count": 7,
   "id": "de12ecbf",
   "metadata": {},
   "outputs": [
    {
     "data": {
      "text/plain": [
       "array([[1, 1, 0, 0, 0, 0, 0, 0],\n",
       "       [0, 0, 1, 1, 0, 1, 1, 0]])"
      ]
     },
     "execution_count": 7,
     "metadata": {},
     "output_type": "execute_result"
    }
   ],
   "source": [
    "from symred.S3_projection import gf2_basis_for_gf2_rref, gf2_gaus_elim\n",
    "ZX_symp = M.symp_matrix\n",
    "reduced = gf2_gaus_elim(ZX_symp)\n",
    "kernel  =  gf2_basis_for_gf2_rref(reduced)\n",
    "\n",
    "kernel = kernel.astype(int)\n",
    "kernel"
   ]
  },
  {
   "cell_type": "code",
   "execution_count": 8,
   "id": "0984b93b",
   "metadata": {},
   "outputs": [
    {
     "name": "stdout",
     "output_type": "stream",
     "text": [
      "(1+0j) γ0 γ1 +\n",
      "(1+0j) γ2 γ3 γ5 γ6\n"
     ]
    }
   ],
   "source": [
    "if kernel.shape[0]:\n",
    "    basis_coeffs = np.ones(kernel.shape[0])\n",
    "else:\n",
    "    basis_coeffs=[1]\n",
    "\n",
    "basis_op = MajoranaOp(kernel, basis_coeffs)\n",
    "print(basis_op)"
   ]
  },
  {
   "cell_type": "code",
   "execution_count": null,
   "id": "ad6b0b0d",
   "metadata": {},
   "outputs": [],
   "source": []
  },
  {
   "cell_type": "code",
   "execution_count": 9,
   "id": "1dd7fa9a",
   "metadata": {},
   "outputs": [
    {
     "name": "stdout",
     "output_type": "stream",
     "text": [
      "(2+0j) γ0 γ1 γ2 γ3 +\n",
      "(3+0j) γ5 γ6 +\n",
      "(4+0j) γ3 γ5 +\n",
      "(5+0j) γ0 γ1 γ2 γ3 γ4 γ5 γ6 γ7 +\n",
      "(6+0j) γ2 γ3 +\n",
      "(7+0j) γ4\n",
      "\n",
      "(1+0j) γ0 γ1 +\n",
      "(1+0j) γ2 γ3 γ5 γ6\n",
      "commmutes:  True\n",
      "[[0 0]\n",
      " [0 0]\n",
      " [0 0]\n",
      " [0 0]\n",
      " [0 0]\n",
      " [0 0]]\n"
     ]
    },
    {
     "data": {
      "text/plain": [
       "True"
      ]
     },
     "execution_count": 9,
     "metadata": {},
     "output_type": "execute_result"
    }
   ],
   "source": [
    "print(M)\n",
    "print()\n",
    "print(basis_op)\n",
    "\n",
    "openF_M_op = M.to_OF_op()\n",
    "basis_op_openF =  basis_op.to_OF_op()\n",
    "print('commmutes: ', openF_M_op*basis_op_openF == basis_op_openF*openF_M_op)\n",
    "\n",
    "print(M.commutes_termwise(basis_op))\n",
    "M.commutes(basis_op)"
   ]
  },
  {
   "cell_type": "code",
   "execution_count": null,
   "id": "e421d8cd",
   "metadata": {},
   "outputs": [],
   "source": []
  },
  {
   "cell_type": "code",
   "execution_count": 10,
   "id": "341a23d6",
   "metadata": {},
   "outputs": [],
   "source": []
  },
  {
   "cell_type": "code",
   "execution_count": 33,
   "id": "8e77df4c",
   "metadata": {},
   "outputs": [
    {
     "data": {
      "text/plain": [
       "0.5j"
      ]
     },
     "execution_count": 33,
     "metadata": {},
     "output_type": "execute_result"
    }
   ],
   "source": [
    "0.5*1j"
   ]
  },
  {
   "cell_type": "code",
   "execution_count": 77,
   "id": "6e53098c",
   "metadata": {},
   "outputs": [
    {
     "name": "stdout",
     "output_type": "stream",
     "text": [
      "\n",
      "\n",
      "\n"
     ]
    },
    {
     "data": {
      "text/plain": [
       "array([[1., 0., 0., 1., 0., 0.],\n",
       "       [1., 0., 0., 1., 0., 0.],\n",
       "       [1., 1., 1., 1., 0., 1.],\n",
       "       [1., 0., 0., 1., 0., 0.],\n",
       "       [0., 0., 0., 0., 0., 0.],\n",
       "       [1., 1., 1., 1., 0., 1.]])"
      ]
     },
     "execution_count": 77,
     "metadata": {},
     "output_type": "execute_result"
    }
   ],
   "source": [
    "majorana = np.zeros((2*M_terms, N_sites))\n",
    "sign = {0:1j, 1:-1j}\n",
    "for maj_ind, operator in enumerate(ham.terms.keys()):\n",
    "    for index, crea_flag in operator:\n",
    "        majorana[maj_ind, index]=1\n",
    "        majorana[2*maj_ind+1, index]=1\n",
    "        \n",
    "    print()\n",
    "majorana"
   ]
  },
  {
   "cell_type": "code",
   "execution_count": 138,
   "id": "d4c123e3",
   "metadata": {},
   "outputs": [
    {
     "data": {
      "text/plain": [
       "True"
      ]
     },
     "execution_count": 138,
     "metadata": {},
     "output_type": "execute_result"
    }
   ],
   "source": [
    "\n",
    "    \n",
    "\n",
    "ham = (FermionOperator('0^ 3', .5) +\n",
    "       FermionOperator('3^ 0', 0.5) +\n",
    "      FermionOperator('3^ 2^ 0 1 5^', 0.5))\n",
    "\n",
    "M_out = convert_openF_fermionic_op_to_maj_op(ham)\n",
    "\n",
    "M_out.to_OF_op() == get_majorana_operator(ham)"
   ]
  },
  {
   "cell_type": "code",
   "execution_count": null,
   "id": "033c10d9",
   "metadata": {},
   "outputs": [],
   "source": []
  }
 ],
 "metadata": {
  "kernelspec": {
   "display_name": "Python 3 (ipykernel)",
   "language": "python",
   "name": "python3"
  },
  "language_info": {
   "codemirror_mode": {
    "name": "ipython",
    "version": 3
   },
   "file_extension": ".py",
   "mimetype": "text/x-python",
   "name": "python",
   "nbconvert_exporter": "python",
   "pygments_lexer": "ipython3",
   "version": "3.9.7"
  }
 },
 "nbformat": 4,
 "nbformat_minor": 5
}
