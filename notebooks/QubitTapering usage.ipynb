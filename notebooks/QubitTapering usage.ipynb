{
 "cells": [
  {
   "cell_type": "markdown",
   "id": "3c896a51",
   "metadata": {},
   "source": [
    "# Qubit Tapering \n",
    "### in the Stabilizer Subspace Projection formalism\n",
    "Here, we take a look at the qubit reduction technique of [tapering](https://arxiv.org/abs/1701.08213) and an implementation based on the core `S3_projection` class. Unlike [Contextual-Subspace VQE](https://doi.org/10.22331/q-2021-05-14-456), this technique is *exact*, in the sense that it perfectly preserves the energy spectrum of the input operator.\n",
    "\n",
    "At the core of qubit tapering is a symmetry of the Hamiltonian, which in this case means a set of universally commuting operators. The idea is that these operators must be simultaneously measureable and so can be treated independently of the remaining Hamiltonian terms. The method works by finding an independent generating set for the symmetry and seeks to find the 'correct' assignment of eigenvalues (called a *sector*), which completely determines the measurement outcome of the symmetry operators. Once this is obtained, the theory of stabilizers allows us to rotate the symmetry generators onto single Pauli $X$ operators, and since they must commute universally every operator of the rotated Hamiltonian will consist of an identity or Pauli $X$ in the corresponding qubit position. This means we can drop the qubit from the Hamiltonian, leaving in its place the eigenvalue determined by the chosen sector."
   ]
  },
  {
   "cell_type": "code",
   "execution_count": 1,
   "id": "21770fd0",
   "metadata": {},
   "outputs": [],
   "source": [
    "import numpy as np\n",
    "import scipy as sp\n",
    "from matplotlib import pyplot as plt\n",
    "import openfermion as of\n",
    "import openfermionpyscf as ofpyscf\n",
    "from symred.symplectic_form import PauliwordOp\n",
    "from symred.S3_projection import QubitTapering\n",
    "\n",
    "def get_ground_state(sparse_operator, initial_guess=None):\n",
    "    \"\"\"Compute lowest eigenvalue and eigenstate.\n",
    "    Args:\n",
    "        sparse_operator (LinearOperator): Operator to find the ground state of.\n",
    "        initial_guess (ndarray): Initial guess for ground state.  A good\n",
    "            guess dramatically reduces the cost required to converge.\n",
    "    Returns\n",
    "    -------\n",
    "        eigenvalue:\n",
    "            The lowest eigenvalue, a float.\n",
    "        eigenstate:\n",
    "            The lowest eigenstate in scipy.sparse csc format.\n",
    "    \"\"\"\n",
    "    values, vectors = sp.sparse.linalg.eigsh(sparse_operator,\n",
    "                                            k=1,\n",
    "                                            v0=initial_guess,\n",
    "                                            which='SA',\n",
    "                                            maxiter=1e7)\n",
    "\n",
    "    order = np.argsort(values)\n",
    "    values = values[order]\n",
    "    vectors = vectors[:, order]\n",
    "    eigenvalue = values[0]\n",
    "    eigenstate = vectors[:, 0]\n",
    "    return eigenvalue, eigenstate.T\n",
    "\n",
    "\n",
    "def plot_ground_state_amplitudes(eigenvalue,eigenvector, \n",
    "                                num_qubits: int, \n",
    "                                reverse_bitstrings: bool=False,\n",
    "                                return_amps: bool = False,\n",
    "                                matrix_type='sparse'\n",
    "                                )-> None:\n",
    "    \"\"\" Prints a barplot of the probability amplitudes for each \n",
    "    basis state in the ground eigenstate of the input operator\n",
    "    \"\"\"\n",
    "    bitstrings = [format(index, f'0{num_qubits}b') for index in range(2**(num_qubits))]\n",
    "    if reverse_bitstrings:\n",
    "        bitstrings.reverse()\n",
    "    amps = [(b_str, amp) for b_str,amp \n",
    "            in zip(bitstrings, np.square(abs(eigenvector))) if amp>1e-5]\n",
    "    amps = sorted(amps, key=lambda x:-x[1])\n",
    "    X, Y = zip(*amps)\n",
    "    \n",
    "    # plot and show the amplitudes\n",
    "    plt.bar(X, Y)\n",
    "    plt.xlabel('Basis state')\n",
    "    plt.ylabel('Amplitude in ground state')\n",
    "    plt.title(f'Energy = {eigenvalue: .10f}')\n",
    "    plt.xticks(rotation=90)\n",
    "    plt.show()\n",
    "\n",
    "    if return_amps:\n",
    "        return amps"
   ]
  },
  {
   "cell_type": "markdown",
   "id": "80ab8291",
   "metadata": {},
   "source": [
    "First, we shall construct a molecule using OpenFermion with PySCF the underlying quantum chemistry package. The resulting fermionic operator will be mapped onto qubits via the Jordan-Wigner transformation."
   ]
  },
  {
   "cell_type": "code",
   "execution_count": 2,
   "id": "67641e92",
   "metadata": {},
   "outputs": [
    {
     "name": "stdout",
     "output_type": "stream",
     "text": [
      "Jordan-Wigner Hamiltonian:\n",
      "\n",
      " -1.0811274948+0.0000000000j IIIIIIII +\n",
      "0.0645963760+0.0000000000j ZIIIIIII +\n",
      "-0.0143140436+0.0000000000j YZZZZZYI +\n",
      "-0.0143140436+0.0000000000j XZZZZZXI +\n",
      "0.0645963760+0.0000000000j IZIIIIII +\n",
      "-0.0143140436+0.0000000000j IYZZZZZY +\n",
      "-0.0143140436+0.0000000000j IXZZZZZX +\n",
      "0.0375798741+0.0000000000j IIZIIIII +\n",
      "0.0375798741+0.0000000000j IIIZIIII +\n",
      "0.0375798741+0.0000000000j IIIIZIII +\n",
      "0.0375798741+0.0000000000j IIIIIZII +\n",
      "0.0137944489+0.0000000000j IIIIIIZI +\n",
      "0.0137944489+0.0000000000j IIIIIIIZ +\n",
      "0.0908852744+0.0000000000j ZZIIIIII +\n",
      "0.0136645533+0.0000000000j YIZZZZYI +\n",
      "0.0136645533+0.0000000000j XIZZZZXI +\n",
      "0.0189423187+0.0000000000j YXXYIIII +\n",
      "-0.0189423187+0.0000000000j YYXXIIII +\n",
      "-0.0189423187+0.0000000000j XXYYIIII +\n",
      "0.0189423187+0.0000000000j XYYXIIII +\n",
      "0.0572431561+0.0000000000j YXIIXYII +\n",
      "-0.0572431561+0.0000000000j YYIIXXII +\n",
      "-0.0572431561+0.0000000000j XXIIYYII +\n",
      "0.0572431561+0.0000000000j XYIIYXII +\n",
      "0.0136645533+0.0000000000j ZYZZZZZY +\n",
      "0.0136645533+0.0000000000j ZXZZZZZX +\n",
      "0.0235653143+0.0000000000j YXIIIIXY +\n",
      "-0.0235653143+0.0000000000j YYIIIIXX +\n",
      "-0.0235653143+0.0000000000j XXIIIIYY +\n",
      "0.0235653143+0.0000000000j XYIIIIYX +\n",
      "0.0498887234+0.0000000000j ZIZIIIII +\n",
      "0.0067244017+0.0000000000j YZIZZZYI +\n",
      "0.0067244017+0.0000000000j XZIZZZXI +\n",
      "0.0688310421+0.0000000000j ZIIZIIII +\n",
      "-0.0266862330+0.0000000000j YZZIZZYI +\n",
      "-0.0266862330+0.0000000000j XZZIZZXI +\n",
      "0.0334106347+0.0000000000j YZYYZZZY +\n",
      "0.0334106347+0.0000000000j YZYXZZZX +\n",
      "0.0334106347+0.0000000000j XZXYZZZY +\n",
      "0.0334106347+0.0000000000j XZXXZZZX +\n",
      "0.0422050982+0.0000000000j ZIIIZIII +\n",
      "-0.0069105634+0.0000000000j YZZZIZYI +\n",
      "-0.0069105634+0.0000000000j XZZZIZXI +\n",
      "0.0994482542+0.0000000000j ZIIIIZII +\n",
      "0.0276454927+0.0000000000j YZZZZIYI +\n",
      "0.0276454927+0.0000000000j XZZZZIXI +\n",
      "-0.0345560561+0.0000000000j YZZZYYZY +\n",
      "-0.0345560561+0.0000000000j YZZZYXZX +\n",
      "-0.0345560561+0.0000000000j XZZZXYZY +\n",
      "-0.0345560561+0.0000000000j XZZZXXZX +\n",
      "0.0538188700+0.0000000000j ZIIIIIZI +\n",
      "0.0773841843+0.0000000000j ZIIIIIIZ +\n",
      "-0.0127181635+0.0000000000j YZZZZZYZ +\n",
      "-0.0127181635+0.0000000000j XZZZZZXZ +\n",
      "0.0688310421+0.0000000000j IZZIIIII +\n",
      "-0.0266862330+0.0000000000j IYIZZZZY +\n",
      "-0.0266862330+0.0000000000j IXIZZZZX +\n",
      "0.0334106347+0.0000000000j IYXXZZYI +\n",
      "-0.0334106347+0.0000000000j IYYXZZXI +\n",
      "-0.0334106347+0.0000000000j IXXYZZYI +\n",
      "0.0334106347+0.0000000000j IXYYZZXI +\n",
      "0.0498887234+0.0000000000j IZIZIIII +\n",
      "0.0067244017+0.0000000000j IYZIZZZY +\n",
      "0.0067244017+0.0000000000j IXZIZZZX +\n",
      "0.0994482542+0.0000000000j IZIIZIII +\n",
      "0.0276454927+0.0000000000j IYZZIZZY +\n",
      "0.0276454927+0.0000000000j IXZZIZZX +\n",
      "-0.0345560561+0.0000000000j IYZZXXYI +\n",
      "0.0345560561+0.0000000000j IYZZYXXI +\n",
      "0.0345560561+0.0000000000j IXZZXYYI +\n",
      "-0.0345560561+0.0000000000j IXZZYYXI +\n",
      "0.0422050982+0.0000000000j IZIIIZII +\n",
      "-0.0069105634+0.0000000000j IYZZZIZY +\n",
      "-0.0069105634+0.0000000000j IXZZZIZX +\n",
      "0.0773841843+0.0000000000j IZIIIIZI +\n",
      "-0.0127181635+0.0000000000j IYZZZZIY +\n",
      "-0.0127181635+0.0000000000j IXZZZZIX +\n",
      "0.0538188700+0.0000000000j IZIIIIIZ +\n",
      "0.1163770312+0.0000000000j IIZZIIII +\n",
      "0.0000708137+0.0000000000j IIYXXYII +\n",
      "-0.0000708137+0.0000000000j IIYYXXII +\n",
      "-0.0000708137+0.0000000000j IIXXYYII +\n",
      "0.0000708137+0.0000000000j IIXYYXII +\n",
      "0.0592757619+0.0000000000j IIYXIIXY +\n",
      "-0.0592757619+0.0000000000j IIYYIIXX +\n",
      "-0.0592757619+0.0000000000j IIXXIIYY +\n",
      "0.0592757619+0.0000000000j IIXYIIYX +\n",
      "0.0535725633+0.0000000000j IIZIZIII +\n",
      "0.0536433770+0.0000000000j IIZIIZII +\n",
      "0.0418747452+0.0000000000j IIZIIIZI +\n",
      "0.1011505070+0.0000000000j IIZIIIIZ +\n",
      "0.0536433770+0.0000000000j IIIZZIII +\n",
      "0.0535725633+0.0000000000j IIIZIZII +\n",
      "0.1011505070+0.0000000000j IIIZIIZI +\n",
      "0.0418747452+0.0000000000j IIIZIIIZ +\n",
      "0.1163770312+0.0000000000j IIIIZZII +\n",
      "0.0209749245+0.0000000000j IIIIYXXY +\n",
      "-0.0209749245+0.0000000000j IIIIYYXX +\n",
      "-0.0209749245+0.0000000000j IIIIXXYY +\n",
      "0.0209749245+0.0000000000j IIIIXYYX +\n",
      "0.0495583704+0.0000000000j IIIIZIZI +\n",
      "0.0705332949+0.0000000000j IIIIZIIZ +\n",
      "0.0705332949+0.0000000000j IIIIIZZI +\n",
      "0.0495583704+0.0000000000j IIIIIZIZ +\n",
      "0.0942441034+0.0000000000j IIIIIIZZ\n"
     ]
    }
   ],
   "source": [
    "# Two examples are provided -- comment out as necessary\n",
    "\n",
    "# One for which Hartree-Fock identifies the correct symmetry sector...\n",
    "#geometry=[\n",
    "#    (\"O\",(0,0,0)),\n",
    "#    (\"H\",(0.952519,0,0)),\n",
    "#    (\"H\",(-0.246530058,0.9200627021,0))\n",
    "#]\n",
    "\n",
    "# ...and one for which it does not.\n",
    "geometry=[\n",
    "    ('H', (0.0,0.0,0.0)),\n",
    "    ('H', (2.45366053071732,0.0,0.0)),\n",
    "    ('H', (2.45366053071732,2.45366053071732,0.0)),\n",
    "    ('H', (0.0,2.45366053071732,0.0))\n",
    "     ]    \n",
    "    \n",
    "basis = 'sto-3g'\n",
    "multiplicity = 1\n",
    "charge = 0\n",
    "\n",
    "molecule_data = of.MolecularData(geometry, basis, multiplicity, charge)\n",
    "#molecule.load()\n",
    "\n",
    "# Run pyscf.\n",
    "molecule = ofpyscf.run_pyscf(molecule_data,\n",
    "                     run_scf=1,run_mp2=1,run_cisd=1,run_ccsd=1,run_fci=1)\n",
    "\n",
    "n_qubits    = 2*molecule.n_orbitals\n",
    "n_electrons = molecule.n_electrons\n",
    "\n",
    "ham_fermionic = of.get_fermion_operator(molecule.get_molecular_hamiltonian())\n",
    "ham_jw = of.jordan_wigner(ham_fermionic)\n",
    "\n",
    "def QubitOperator_to_dict(op, num_qubits):\n",
    "    assert(type(op) == of.QubitOperator)\n",
    "    op_dict = {}\n",
    "    term_dict = op.terms\n",
    "    terms = list(term_dict.keys())\n",
    "\n",
    "    for t in terms:    \n",
    "        letters = ['I' for i in range(num_qubits)]\n",
    "        for i in t:\n",
    "            letters[i[0]] = i[1]\n",
    "        p_string = ''.join(letters)        \n",
    "        op_dict[p_string] = term_dict[t]\n",
    "         \n",
    "    return op_dict\n",
    "\n",
    "ham_dict = QubitOperator_to_dict(ham_jw, n_qubits)\n",
    "ham = PauliwordOp(ham_dict)\n",
    "\n",
    "print('Jordan-Wigner Hamiltonian:\\n\\n', ham)"
   ]
  },
  {
   "cell_type": "markdown",
   "id": "97bd01b8",
   "metadata": {},
   "source": [
    "We are now in a position to initialize our `QubitTapering` class, which will identify a set of independent operators that generate the Hamiltonian symmetry."
   ]
  },
  {
   "cell_type": "code",
   "execution_count": 3,
   "id": "651ece02",
   "metadata": {},
   "outputs": [
    {
     "name": "stdout",
     "output_type": "stream",
     "text": [
      "We are able to taper 4 qubits from the Hamiltonian.\n",
      "\n",
      "The symmetry generators are\n",
      "\n",
      "1+0j ZIIZIZZI +\n",
      "1+0j IZIZIZIZ +\n",
      "1+0j IIZZIIII +\n",
      "1+0j IIIIZZII\n",
      "\n",
      "and are rotated onto the single-qubit Pauli operators\n",
      "\n",
      "-1+0j IIIIXIII +\n",
      "-1+0j IIXIIIII +\n",
      "-1+0j IXIIIIII +\n",
      "-1+0j XIIIIIII\n",
      "\n",
      "via a sequence of Clifford pi/2 rotations\n",
      "\n",
      "('IIYZIIII', None)\n"
     ]
    }
   ],
   "source": [
    "taper_hamiltonian = QubitTapering(ham)\n",
    "\n",
    "print(f'We are able to taper {taper_hamiltonian.n_taper} qubits from the Hamiltonian.\\n')\n",
    "print('The symmetry generators are\\n')\n",
    "print(taper_hamiltonian.symmetry_generators)\n",
    "print('\\nand are rotated onto the single-qubit Pauli operators\\n')\n",
    "print(taper_hamiltonian.stabilizers.rotate_onto_single_qubit_paulis())\n",
    "print('\\nvia a sequence of Clifford pi/2 rotations\\n')\n",
    "print(taper_hamiltonian.stabilizers.stabilizer_rotations[0])"
   ]
  },
  {
   "cell_type": "markdown",
   "id": "43fff4e2",
   "metadata": {},
   "source": [
    "In order to perform the stabilizer subspace projection, we must also supply a symmetry sector or reference state. Under the Jordan-Wigner transformation, the Hartree-Fock state for our $M$-electron, $N$-orbital molecular system with charge=0 and multiplicity=1 will be \n",
    "\n",
    "$$|\\mathrm{HF}\\rangle = |\\underbrace{1 \\dots 1}_{M \\,\\text{times}}\\; \\underbrace{0 \\dots 0}_{N-M \\,\\text{times}} \\rangle.$$\n",
    "\n",
    "Note that OpenFermion fills orbital occupations from the left... this will not always be the case! For example, if using Qiskit or some other quantum computing package the Hartree-Fock state will not look the same."
   ]
  },
  {
   "cell_type": "code",
   "execution_count": 4,
   "id": "03b40998",
   "metadata": {},
   "outputs": [
    {
     "name": "stdout",
     "output_type": "stream",
     "text": [
      "The Hartree-Fock state is |11110000>\n"
     ]
    }
   ],
   "source": [
    "hf_state = np.concatenate([np.ones(n_electrons, dtype=int),np.zeros(n_qubits-n_electrons, dtype=int)])\n",
    "hf_string = ''.join([str(i) for i in hf_state])\n",
    "print(f'The Hartree-Fock state is |{hf_string}>')"
   ]
  },
  {
   "cell_type": "markdown",
   "id": "231cb454",
   "metadata": {},
   "source": [
    "The corresponding sector is obtained by measuring each symmetry generator with respect to the reference state, yielding a $\\pm1$ eigenvalue assignment."
   ]
  },
  {
   "cell_type": "code",
   "execution_count": 5,
   "id": "7244101d",
   "metadata": {},
   "outputs": [
    {
     "name": "stdout",
     "output_type": "stream",
     "text": [
      "The symmetry sector corresponding with the reference state is [1 1 1 1]\n"
     ]
    }
   ],
   "source": [
    "taper_hamiltonian.stabilizers.update_sector(hf_state)\n",
    "print(f'The symmetry sector corresponding with the reference state is {taper_hamiltonian.stabilizers.coeff_vec}')"
   ]
  },
  {
   "cell_type": "markdown",
   "id": "0a633cab",
   "metadata": {},
   "source": [
    "This is everything we need to go ahead and perform the tapering process, which is effected by the `taper_it()` method that calls on the parent `S3_projection` class."
   ]
  },
  {
   "cell_type": "code",
   "execution_count": 6,
   "id": "3d54b931",
   "metadata": {},
   "outputs": [
    {
     "name": "stdout",
     "output_type": "stream",
     "text": [
      "Tapered Hamiltonian:\n",
      "\n",
      " -0.8483734323+0.0000000000j IIII +\n",
      "0.0137944489+0.0000000000j IIIZ +\n",
      "0.0137944489+0.0000000000j IIZI +\n",
      "0.1851293778+0.0000000000j IIZZ +\n",
      "0.0751597481+0.0000000000j IZII +\n",
      "0.2388114308+0.0000000000j IZIZ +\n",
      "0.2388114308+0.0000000000j IZZI +\n",
      "0.0751597481+0.0000000000j ZIII +\n",
      "0.2846786046+0.0000000000j ZIIZ +\n",
      "0.2846786046+0.0000000000j ZIZI +\n",
      "0.3220696208+0.0000000000j ZZII +\n",
      "0.0645963760-0.0000000000j ZZIZ +\n",
      "0.0645963760-0.0000000000j ZZZI +\n",
      "0.1547683686+0.0000000000j ZZZZ +\n",
      "0.0263827168+0.0000000000j IIIX +\n",
      "0.0143140436-0.0000000000j IIZX +\n",
      "-0.0406967606+0.0000000000j IZZX +\n",
      "0.0406967606+0.0000000000j ZIZX +\n",
      "-0.0263827168+0.0000000000j ZZIX +\n",
      "-0.0143140436+0.0000000000j ZZZX +\n",
      "-0.0263827168+0.0000000000j IIXI +\n",
      "-0.0143140436+0.0000000000j IIXZ +\n",
      "0.0406967606+0.0000000000j IZXZ +\n",
      "-0.0406967606+0.0000000000j ZIXZ +\n",
      "0.0263827168+0.0000000000j ZZXI +\n",
      "0.0143140436-0.0000000000j ZZXZ +\n",
      "-0.0471306285+0.0000000000j IIYY +\n",
      "0.0471306285+0.0000000000j ZZYY +\n",
      "-0.0572431561+0.0000000000j IXII +\n",
      "-0.0572431561+0.0000000000j IXZZ +\n",
      "0.0572431561-0.0000000000j ZXIZ +\n",
      "0.0572431561+0.0000000000j ZXZI +\n",
      "-0.0345560561+0.0000000000j IXIX +\n",
      "-0.0345560561+0.0000000000j IYIY +\n",
      "0.0345560561-0.0000000000j ZXZX +\n",
      "0.0345560561-0.0000000000j ZYZY +\n",
      "0.0345560561+0.0000000000j IXXI +\n",
      "0.0345560561-0.0000000000j IYYI +\n",
      "-0.0345560561+0.0000000000j ZXXZ +\n",
      "-0.0345560561+0.0000000000j ZYYZ +\n",
      "-0.0209749245+0.0000000000j IXXX +\n",
      "0.0209749245-0.0000000000j IXYY +\n",
      "-0.0209749245+0.0000000000j IYXY +\n",
      "-0.0209749245+0.0000000000j IYYX +\n",
      "-0.0189423187+0.0000000000j XIII +\n",
      "-0.0189423187+0.0000000000j XIZZ +\n",
      "0.0189423187-0.0000000000j XZIZ +\n",
      "0.0189423187+0.0000000000j XZZI +\n",
      "0.0334106347+0.0000000000j XIIX +\n",
      "-0.0334106347+0.0000000000j XZZX +\n",
      "0.0334106347+0.0000000000j YIIY +\n",
      "-0.0334106347+0.0000000000j YZZY +\n",
      "-0.0334106347+0.0000000000j XIXI +\n",
      "0.0334106347-0.0000000000j XZXZ +\n",
      "-0.0334106347+0.0000000000j YIYI +\n",
      "0.0334106347+0.0000000000j YZYZ +\n",
      "-0.0592757619+0.0000000000j XIXX +\n",
      "0.0592757619-0.0000000000j XIYY +\n",
      "-0.0592757619+0.0000000000j YIXY +\n",
      "-0.0592757619+0.0000000000j YIYX +\n",
      "0.0001416274+0.0000000000j XXII +\n",
      "0.0001416274+0.0000000000j YYII\n"
     ]
    }
   ],
   "source": [
    "ham_tap = taper_hamiltonian.taper_it(ref_state=hf_state)\n",
    "print('Tapered Hamiltonian:\\n\\n', ham_tap)"
   ]
  },
  {
   "cell_type": "markdown",
   "id": "1971fa84",
   "metadata": {},
   "source": [
    "We should also check that the ground state energy of the tapered Hamiltonian mathces that of the full system."
   ]
  },
  {
   "cell_type": "code",
   "execution_count": 7,
   "id": "2bde8799",
   "metadata": {},
   "outputs": [
    {
     "name": "stdout",
     "output_type": "stream",
     "text": [
      "The ground state energy of the full system is -1.8743108952541772,\n",
      "whereas for the tapered system we find the energy is -1.8643897202426927.\n",
      "The absolute error is 0.009921175011484484.\n"
     ]
    }
   ],
   "source": [
    "true_gs_energy, true_gs_vec = get_ground_state(ham.to_sparse_matrix)\n",
    "tap_gs_energy, tap_gs = get_ground_state(ham_tap.to_sparse_matrix)\n",
    "\n",
    "print(f'The ground state energy of the full system is {true_gs_energy},')\n",
    "print(f'whereas for the tapered system we find the energy is {tap_gs_energy}.')\n",
    "print(f'The absolute error is {tap_gs_energy-true_gs_energy}.')"
   ]
  },
  {
   "cell_type": "markdown",
   "id": "7d0ff99a",
   "metadata": {},
   "source": [
    "Do they match? Depending on the molecule chosen, they might not! One can sometimes find that the Hartree-Fock state does not yield the correct symmetry sector, particularly in the strongly correlated regime."
   ]
  },
  {
   "cell_type": "code",
   "execution_count": 8,
   "id": "1daa0bed",
   "metadata": {},
   "outputs": [
    {
     "name": "stdout",
     "output_type": "stream",
     "text": [
      "The Hartree-Fock state has no overlap with the true ground state!\n",
      "Overlap of the Hartree-Fock state with the true ground state: <HF|True GS> = 0.0000000000\n"
     ]
    }
   ],
   "source": [
    "hf_vec = np.eye(1,len(true_gs_vec),int(hf_string,2))\n",
    "hf_overlap = np.square(np.abs(hf_vec.dot(true_gs_vec)))[0]\n",
    "\n",
    "if hf_overlap < 1e-18:\n",
    "    print('The Hartree-Fock state has no overlap with the true ground state!')\n",
    "else:\n",
    "    print('The Hartree-Fock state exhibits non-zero overlap with the true ground state.')\n",
    "print(f'Overlap of the Hartree-Fock state with the true ground state: <HF|True GS> = {hf_overlap:.10f}')"
   ]
  },
  {
   "cell_type": "markdown",
   "id": "3b96e647",
   "metadata": {},
   "source": [
    "If we instead take the dominant basis state (plotted below in a histogram), we should see that the energies do match in the resulting sector..."
   ]
  },
  {
   "cell_type": "code",
   "execution_count": 9,
   "id": "a17ca852",
   "metadata": {},
   "outputs": [
    {
     "data": {
      "image/png": "[encoded data removed]",
      "text/plain": [
       "<Figure size 432x288 with 1 Axes>"
      ]
     },
     "metadata": {
      "needs_background": "light"
     },
     "output_type": "display_data"
    },
    {
     "name": "stdout",
     "output_type": "stream",
     "text": [
      "In the sector [ 1  1 -1 -1], we find the ground state energy to be -1.8743108952541725.\n",
      "The absolute error is 4.6629367034256575e-15.\n"
     ]
    }
   ],
   "source": [
    "amps = plot_ground_state_amplitudes(true_gs_energy,true_gs_vec, n_qubits, return_amps=True)\n",
    "new_ref_state = [int(i) for i in amps[0][0]]\n",
    "ham_tap_2 = taper_hamiltonian.taper_it(ref_state=new_ref_state)\n",
    "tap_gs_energy_2, tap_gs_2 = get_ground_state(ham_tap_2.to_sparse_matrix)\n",
    "\n",
    "print(f'In the sector {taper_hamiltonian.stabilizers.coeff_vec}, we find the ground state energy to be {tap_gs_energy_2}.')\n",
    "print(f'The absolute error is {tap_gs_energy_2-true_gs_energy}.')"
   ]
  },
  {
   "cell_type": "markdown",
   "id": "6adcb2af",
   "metadata": {},
   "source": [
    "*The problem is...* \n",
    "\n",
    "we will not in general know how the basis states are distributed in the ground state!\n",
    "\n",
    "The scalability of tapering is highly predicated on finding new approaches to identifying the correct symmetry sector."
   ]
  }
 ],
 "metadata": {
  "kernelspec": {
   "display_name": "Python 3 (ipykernel)",
   "language": "python",
   "name": "python3"
  },
  "language_info": {
   "codemirror_mode": {
    "name": "ipython",
    "version": 3
   },
   "file_extension": ".py",
   "mimetype": "text/x-python",
   "name": "python",
   "nbconvert_exporter": "python",
   "pygments_lexer": "ipython3",
   "version": "3.9.7"
  }
 },
 "nbformat": 4,
 "nbformat_minor": 5
}
