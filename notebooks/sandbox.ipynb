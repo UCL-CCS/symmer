{
 "cells": [
  {
   "cell_type": "code",
   "execution_count": 1,
   "id": "1437cc10",
   "metadata": {},
   "outputs": [],
   "source": [
    "from symred.symplectic_form import PauliwordOp, StabilizerOp\n",
    "from symred.S3_projection import (S3_projection, \n",
    "                                  gf2_gaus_elim, \n",
    "                                  gf2_basis_for_gf2_rref, \n",
    "                                  QubitTapering, \n",
    "                                  CS_VQE, \n",
    "                                  CheatS_VQE)\n",
    "from symred.build_model import build_molecule_for_projection\n",
    "from symred.utils import exact_gs_energy, quasi_model\n",
    "import json\n",
    "import numpy as np\n",
    "from functools import reduce\n",
    "import matplotlib.pyplot as plt\n",
    "import openfermion as of\n",
    "import openfermionpyscf as ofpyscf\n",
    "from openfermion.circuits import ( uccsd_singlet_get_packed_amplitudes,\n",
    "                                   uccsd_singlet_generator, uccsd_generator,\n",
    "                                   uccsd_convert_amplitude_format)\n",
    "from cirq.testing import random_unitary\n",
    "from itertools import combinations, product\n",
    "\n",
    "import warnings\n",
    "warnings.filterwarnings(\"ignore\")"
   ]
  },
  {
   "cell_type": "code",
   "execution_count": 2,
   "id": "55e66d5b",
   "metadata": {},
   "outputs": [
    {
     "name": "stdout",
     "output_type": "stream",
     "text": [
      "dict_keys(['H2_3-21G_SINGLET', 'H6_STO-3G_SINGLET', 'H2_6-31G_SINGLET', 'H2_6-311G_SINGLET', 'H3+_STO-3G_SINGLET', 'H3+_3-21G_SINGLET', 'HeH+_3-21G_SINGLET', 'HeH+_6-311G_SINGLET', 'H2O_STO-3G_SINGLET', 'BeH+_STO-3G_SINGLET', 'LiH_STO-3G_SINGLET', 'CH+_STO-3G_SINGLET', 'HF_STO-3G_SINGLET', 'B+_STO-3G_SINGLET', 'B_STO-3G_DOUBLET', 'N_STO-3G_QUARTET', 'OH-_STO-3G_SINGLET', 'O_STO-3G_TRIPLET', 'CH2_STO-3G_TRIPLET', 'BeH2_STO-3G_SINGLET', 'Be_STO-3G_SINGLET', 'C_STO-3G_TRIPLET', 'NH_STO-3G_SINGLET', 'Ne_STO-3G_SINGLET', 'F_STO-3G_DOUBLET', 'Li_STO-3G_DOUBLET', 'BH_STO-3G_SINGLET', 'NeH+_STO-3G_SINGLET', 'NH2+_STO-3G_SINGLET', 'BH2+_STO-3G_SINGLET', 'HCl_STO-3G_SINGLET', 'H4_STO-3G_SINGLET', 'NH3_STO-3G_SINGLET', 'F2_STO-3G_SINGLET', 'HCN_STO-3G_SINGLET', 'CH4_STO-3G_SINGLET', 'CH3OH_STO-3G_SINGLET', 'C2H6_STO-3G_SINGLET', 'CH3CN_STO-3G_SINGLET', 'CH3CHO_STO-3G_SINGLET', 'CH3CHOHCH3_STO-3G_SINGLET', 'CHONH2_STO-3G_SINGLET', 'CO2_STO-3G_SINGLET', 'O2_STO-3G_SINGLET', 'O3_STO-3G_SINGLET', 'HOOH_STO-3G_SINGLET', 'NaCl_STO-3G_SINGLET', 'H2S_STO-3G_SINGLET', 'SiH4_STO-3G_SINGLET'])\n"
     ]
    }
   ],
   "source": [
    "with open('data/molecule_data.json', 'r') as jfile:\n",
    "    molecule_geometries = json.load(jfile)\n",
    "with open('data/model_data.json', 'r') as jfile:\n",
    "    model_data = json.load(jfile)\n",
    "print(molecule_geometries.keys())"
   ]
  },
  {
   "cell_type": "markdown",
   "id": "fa695f0a",
   "metadata": {},
   "source": [
    "# Build the molecule with PySCF"
   ]
  },
  {
   "cell_type": "code",
   "execution_count": 3,
   "id": "5e89abe4",
   "metadata": {},
   "outputs": [],
   "source": [
    "# Set molecule parameters\n",
    "speciesname = 'Be_STO-3G_SINGLET'\n",
    "mol_data = molecule_geometries[speciesname]\n",
    "if 'name' in mol_data:\n",
    "    print(mol_data['name'])\n",
    "    \n",
    "atoms = mol_data['atoms']\n",
    "coords = mol_data['coords']\n",
    "basis = mol_data['basis']\n",
    "multiplicity = mol_data['multiplicity']\n",
    "charge = mol_data['charge']\n",
    "geometry = list(zip(atoms, coords))\n",
    "\n",
    "delete_input = True\n",
    "delete_output = True\n",
    "cisd=1\n",
    "ccsd=1\n",
    "fci =1 # wouldn't advise turning this on over 32 qubits!\n",
    "\n",
    "# Run pyscf.\n",
    "molecule_data = of.MolecularData(geometry, basis, multiplicity, charge)\n",
    "calculated_molecule = ofpyscf.run_pyscf(molecule_data,\n",
    "                     run_scf=1,run_mp2=1,run_cisd=cisd,run_ccsd=ccsd,run_fci=fci)"
   ]
  },
  {
   "cell_type": "markdown",
   "id": "b48bcd2c",
   "metadata": {},
   "source": [
    "# Convert to qubits, taper and construct CS-VQE model"
   ]
  },
  {
   "cell_type": "code",
   "execution_count": 4,
   "id": "7c1bed3e",
   "metadata": {},
   "outputs": [
    {
     "name": "stdout",
     "output_type": "stream",
     "text": [
      "------------------------------------------------\n",
      "Information concerning the full system:\n",
      "------------------------------------------------\n",
      "Number of qubits in full problem: 10\n",
      "The Hartree-Fock state is |1111000000>\n",
      "HF   energy = -14.35188048\n",
      "MP2  energy = -14.37623885\n",
      "CISD energy = -14.40364578\n",
      "CCSD energy = -14.40365075\n",
      "FCI energy  = -14.40365511\n",
      "------------------------------------------------\n",
      "Tapering information:\n",
      "------------------------------------------------\n",
      "We are able to taper 5 qubits from the Hamiltonian\n",
      "The symmetry sector is:\n",
      "1 ZIZIIZIZIZ +\n",
      "1 IZIZIZIZIZ +\n",
      "1 IIIIZZIIII +\n",
      "1 IIIIIIZZII +\n",
      "1 IIIIIIIIZZ\n",
      "The tapered Hartree-Fock state is |11000>\n",
      "------------------------------------------------\n",
      "CS-VQE information:\n",
      "------------------------------------------------\n",
      "Noncontextual GS energy: -14.352558957524035\n",
      "Symmetry generators:    \n",
      "1 IIIIZ +\n",
      "1 IIIZI +\n",
      "1 IIZII +\n",
      "-1 ZIZZZ\n",
      "Clique representatives: \n",
      "-0.9997423322 IZZZZ +\n",
      "-0.0226995442 IXIII\n",
      "------------------------------------------------\n"
     ]
    }
   ],
   "source": [
    "model = build_molecule_for_projection(calculated_molecule, basis_weighting='ham_coeff')"
   ]
  },
  {
   "cell_type": "code",
   "execution_count": 5,
   "id": "2daf8583",
   "metadata": {},
   "outputs": [
    {
     "name": "stdout",
     "output_type": "stream",
     "text": [
      "1-qubit CS-VQE error:  0.031615\n",
      "2-qubit CS-VQE error:  0.015027\n",
      "3-qubit CS-VQE error:  0.001190\n",
      "------ done ------\n",
      "3-qubit CS-VQE error:  0.001190 | stabilizer indices: [0, 4]\n"
     ]
    }
   ],
   "source": [
    "stab_indices = model.greedy_search(3)\n",
    "projected = model.contextual_subspace_projection(stab_indices)\n",
    "nrg = exact_gs_energy(projected.to_sparse_matrix)[0]\n",
    "error = abs(nrg-model.fci_energy)\n",
    "print(f'{projected.n_qubits}-qubit CS-VQE error: {error: .6f} | stabilizer indices: {stab_indices}')"
   ]
  },
  {
   "cell_type": "code",
   "execution_count": 6,
   "id": "6728a8e0",
   "metadata": {},
   "outputs": [
    {
     "name": "stdout",
     "output_type": "stream",
     "text": [
      "Number of qubits:   0\n",
      "Stabilizer indices: [4, 0, 3, 2, 1]\n",
      "Energy Error:       0.05245293838307852\n",
      "\n",
      "Number of qubits:   1\n",
      "Stabilizer indices: [4, 3, 2, 1]\n",
      "Energy Error:       0.051774631865654897\n",
      "\n",
      "Number of qubits:   2\n",
      "Stabilizer indices: [4, 2, 1]\n",
      "Energy Error:       0.030817198613595664\n",
      "\n",
      "Number of qubits:   3\n",
      "Stabilizer indices: [2, 1]\n",
      "Energy Error:       0.030767190908484565\n",
      "\n",
      "Number of qubits:   4\n",
      "Stabilizer indices: [1]\n",
      "Energy Error:       0.014008575301271975\n",
      "\n"
     ]
    }
   ],
   "source": [
    "taper_qubit_map = {q_pos:index for index,q_pos in enumerate(model.untapered_qubits)}\n",
    "\n",
    "def HOMO_LUMO_hopping(N):\n",
    "    assert(N<=model.ham_tap.n_qubits), 'N exceeds the full number of qubits'\n",
    "    order = []\n",
    "    i=1\n",
    "    hop=model.HL_index\n",
    "    while hop in range(model.ham.n_qubits):\n",
    "        order.append(hop)\n",
    "        hop+=(i)*(-1)**(i)\n",
    "        i+=1\n",
    "    if 0 in order:\n",
    "        order+=list(range(max(order)+1, model.ham.n_qubits))\n",
    "    else:\n",
    "        order+=list(range(min(order)))[::-1]\n",
    "    taper_order = [taper_qubit_map[i] for i in order if i not in model.tapered_qubits]\n",
    "    return taper_order[:N]\n",
    "\n",
    "def HOMO_LUMO_upper_first(N):\n",
    "    upper = list(range(model.HL_index, model.ham.n_qubits))\n",
    "    lower = list(range(model.HL_index))\n",
    "    order = upper + lower[::-1]\n",
    "    taper_order = [taper_qubit_map[i] for i in order if i not in model.tapered_qubits]\n",
    "    return taper_order[:N]\n",
    "\n",
    "def left_to_right(N):\n",
    "    return list(range(N))\n",
    "\n",
    "def right_to_left(N):\n",
    "    return list(range(model.ham_tap.n_qubits - N, model.ham_tap.n_qubits)) \n",
    "    \n",
    "stab_qubit_map = {q_pos:index+1 for index, q_pos in \n",
    "                     enumerate(np.argmax(model.symmetry_generators.symp_matrix!=0, axis=1) \n",
    "                               % model.ham_tap.n_qubits)}\n",
    "C_qubit = list(set(range(model.ham_tap.n_qubits)).difference(stab_qubit_map.keys()))[0]\n",
    "stab_qubit_map[C_qubit] = 0\n",
    "\n",
    "def stab_ordering(N, q_ord_method):\n",
    "    qubit_ordering = q_ord_method(N)\n",
    "    fixed_qubits = set(range(model.ham_tap.n_qubits)).difference(qubit_ordering)\n",
    "    fixed_stabs = [stab_qubit_map[i] for i in fixed_qubits]\n",
    "    return fixed_stabs\n",
    "\n",
    "if model.ham_tap.n_qubits>=16:\n",
    "    N_max = 16\n",
    "else:\n",
    "    N_max = model.ham_tap.n_qubits\n",
    "    \n",
    "for N_sim in range(N_max):\n",
    "    stab_indices = stab_ordering(N_sim, HOMO_LUMO_hopping)\n",
    "    projected = model.contextual_subspace_projection(stab_indices)\n",
    "    nrg = exact_gs_energy(projected.to_sparse_matrix)[0]\n",
    "    print(f'Number of qubits:   {N_sim}\\n'+\n",
    "          f'Stabilizer indices: {stab_indices}\\n'+\n",
    "          f'Energy Error:       {abs(nrg-model.fci_energy)}')\n",
    "    print()"
   ]
  },
  {
   "cell_type": "code",
   "execution_count": 7,
   "id": "c83c180a",
   "metadata": {},
   "outputs": [
    {
     "name": "stdout",
     "output_type": "stream",
     "text": [
      "3-qubit CS-VQE error:  0.014927 | stabilizer indices: [0, 1]\n",
      "3-qubit CS-VQE error:  0.014927 | stabilizer indices: [0, 2]\n",
      "3-qubit CS-VQE error:  0.014927 | stabilizer indices: [0, 3]\n",
      "3-qubit CS-VQE error:  0.001190 | stabilizer indices: [0, 4]\n",
      "3-qubit CS-VQE error:  0.030767 | stabilizer indices: [1, 2]\n",
      "3-qubit CS-VQE error:  0.030767 | stabilizer indices: [1, 3]\n",
      "3-qubit CS-VQE error:  0.014119 | stabilizer indices: [1, 4]\n",
      "3-qubit CS-VQE error:  0.030767 | stabilizer indices: [2, 3]\n",
      "3-qubit CS-VQE error:  0.014119 | stabilizer indices: [2, 4]\n",
      "3-qubit CS-VQE error:  0.014119 | stabilizer indices: [3, 4]\n",
      "[[0, 4], 0.0011897237388165394]\n"
     ]
    }
   ],
   "source": [
    "cs_vqe_errors = []\n",
    "#for N_sim in range(\n",
    "for comb in combinations(list(range(model.ham_tap.n_qubits)), r=2):\n",
    "    comb=list(comb)\n",
    "    projected = model.contextual_subspace_projection(comb)\n",
    "    nrg = exact_gs_energy(projected.to_sparse_matrix)[0]\n",
    "    error = abs(nrg-model.fci_energy)\n",
    "    print(f'{projected.n_qubits}-qubit CS-VQE error: {error: .6f} | stabilizer indices: {comb}')\n",
    "    cs_vqe_errors.append([comb, abs(nrg-model.fci_energy)])\n",
    "    \n",
    "print(sorted(cs_vqe_errors, key=lambda x:x[1])[0])"
   ]
  },
  {
   "cell_type": "markdown",
   "id": "020ad966",
   "metadata": {},
   "source": [
    "# Different noncontextual forms"
   ]
  },
  {
   "cell_type": "code",
   "execution_count": 8,
   "id": "b11c63e5",
   "metadata": {},
   "outputs": [],
   "source": [
    "from quantumtools.Hamiltonian import QubitHamiltonian, HamiltonianGraph\n",
    "from symred.S3_projection import unitary_partitioning_rotations"
   ]
  },
  {
   "cell_type": "code",
   "execution_count": 9,
   "id": "1777b573",
   "metadata": {},
   "outputs": [],
   "source": [
    "terms, coeffs = zip(*model.ham_tap.to_dictionary.items())\n",
    "terms, coeffs = list(terms), list(coeffs)\n",
    "graph = HamiltonianGraph(terms, coeffs)\n",
    "g_dict = graph.clique_cover('AC', 'largest_first')\n",
    "largest_AC_set = sorted(g_dict.items(), key=lambda x:-x[1].n_terms)[0][1]"
   ]
  },
  {
   "cell_type": "code",
   "execution_count": 10,
   "id": "6f8a9e3d",
   "metadata": {},
   "outputs": [
    {
     "name": "stdout",
     "output_type": "stream",
     "text": [
      "-0.0466916923+0.0000000000j ZIIII +\n",
      "0.0380616241-0.0000000000j XZIII +\n",
      "-0.0051406428+0.0000000000j YIIIY +\n",
      "0.0051406428+0.0000000000j YZYZZ +\n",
      "-0.0217022449+0.0000000000j XYIIY +\n",
      "-0.0217022449+0.0000000000j XXXII\n"
     ]
    }
   ],
   "source": [
    "anti_op = PauliwordOp(largest_AC_set.symp_matrix, largest_AC_set.coeff_vec)\n",
    "print(anti_op)"
   ]
  },
  {
   "cell_type": "code",
   "execution_count": 11,
   "id": "c2ac120d",
   "metadata": {},
   "outputs": [
    {
     "name": "stdout",
     "output_type": "stream",
     "text": [
      "[('YZIII', -0.6839221871340887), ('XIIIY', -0.08513044713398724), ('XZYZZ', 0.08482363431870875), ('YYIIY', 0.3434918645830085), ('YXXII', 0.32484666743733187)]\n",
      "\n",
      "-0.0679972693+0.0000000000j ZIIII\n"
     ]
    },
    {
     "name": "stderr",
     "output_type": "stream",
     "text": [
      "/home/tweaving/anaconda3/lib/python3.8/site-packages/symred/symplectic_form.py:440: UserWarning: Pword coefficient -1.00000000+0.00000000j has been set to 1\n",
      "  warnings.warn(f'Pword coefficient {Pword.coeff_vec[0]: .8f} has been set to 1')\n",
      "/home/tweaving/anaconda3/lib/python3.8/site-packages/symred/symplectic_form.py:440: UserWarning: Pword coefficient -1.00000000+0.00000000j has been set to 1\n",
      "  warnings.warn(f'Pword coefficient {Pword.coeff_vec[0]: .8f} has been set to 1')\n"
     ]
    }
   ],
   "source": [
    "UP_rotations = unitary_partitioning_rotations(anti_op)\n",
    "print(UP_rotations)\n",
    "print()\n",
    "print(anti_op.recursive_rotate_by_Pword(UP_rotations).cleanup_zeros())"
   ]
  },
  {
   "cell_type": "code",
   "execution_count": null,
   "id": "ddba2a82",
   "metadata": {},
   "outputs": [],
   "source": []
  }
 ],
 "metadata": {
  "kernelspec": {
   "display_name": "Python 3 (ipykernel)",
   "language": "python",
   "name": "python3"
  },
  "language_info": {
   "codemirror_mode": {
    "name": "ipython",
    "version": 3
   },
   "file_extension": ".py",
   "mimetype": "text/x-python",
   "name": "python",
   "nbconvert_exporter": "python",
   "pygments_lexer": "ipython3",
   "version": "3.9.7"
  }
 },
 "nbformat": 4,
 "nbformat_minor": 5
}
