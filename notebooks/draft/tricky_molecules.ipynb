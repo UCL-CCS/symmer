{
 "cells": [
  {
   "cell_type": "code",
   "execution_count": 1,
   "id": "e724a277",
   "metadata": {},
   "outputs": [
    {
     "name": "stderr",
     "output_type": "stream",
     "text": [
      "2022-05-30 15:43:31.579805: W external/org_tensorflow/tensorflow/stream_executor/platform/default/dso_loader.cc:64] Could not load dynamic library 'libcudart.so.11.0'; dlerror: libcudart.so.11.0: cannot open shared object file: No such file or directory\n",
      "2022-05-30 15:43:31.618449: W external/org_tensorflow/tensorflow/stream_executor/platform/default/dso_loader.cc:64] Could not load dynamic library 'libcudart.so.11.0'; dlerror: libcudart.so.11.0: cannot open shared object file: No such file or directory\n",
      "2022-05-30 15:43:31.621678: W external/org_tensorflow/tensorflow/stream_executor/platform/default/dso_loader.cc:64] Could not load dynamic library 'libcudart.so.11.0'; dlerror: libcudart.so.11.0: cannot open shared object file: No such file or directory\n",
      "/home/tim/anaconda3/lib/python3.7/site-packages/pyscf/lib/misc.py:46: H5pyDeprecationWarning: Using default_file_mode other than 'r' is deprecated. Pass the mode to h5py.File() instead.\n",
      "  h5py.get_config().default_file_mode = 'a'\n"
     ]
    }
   ],
   "source": [
    "from symmer.projection import (\n",
    "    S3_projection, QubitTapering, CS_VQE_LW, CS_VQE,\n",
    "    StabilizerIdentification, ObservableBiasing, stabilizer_walk\n",
    ")\n",
    "from symmer.symplectic import *\n",
    "from symmer.utils import exact_gs_energy\n",
    "from symmer.utils import gf2_gaus_elim, gf2_basis_for_gf2_rref\n",
    "from symmer.chem import geometry_from_pubchem, MoleculeBuilder\n",
    "from matplotlib import pyplot as plt\n",
    "from functools import reduce\n",
    "import json"
   ]
  },
  {
   "cell_type": "code",
   "execution_count": 2,
   "id": "1c1eaf09",
   "metadata": {},
   "outputs": [
    {
     "name": "stdout",
     "output_type": "stream",
     "text": [
      "Molecule geometry:\n",
      "Al\t0\t0\t0\n",
      "\n",
      "HF converged?   True\n",
      "CCSD converged? True\n",
      "FCI converged?  True\n",
      "\n",
      "HF energy:   -237.25653909799263\n",
      "MP2 energy:  -237.2633959975336\n",
      "CCSD energy: -237.26342595760497\n",
      "FCI energy:  -237.26355057978995\n",
      "\n",
      "\n",
      "Number of qubits: 18\n"
     ]
    }
   ],
   "source": [
    "#mol_data = molecule_geometries[speciesname]\n",
    "#atoms  = mol_data['atoms']\n",
    "#coords = mol_data['coords']\n",
    "geometry = [('Al', (0,0,0))] #list(zip(atoms, coords))\n",
    "molecule = MoleculeBuilder(geometry=geometry, charge=+3, basis='STO-3G', spin=0, run_fci=True, print_info=True)\n",
    "\n",
    "# taper the Hamiltonian\n",
    "taper_hamiltonian = QubitTapering(molecule.H_q)\n",
    "hf_array = molecule.H_fermion.hf_comp_basis_state\n",
    "taper_hamiltonian.stabilizers.update_sector(hf_array)\n",
    "ham_tap = taper_hamiltonian.taper_it(ref_state=hf_array)\n",
    "ucc_tap = taper_hamiltonian.taper_it(aux_operator=molecule.T_q, ref_state=hf_array)\n",
    "hf_tapered = taper_hamiltonian.tapered_ref_state\n",
    "\n",
    "# initiate stabilizer identification classes\n",
    "Hc_stabilizers = StabilizerIdentification(ham_tap)\n",
    "CC_stabilizers = StabilizerIdentification(ucc_tap)\n",
    "HL_gap = np.where(hf_tapered==0)[0][0]-.5\n",
    "ham_biasing = ObservableBiasing(base_operator=ham_tap, HOMO_LUMO_gap=HL_gap)\n",
    "\n",
    "# build CS-VQE model\n",
    "cs_vqe = CS_VQE(ham_tap, hf_tapered, basis_weighting_operator=ucc_tap, noncontextual_form='diag')\n"
   ]
  },
  {
   "cell_type": "code",
   "execution_count": 3,
   "id": "00cccd20",
   "metadata": {},
   "outputs": [],
   "source": [
    "gs_nrg, gs_vec = exact_gs_energy(ham_tap.to_sparse_matrix)"
   ]
  },
  {
   "cell_type": "code",
   "execution_count": 4,
   "id": "d23a427a",
   "metadata": {},
   "outputs": [
    {
     "data": {
      "text/plain": [
       "-1.2060418074637482"
      ]
     },
     "execution_count": 4,
     "metadata": {},
     "output_type": "execute_result"
    }
   ],
   "source": [
    "gs_nrg - molecule.fci_energy"
   ]
  },
  {
   "cell_type": "code",
   "execution_count": 10,
   "id": "d78b2331",
   "metadata": {},
   "outputs": [
    {
     "name": "stdout",
     "output_type": "stream",
     "text": [
      "In sector (1, 1, 1, 1), error = -1.661622520301961\n",
      "In sector (1, 1, 1, -1), error = -1.625669448635989\n",
      "In sector (1, 1, -1, 1), error = -1.6256694486377796\n",
      "In sector (1, 1, -1, -1), error = -1.2060418074627535\n",
      "In sector (1, -1, 1, 1), error = -1.4407349197769292\n",
      "In sector (1, -1, 1, -1), error = -1.4233963497653122\n",
      "In sector (1, -1, -1, 1), error = -1.4233963497595994\n",
      "In sector (1, -1, -1, -1), error = -1.4407349197822725\n",
      "In sector (-1, 1, 1, 1), error = -1.4407349197784356\n",
      "In sector (-1, 1, 1, -1), error = -1.4233963497590594\n",
      "In sector (-1, 1, -1, 1), error = -1.4233963497584625\n",
      "In sector (-1, 1, -1, -1), error = -1.4407349197822157\n",
      "In sector (-1, -1, 1, 1), error = -1.2060418074635209\n",
      "In sector (-1, -1, 1, -1), error = -1.6256694486366996\n",
      "In sector (-1, -1, -1, 1), error = -1.625669448638348\n",
      "In sector (-1, -1, -1, -1), error = -1.2060418074641746\n"
     ]
    }
   ],
   "source": [
    "from itertools import product\n",
    "for comb in product([+1, -1], repeat=4):\n",
    "    ham_test = taper_hamiltonian.taper_it(sector=comb)\n",
    "    gs_nrg, gs_vec = exact_gs_energy(ham_test.to_sparse_matrix)\n",
    "    print(f'In sector {comb}, error = {gs_nrg - molecule.fci_energy}')"
   ]
  },
  {
   "cell_type": "code",
   "execution_count": 27,
   "id": "1a4c44b6",
   "metadata": {},
   "outputs": [
    {
     "data": {
      "text/plain": [
       "2092"
      ]
     },
     "execution_count": 27,
     "metadata": {},
     "output_type": "execute_result"
    }
   ],
   "source": [
    "ham_test = taper_hamiltonian.taper_it(sector=[0.5,0.5,0.5,0.5])\n",
    "ham_test.n_terms"
   ]
  },
  {
   "cell_type": "code",
   "execution_count": null,
   "id": "a406cac7",
   "metadata": {},
   "outputs": [],
   "source": [
    "gs_nrg, gs_vec = exact_gs_energy(ham_test.to_sparse_matrix)"
   ]
  },
  {
   "cell_type": "code",
   "execution_count": null,
   "id": "743e5e6c",
   "metadata": {},
   "outputs": [],
   "source": [
    "gs_nrg - molecule.fci_energy"
   ]
  },
  {
   "cell_type": "code",
   "execution_count": null,
   "id": "0d85ba02",
   "metadata": {},
   "outputs": [],
   "source": []
  },
  {
   "cell_type": "code",
   "execution_count": 26,
   "id": "ed15e3dd",
   "metadata": {},
   "outputs": [
    {
     "name": "stdout",
     "output_type": "stream",
     "text": [
      "[-1 -1  1  1]\n",
      "[-1 -1  1  1]\n",
      "[-1 -1  1  1]\n",
      "[-1 -1  1  1]\n",
      "[-1 -1  1  1]\n",
      "[-1 -1  1  1]\n",
      "[-1 -1  1  1]\n",
      "[-1 -1  1  1]\n",
      "[-1 -1  1  1]\n",
      "[-1 -1  1  1]\n",
      "[-1 -1  1  1]\n",
      "[-1 -1  1  1]\n",
      "[-1 -1  1  1]\n",
      "[-1 -1  1  1]\n",
      "[-1 -1  1  1]\n",
      "[-1 -1  1  1]\n",
      "[-1 -1  1  1]\n",
      "[-1 -1  1  1]\n",
      "[-1 -1  1  1]\n",
      "[-1 -1  1  1]\n",
      "[-1 -1  1  1]\n",
      "[-1 -1  1  1]\n",
      "[-1 -1  1  1]\n",
      "[-1 -1  1  1]\n",
      "[-1 -1  1  1]\n",
      "[-1 -1  1  1]\n",
      "[-1 -1  1  1]\n",
      "[-1 -1  1  1]\n",
      "[-1 -1  1  1]\n",
      "[-1 -1  1  1]\n",
      "[-1 -1  1  1]\n",
      "[-1 -1  1  1]\n",
      "[-1 -1  1  1]\n",
      "[-1 -1  1  1]\n",
      "[-1 -1  1  1]\n",
      "[-1 -1  1  1]\n",
      "[-1 -1  1  1]\n",
      "[-1 -1  1  1]\n",
      "[-1 -1  1  1]\n",
      "[-1 -1  1  1]\n",
      "[-1 -1  1  1]\n",
      "[-1 -1  1  1]\n",
      "[-1 -1  1  1]\n",
      "[-1 -1  1  1]\n",
      "[-1 -1  1  1]\n",
      "[-1 -1  1  1]\n",
      "[-1 -1  1  1]\n",
      "[-1 -1  1  1]\n",
      "[-1 -1  1  1]\n",
      "[-1 -1  1  1]\n",
      "[-1 -1  1  1]\n",
      "[-1 -1  1  1]\n",
      "[-1 -1  1  1]\n",
      "[-1 -1  1  1]\n",
      "[-1 -1  1  1]\n",
      "[-1 -1  1  1]\n",
      "[-1 -1  1  1]\n",
      "[-1 -1  1  1]\n",
      "[-1 -1  1  1]\n",
      "[-1 -1  1  1]\n",
      "[-1 -1  1  1]\n",
      "[-1 -1  1  1]\n",
      "[-1 -1  1  1]\n",
      "[-1 -1  1  1]\n",
      "[-1 -1  1  1]\n",
      "[-1 -1  1  1]\n",
      "[-1 -1  1  1]\n",
      "[-1 -1  1  1]\n",
      "[-1 -1  1  1]\n",
      "[-1 -1  1  1]\n",
      "[-1 -1  1  1]\n",
      "[-1 -1  1  1]\n",
      "[-1 -1  1  1]\n",
      "[-1 -1  1  1]\n",
      "[-1 -1  1  1]\n",
      "[-1 -1  1  1]\n",
      "[-1 -1  1  1]\n",
      "[-1 -1  1  1]\n",
      "[-1 -1  1  1]\n",
      "[-1 -1  1  1]\n",
      "[-1 -1  1  1]\n",
      "[-1 -1  1  1]\n",
      "[-1 -1  1  1]\n",
      "[-1 -1  1  1]\n",
      "[-1 -1  1  1]\n",
      "[-1 -1  1  1]\n",
      "[-1 -1  1  1]\n",
      "[-1 -1  1  1]\n",
      "[-1 -1  1  1]\n",
      "[-1 -1  1  1]\n",
      "[-1 -1  1  1]\n",
      "[-1 -1  1  1]\n",
      "[-1 -1  1  1]\n",
      "[-1 -1  1  1]\n",
      "[-1 -1  1  1]\n",
      "[-1 -1  1  1]\n",
      "[-1 -1  1  1]\n",
      "[-1 -1  1  1]\n",
      "[-1 -1  1  1]\n",
      "[-1 -1  1  1]\n",
      "[-1 -1  1  1]\n",
      "[-1 -1  1  1]\n",
      "[-1 -1  1  1]\n",
      "[-1 -1  1  1]\n",
      "[-1 -1  1  1]\n",
      "[-1 -1  1  1]\n",
      "[-1 -1  1  1]\n",
      "[-1 -1  1  1]\n",
      "[-1 -1  1  1]\n",
      "[-1 -1  1  1]\n",
      "[-1 -1  1  1]\n",
      "[-1 -1  1  1]\n",
      "[-1 -1  1  1]\n",
      "[-1 -1  1  1]\n",
      "[-1 -1  1  1]\n",
      "[-1 -1  1  1]\n",
      "[-1 -1  1  1]\n",
      "[-1 -1  1  1]\n",
      "[-1 -1  1  1]\n",
      "[-1 -1  1  1]\n",
      "[-1 -1  1  1]\n",
      "[-1 -1  1  1]\n",
      "[-1 -1  1  1]\n",
      "[-1 -1  1  1]\n",
      "[-1 -1  1  1]\n",
      "[-1 -1  1  1]\n",
      "[-1 -1  1  1]\n",
      "[-1 -1  1  1]\n",
      "[-1 -1  1  1]\n",
      "[-1 -1  1  1]\n",
      "[-1 -1  1  1]\n",
      "[-1 -1  1  1]\n",
      "[-1 -1  1  1]\n",
      "[-1 -1  1  1]\n",
      "[-1 -1  1  1]\n",
      "[-1 -1  1  1]\n",
      "[-1 -1  1  1]\n",
      "[-1 -1  1  1]\n",
      "[-1 -1  1  1]\n",
      "[-1 -1  1  1]\n",
      "[-1 -1  1  1]\n"
     ]
    }
   ],
   "source": [
    "CC_op = molecule.H_q\n",
    "ref_state = QuantumState([hf_array])\n",
    "\n",
    "psi = CC_op * ref_state\n",
    "\n",
    "for row in psi.state_op.symp_matrix:\n",
    "    taper_hamiltonian.stabilizers.update_sector(hf_array)\n",
    "    print(taper_hamiltonian.symmetry_generators.coeff_vec)"
   ]
  },
  {
   "cell_type": "code",
   "execution_count": null,
   "id": "1bb1c675",
   "metadata": {},
   "outputs": [],
   "source": []
  },
  {
   "cell_type": "code",
   "execution_count": null,
   "id": "2028ddcb",
   "metadata": {},
   "outputs": [],
   "source": []
  },
  {
   "cell_type": "code",
   "execution_count": 5,
   "id": "e24e62f3",
   "metadata": {},
   "outputs": [
    {
     "data": {
      "text/plain": [
       "-1 ZIZIIZIZIZZIIZIZIZ \n",
       "-1 IZIZIZIZIZIZIZIZIZ \n",
       " 1 IIIIZZIIIIIIIIIIZZ \n",
       " 1 IIIIIIZZZZIIZZZZII"
      ]
     },
     "execution_count": 5,
     "metadata": {},
     "output_type": "execute_result"
    }
   ],
   "source": [
    "taper_hamiltonian.symmetry_generators"
   ]
  },
  {
   "cell_type": "code",
   "execution_count": 6,
   "id": "61443d12",
   "metadata": {},
   "outputs": [
    {
     "name": "stdout",
     "output_type": "stream",
     "text": [
      "We are able to taper 3 qubits from the Hamiltonian.\n",
      "\n",
      "The symmetry generators are\n",
      "\n",
      " 1 ZIZIIZIZIZZIIZIZIZ \n",
      " 1 IZIZIZIZIZIZIZIZIZ \n",
      " 1 IIIIZZZZZZIIZZZZZZ\n",
      "\n",
      "and may be rotated via a sequence of Clifford pi/2 rotations\n",
      "\n",
      "[(1.000+0.000j YIZIIZIZIZZIIZIZIZ, None), (1.000+0.000j IYIZIZIZIZIZIZIZIZ, None), (1.000+0.000j IIIIYZZZZZIIZZZZZZ, None)]\n",
      "\n",
      "The symetry sector corresponding with the reference [1 1 1 1 1 1 1 1 1 1 1 1 0 0 0 0 0 0] is [1 1 1]\n",
      "The tapered Hartree-Fock state is  1.0000000000 |111111111000000>\n"
     ]
    }
   ],
   "source": [
    "print(f'We are able to taper {taper_hamiltonian.n_taper} qubits from the Hamiltonian.\\n')\n",
    "print('The symmetry generators are\\n')\n",
    "print(taper_hamiltonian.symmetry_generators)\n",
    "print('\\nand may be rotated via a sequence of Clifford pi/2 rotations\\n')\n",
    "print(taper_hamiltonian.stabilizers.stabilizer_rotations)\n",
    "#print('\\nonto the single-qubit Pauli operators\\n')\n",
    "#print(taper_hamiltonian.stabilizers.rotate_onto_single_qubit_paulis())\n",
    "print(f'\\nThe symetry sector corresponding with the reference {hf_array} is {taper_hamiltonian.stabilizers.coeff_vec}')\n",
    "print(f'The tapered Hartree-Fock state is', QuantumState([hf_tapered]))"
   ]
  },
  {
   "cell_type": "code",
   "execution_count": null,
   "id": "ce4cc9bd",
   "metadata": {},
   "outputs": [],
   "source": []
  }
 ],
 "metadata": {
  "kernelspec": {
   "display_name": "Python 3 (ipykernel)",
   "language": "python",
   "name": "python3"
  },
  "language_info": {
   "codemirror_mode": {
    "name": "ipython",
    "version": 3
   },
   "file_extension": ".py",
   "mimetype": "text/x-python",
   "name": "python",
   "nbconvert_exporter": "python",
   "pygments_lexer": "ipython3",
   "version": "3.7.13"
  }
 },
 "nbformat": 4,
 "nbformat_minor": 5
}
