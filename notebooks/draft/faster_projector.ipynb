{
 "cells": [
  {
   "cell_type": "code",
   "execution_count": 1,
   "id": "f1c7aed1",
   "metadata": {},
   "outputs": [],
   "source": [
    "import numpy as np\n",
    "from symmer.symplectic import PauliwordOp"
   ]
  },
  {
   "cell_type": "code",
   "execution_count": 61,
   "id": "831c934b",
   "metadata": {},
   "outputs": [],
   "source": [
    "N_qubits_fixed = 5\n",
    "n_qubits = N_qubits_fixed\n",
    "binary_vec = (((np.arange(2 ** N_qubits_fixed).reshape([-1, 1]) & (1 << np.arange(N_qubits_fixed))[\n",
    "                                                                          ::-1])) > 0).astype(bool)"
   ]
  },
  {
   "cell_type": "code",
   "execution_count": 55,
   "id": "4f274a7b",
   "metadata": {},
   "outputs": [],
   "source": [
    "def get_ij_operator(i,j, n_qubits):\n",
    "    left  = np.array([int(i) for i in np.binary_repr(i, width=n_qubits)]).astype(bool)\n",
    "    right = np.array([int(i) for i in np.binary_repr(j, width=n_qubits)]).astype(bool)\n",
    "\n",
    "    AND = left & right # AND where -1 sign\n",
    "    XOR = left ^ right # XOR where +-i phase\n",
    "\n",
    "    XZ_mult = left & binary_vec\n",
    "    ZX_mult = binary_vec & right\n",
    "\n",
    "    XZX_sign_flips = (-1) ** np.sum(AND & binary_vec, axis=1) # XZX = -X multiplications\n",
    "    XZ_phase = (-1j) ** np.sum(XZ_mult & ~ZX_mult, axis=1) # XZ=-iY multiplications\n",
    "    ZX_phase = (+1j) ** np.sum(ZX_mult & ~XZ_mult, axis=1) # ZX=+iY multiplications\n",
    "    phase_mod = XZX_sign_flips * XZ_phase * ZX_phase\n",
    "    \n",
    "    ij_symp_matrix = np.hstack([np.tile(XOR, [2**n_qubits, 1]), binary_vec])\n",
    "    ij_operator= PauliwordOp(ij_symp_matrix, phase_mod/2**n_qubits)\n",
    "    \n",
    "    return ij_operator"
   ]
  },
  {
   "cell_type": "code",
   "execution_count": 58,
   "id": "0b55ad04",
   "metadata": {},
   "outputs": [
    {
     "name": "stdout",
     "output_type": "stream",
     "text": [
      "3584\n",
      "4096.0\n"
     ]
    }
   ],
   "source": [
    "op = PauliwordOp.random(n_qubits,15)\n",
    "\n",
    "matrix = op.to_sparse_matrix.toarray()\n",
    "row, col = np.where(matrix)\n",
    "\n",
    "print(len(np.where(matrix)[0]))\n",
    "\n",
    "print(2**(1.5*n_qubits))"
   ]
  },
  {
   "cell_type": "code",
   "execution_count": 59,
   "id": "dc1f5945",
   "metadata": {},
   "outputs": [
    {
     "name": "stdout",
     "output_type": "stream",
     "text": [
      "2.51 s ± 157 ms per loop (mean ± std. dev. of 7 runs, 1 loop each)\n"
     ]
    }
   ],
   "source": [
    "%%timeit\n",
    "\n",
    "P_out = PauliwordOp.empty(n_qubits)\n",
    "for i,j in zip(row, col):\n",
    "    ij_op = get_ij_operator(i,j, n_qubits) \n",
    "    P_out += ij_op * matrix[i,j]"
   ]
  },
  {
   "cell_type": "code",
   "execution_count": 60,
   "id": "a7e8cb5a",
   "metadata": {},
   "outputs": [
    {
     "name": "stdout",
     "output_type": "stream",
     "text": [
      "3.56 s ± 122 ms per loop (mean ± std. dev. of 7 runs, 1 loop each)\n"
     ]
    }
   ],
   "source": [
    "%timeit PauliwordOp.from_matrix(matrix, strategy='projector')"
   ]
  },
  {
   "cell_type": "code",
   "execution_count": null,
   "id": "edb4afe5",
   "metadata": {},
   "outputs": [],
   "source": []
  },
  {
   "cell_type": "code",
   "execution_count": null,
   "id": "e21e1ddb",
   "metadata": {},
   "outputs": [],
   "source": []
  },
  {
   "cell_type": "code",
   "execution_count": null,
   "id": "bc64b515",
   "metadata": {},
   "outputs": [],
   "source": []
  }
 ],
 "metadata": {
  "kernelspec": {
   "display_name": "Python 3 (ipykernel)",
   "language": "python",
   "name": "python3"
  },
  "language_info": {
   "codemirror_mode": {
    "name": "ipython",
    "version": 3
   },
   "file_extension": ".py",
   "mimetype": "text/x-python",
   "name": "python",
   "nbconvert_exporter": "python",
   "pygments_lexer": "ipython3",
   "version": "3.7.13"
  }
 },
 "nbformat": 4,
 "nbformat_minor": 5
}
