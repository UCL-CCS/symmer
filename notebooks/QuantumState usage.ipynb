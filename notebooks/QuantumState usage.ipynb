{
 "cells": [
  {
   "cell_type": "markdown",
   "id": "c07b9d6d",
   "metadata": {},
   "source": [
    "# The `QuantumState` class\n",
    "\n",
    "Express an N-qubit quantum state as an array of N columns, where rows are binary bit values, complemented by a vector of coefficients. Note the similarity with the symplectic representation - indeed, the QuantumState class will infact set the above array as the X block in a PauliwordOp, with the Z block its complement.\n",
    "\n",
    "What we are doing here is writing $|0\\rangle = Z|0\\rangle$ and $|1\\rangle = X|0\\rangle$, which ensures correct phases when multiplying the state by Pauli operators, since\n",
    "\n",
    "$$X|0\\rangle = XZ|0\\rangle = -iY|0\\rangle = |1\\rangle,\\; X|1\\rangle = XX|0\\rangle = |0\\rangle$$\n",
    "$$Y|0\\rangle = YZ|0\\rangle = iX|0\\rangle = i|1\\rangle,\\; Y|1\\rangle = YX|0\\rangle = -iZ|0\\rangle = -i|0\\rangle$$\n",
    "$$Z|0\\rangle = ZZ|0\\rangle = |0\\rangle,\\; Z|1\\rangle = ZX|0\\rangle = iY|0\\rangle = -|1\\rangle$$\n",
    "\n",
    "Finally, we have $$| \\vec{b} \\rangle = \\bigotimes_{i=1}^N \\big(b_i X + (1-b_i) Z\\big) | \\vec{0} \\rangle$$ and we may drop the zero vector and use the functionality of PauliwordOp to manipulate quantum states. In this represenation, a quantum state is stored as an operator consisting of Paulis $X, Z$, which is implicitly applied to the zero (or vacuum) state. "
   ]
  },
  {
   "cell_type": "code",
   "execution_count": 1,
   "id": "b71a6aa8",
   "metadata": {},
   "outputs": [],
   "source": [
    "import numpy as np\n",
    "from symred.utils import unit_n_sphere_cartesian_coords\n",
    "from symred.symplectic_form import PauliwordOp, QuantumState, array_to_QuantumState, AnsatzOp, ObservableOp\n",
    "from functools import cached_property\n",
    "from typing import Union"
   ]
  },
  {
   "cell_type": "markdown",
   "id": "14efa282",
   "metadata": {},
   "source": [
    "Firstly, note the correct phases under multiplication by a Pauli Y:"
   ]
  },
  {
   "cell_type": "code",
   "execution_count": 2,
   "id": "e5131b2d",
   "metadata": {},
   "outputs": [
    {
     "name": "stdout",
     "output_type": "stream",
     "text": [
      " 1.0000000000 |0> ->  0.0000000000+1.0000000000j |1>\n",
      " 1.0000000000 |1> ->  0.0000000000-1.0000000000j |0>\n"
     ]
    }
   ],
   "source": [
    "zero = QuantumState([[0]])\n",
    "one = QuantumState([[1]])\n",
    "Y = PauliwordOp(['Y'], [1])\n",
    "\n",
    "print(f'{zero} -> {Y * zero}')\n",
    "print(f'{one} -> {Y * one}')"
   ]
  },
  {
   "cell_type": "markdown",
   "id": "2e3a82d3",
   "metadata": {},
   "source": [
    "Now, let's see what happens when we apply the Hadamard gate to the zero state:"
   ]
  },
  {
   "cell_type": "code",
   "execution_count": 3,
   "id": "3a03866a",
   "metadata": {},
   "outputs": [
    {
     "name": "stdout",
     "output_type": "stream",
     "text": [
      "Zero state:  1.0000000000 |00>\n",
      "\n",
      "After application of the Hadamard gate:\n",
      "\n",
      " 0.5000000000+0.0000000000j |00> +\n",
      " 0.5000000000+0.0000000000j |01> +\n",
      " 0.5000000000+0.0000000000j |10> +\n",
      " 0.5000000000-0.0000000000j |11>\n"
     ]
    }
   ],
   "source": [
    "psi = QuantumState([[0,0]])\n",
    "had = PauliwordOp(['XZ','ZX','XX', 'ZZ'], np.ones(4)/2) # 2-qubit Hadamard gate decomposed over Paulis\n",
    "eq_superposition = had * psi\n",
    "print(f'Zero state: {psi}\\n')\n",
    "print(f'After application of the Hadamard gate:\\n\\n{eq_superposition}')"
   ]
  },
  {
   "cell_type": "markdown",
   "id": "bd6c7f78",
   "metadata": {},
   "source": [
    "Observe that the QuantumState is represented internally by its `state_op`, a PauliwordOp object that governs its behaviour under multiplication"
   ]
  },
  {
   "cell_type": "code",
   "execution_count": 4,
   "id": "6c007a11",
   "metadata": {},
   "outputs": [
    {
     "name": "stdout",
     "output_type": "stream",
     "text": [
      "0.5000000000+0.0000000000j ZZ +\n",
      "0.5000000000+0.0000000000j ZX +\n",
      "0.5000000000+0.0000000000j XZ +\n",
      "0.5000000000-0.0000000000j XX\n"
     ]
    }
   ],
   "source": [
    "print(eq_superposition.state_op)"
   ]
  },
  {
   "cell_type": "markdown",
   "id": "66c9bd60",
   "metadata": {},
   "source": [
    "Try evaluating expectation values for randomly generated state and Hermitian operators:"
   ]
  },
  {
   "cell_type": "code",
   "execution_count": 5,
   "id": "c09ee04b",
   "metadata": {},
   "outputs": [],
   "source": [
    "def random_state(num_qubits, num_terms):\n",
    "    \"\"\" Generates a random normalized QuantumState\n",
    "    \"\"\"\n",
    "    # random binary array with N columns, M rows\n",
    "    random_state = np.random.randint(0,2,(num_terms,num_qubits))\n",
    "    # random vector of coefficients\n",
    "    coeff_vec = (\n",
    "        np.random.rand(num_terms) + \n",
    "        np.random.rand(num_terms)*1j\n",
    "    )\n",
    "    return QuantumState(random_state, coeff_vec).normalize\n",
    "\n",
    "def random_herm_op(num_qubits, num_terms):\n",
    "    \"\"\" Generates a random PaulwordOp\n",
    "    \"\"\"\n",
    "    # random binary array with 2N columns, M rows\n",
    "    random_symp_mat = np.random.randint(0,2,(num_terms,num_qubits*2))\n",
    "    # random vector of coefficients\n",
    "    coeff_vec = np.random.rand(num_terms)\n",
    "    coeff_vec/=coeff_vec[::-1]\n",
    "    coeff_vec*=(2*np.random.randint(0,2,num_terms)-1)\n",
    "    return PauliwordOp(random_symp_mat, coeff_vec)"
   ]
  },
  {
   "cell_type": "code",
   "execution_count": 6,
   "id": "277acf81",
   "metadata": {},
   "outputs": [
    {
     "name": "stdout",
     "output_type": "stream",
     "text": [
      " 0.2857951443+0.2439316419j |1001011011> +\n",
      " 0.0961499240+0.1741052917j |0001110010> +\n",
      " 0.4072587938+0.2188506746j |0101101011> +\n",
      " 0.1615444965+0.0841882783j |1100011101> +\n",
      " 0.0357123616+0.0978641215j |1110101111> +\n",
      " 0.2376001625+0.3756436063j |0011111011> +\n",
      " 0.0836150445+0.3307325522j |0000001010> +\n",
      " 0.0364342812+0.0307412645j |0110101000> +\n",
      " 0.0347807077+0.2929500845j |1010100011> +\n",
      " 0.2656846258+0.2960421110j |0100001000>\n",
      "\n",
      " 0.3338905947+0.3206728741j |0100010100> +\n",
      " 0.3238107199+0.1262004012j |0100101011> +\n",
      " 0.0910500560+0.2228129615j |0101111100> +\n",
      " 0.1630176264+0.2785495927j |0100001111> +\n",
      " 0.3209220096+0.2481867521j |1010001010> +\n",
      " 0.2665749112+0.3069556477j |1001101111> +\n",
      " 0.1708213368+0.0106175848j |0000000011> +\n",
      " 0.0339614876+0.2761098827j |0111100010> +\n",
      " 0.0652667184+0.0370270346j |1100011100> +\n",
      " 0.2363648831+0.0689371840j |1001110100>\n"
     ]
    }
   ],
   "source": [
    "N = 10 # number of qubits\n",
    "M = 10 # number of terms\n",
    "\n",
    "psi_1 = random_state(N, M)\n",
    "psi_2 = random_state(N, M)\n",
    "\n",
    "print(psi_1)\n",
    "print()\n",
    "print(psi_2)"
   ]
  },
  {
   "cell_type": "code",
   "execution_count": 7,
   "id": "2c9aa59f",
   "metadata": {},
   "outputs": [
    {
     "name": "stdout",
     "output_type": "stream",
     "text": [
      " 0.1207889256+0.0075077662j |0000000011> +\n",
      " 0.0591247650+0.2338632304j |0000001010> +\n",
      " 0.0679882633+0.1231110324j |0001110010> +\n",
      " 0.1680086861+0.2656201413j |0011111011> +\n",
      " 0.1878674006+0.2093333842j |0100001000> +\n",
      " 0.1152708691+0.1969643059j |0100001111> +\n",
      " 0.2360963037+0.2267499638j |0100010100> +\n",
      " 0.2289687559+0.0892371595j |0100101011> +\n",
      " 0.2879754548+0.1547507961j |0101101011> +\n",
      " 0.0643821120+0.1575525560j |0101111100> +\n",
      " 0.0257629273+0.0217373566j |0110101000> +\n",
      " 0.0240143982+0.1952391704j |0111100010> +\n",
      " 0.2020876845+0.1724857181j |1001011011> +\n",
      " 0.1884969274+0.2170504200j |1001101111> +\n",
      " 0.1671352117+0.0487459503j |1001110100> +\n",
      " 0.2269261292+0.1754945354j |1010001010> +\n",
      " 0.0245936743+0.2071469913j |1010100011> +\n",
      " 0.0461505392+0.0261820673j |1100011100> +\n",
      " 0.1142292089+0.0595301025j |1100011101> +\n",
      " 0.0252524530+0.0692003839j |1110101111>\n",
      "\n",
      "Norm: (1+0j)\n"
     ]
    }
   ],
   "source": [
    "psi = (psi_1 + psi_2).normalize\n",
    "print(psi)\n",
    "print()\n",
    "print('Norm:', psi.conjugate * psi)"
   ]
  },
  {
   "cell_type": "code",
   "execution_count": 8,
   "id": "bc1e9705",
   "metadata": {},
   "outputs": [
    {
     "name": "stdout",
     "output_type": "stream",
     "text": [
      "1.5658972953+0.0000000000j YYZYYXIXIY +\n",
      "0.4483677512+0.0000000000j ZYXXYIZYXX +\n",
      "-9.1288490371+0.0000000000j XXZIXIIIZX +\n",
      "0.3681644387+0.0000000000j XYXYXZZIZZ +\n",
      "-2.6261201471+0.0000000000j XIXXZZYIXX +\n",
      "-0.3807898893+0.0000000000j IIYYZXIYYY +\n",
      "-2.7161775956+0.0000000000j XXZIYZIZZZ +\n",
      "0.1095428346+0.0000000000j ZZYIZYXIIZ +\n",
      "2.2303120538+0.0000000000j IIXZIZIIYI +\n",
      "0.6386114868+0.0000000000j ZZIIXYZZXZ\n",
      "\n",
      "Expectation value <psi|op|psi> = (0.025454063290106306+0j)\n"
     ]
    }
   ],
   "source": [
    "op = random_herm_op(N, 10)\n",
    "print(op)\n",
    "print()\n",
    "print('Expectation value <psi|op|psi> =', psi.conjugate * op * psi)"
   ]
  },
  {
   "cell_type": "markdown",
   "id": "bca48c97",
   "metadata": {},
   "source": [
    "It is also possible to convert from a $2^N$ dimensional statevector over $N$ qubits to a `QuantumState` object, via the `array_to_QuantumState` function:"
   ]
  },
  {
   "cell_type": "code",
   "execution_count": 9,
   "id": "bb741ebd",
   "metadata": {},
   "outputs": [
    {
     "name": "stdout",
     "output_type": "stream",
     "text": [
      " 0.4082482905 |0000000000> +\n",
      " 0.5773502692 |0011111010> +\n",
      " 0.7071067812 |0111110100>\n",
      "1.0\n"
     ]
    }
   ],
   "source": [
    "statevector = np.zeros(2**10)\n",
    "statevector[0]   = np.sqrt(1/6)\n",
    "statevector[250] = np.sqrt(2/6)\n",
    "statevector[500] = np.sqrt(3/6)\n",
    "psi = array_to_QuantumState(statevector)\n",
    "print(psi)\n",
    "print(psi.conjugate * psi)"
   ]
  },
  {
   "cell_type": "code",
   "execution_count": 15,
   "id": "0dcc5b1a",
   "metadata": {},
   "outputs": [],
   "source": [
    "anz = random_herm_op(N, 5)\n",
    "anz = AnsatzOp(anz.symp_matrix, anz.coeff_vec)\n",
    "obs = random_herm_op(N, 10)\n",
    "obs = ObservableOp(obs.symp_matrix, obs.coeff_vec)"
   ]
  },
  {
   "cell_type": "code",
   "execution_count": 17,
   "id": "af75b203",
   "metadata": {},
   "outputs": [
    {
     "name": "stdout",
     "output_type": "stream",
     "text": [
      "0.6240681842 YXXIIYXXII +\n",
      "0.3185559876 IIIYYIXIIY +\n",
      "1.0000000000 YYZIZXZZYX +\n",
      "3.1391656069 ZYXIXXXYII +\n",
      "1.6023890102 IIYIZIZZZX\n",
      "\n",
      "-2.6863292736 IIIZYZZYIY +\n",
      "-1.9272097317 ZXZXXIXIZX +\n",
      "-9.2977828466 XXZXZXYZYX +\n",
      "0.3143131581 ZYXYZIYIYX +\n",
      "-0.7617950219 YIYIZYXYZZ +\n",
      "-1.3126890715 ZYYXXXZZIZ +\n",
      "3.1815403656 ZYXIXYYIZI +\n",
      "-0.1075525226 IYYZXYZIYI +\n",
      "-0.5188848850 ZYXYYIXYXY +\n",
      "0.3722551847 ZXXYZZYXZI\n"
     ]
    }
   ],
   "source": [
    "print(anz)\n",
    "print()\n",
    "print(obs)"
   ]
  },
  {
   "cell_type": "code",
   "execution_count": null,
   "id": "f1d58aa3",
   "metadata": {},
   "outputs": [],
   "source": []
  }
 ],
 "metadata": {
  "kernelspec": {
   "display_name": "Python 3 (ipykernel)",
   "language": "python",
   "name": "python3"
  },
  "language_info": {
   "codemirror_mode": {
    "name": "ipython",
    "version": 3
   },
   "file_extension": ".py",
   "mimetype": "text/x-python",
   "name": "python",
   "nbconvert_exporter": "python",
   "pygments_lexer": "ipython3",
   "version": "3.8.8"
  }
 },
 "nbformat": 4,
 "nbformat_minor": 5
}
