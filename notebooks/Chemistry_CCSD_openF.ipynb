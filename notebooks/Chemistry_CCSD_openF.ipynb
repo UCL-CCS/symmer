{
 "cells": [
  {
   "cell_type": "code",
   "execution_count": 1,
   "id": "edfb75f6",
   "metadata": {},
   "outputs": [],
   "source": [
    "from symred.chem import xyz_from_pubchem\n",
    "import numpy as np\n",
    "from openfermion import FermionOperator\n",
    "from scipy.sparse.linalg import expm\n",
    "from openfermion import get_sparse_operator"
   ]
  },
  {
   "cell_type": "code",
   "execution_count": 3,
   "id": "4166c7b4",
   "metadata": {},
   "outputs": [],
   "source": [
    "import openfermion as of\n",
    "import openfermionpyscf as ofpyscf\n",
    "\n",
    "geometry=[\n",
    "    ('H', (0.0,0.0,0.0)),\n",
    "    ('H', (2.45366053071732,0.0,0.0)),\n",
    "    ('H', (2.45366053071732,2.45366053071732,0.0)),\n",
    "    ('H', (0.0,2.45366053071732,0.0))\n",
    "     ]    \n",
    "    \n",
    "basis = 'sto-3g'\n",
    "multiplicity = 1\n",
    "charge = 0\n",
    "\n",
    "molecule_data = of.MolecularData(geometry, basis, multiplicity, charge)\n",
    "#molecule.load()\n",
    "\n",
    "# Run pyscf.\n",
    "molecule = ofpyscf.run_pyscf(molecule_data,\n",
    "                     run_scf=1,run_mp2=1,run_cisd=1,run_ccsd=1,run_fci=1)\n",
    "\n",
    "n_qubits    = 2*molecule.n_orbitals\n",
    "n_electrons = molecule.n_electrons\n",
    "\n",
    "ham_fermionic = of.get_fermion_operator(molecule.get_molecular_hamiltonian())\n",
    "\n",
    "ccsd_single_amps = molecule_data.ccsd_single_amps\n",
    "ccsd_double_amps = molecule_data.ccsd_double_amps"
   ]
  },
  {
   "cell_type": "code",
   "execution_count": 14,
   "id": "c09bcec6",
   "metadata": {},
   "outputs": [],
   "source": []
  },
  {
   "cell_type": "code",
   "execution_count": 4,
   "id": "e6819dd8",
   "metadata": {},
   "outputs": [],
   "source": [
    "H_mat = get_sparse_operator(ham_fermionic)"
   ]
  },
  {
   "cell_type": "code",
   "execution_count": 15,
   "id": "f0a34750",
   "metadata": {},
   "outputs": [],
   "source": [
    "hf_comp_basis_state = np.zeros(molecule.n_qubits, dtype=int)\n",
    "hf_comp_basis_state[:molecule.n_electrons] = 1\n",
    "\n",
    "binary_int_list = 1 << np.arange(molecule.n_qubits)[::-1]\n",
    "hf_ket = np.zeros(2 ** molecule.n_qubits, dtype=int)\n",
    "hf_ket[hf_comp_basis_state @ binary_int_list] = 1"
   ]
  },
  {
   "cell_type": "code",
   "execution_count": null,
   "id": "59c3eec8",
   "metadata": {},
   "outputs": [],
   "source": []
  },
  {
   "cell_type": "code",
   "execution_count": 6,
   "id": "be185cf1",
   "metadata": {},
   "outputs": [
    {
     "data": {
      "text/plain": [
       "[[[4, 0, 5, 1], -0.5456322187873451],\n",
       " [[4, 0, 6, 2], -1.1613365888368996e-06],\n",
       " [[4, 0, 7, 3], 5.991199944039062e-07],\n",
       " [[4, 1, 5, 0], 0.5456322187873451],\n",
       " [[4, 1, 7, 2], -1.7604565832408058e-06],\n",
       " [[4, 2, 5, 3], 0.03662801351783161],\n",
       " [[4, 2, 6, 0], 1.1613365888368996e-06],\n",
       " [[4, 2, 7, 1], 1.7604565832408058e-06],\n",
       " [[4, 3, 5, 2], -0.03662801351783161],\n",
       " [[4, 3, 7, 0], -5.991199944039062e-07],\n",
       " [[5, 0, 4, 1], 0.5456322187873451],\n",
       " [[5, 0, 6, 3], -1.7604565832408058e-06],\n",
       " [[5, 1, 4, 0], -0.5456322187873451],\n",
       " [[5, 1, 6, 2], 5.991199944039062e-07],\n",
       " [[5, 1, 7, 3], -1.1613365888368996e-06],\n",
       " [[5, 2, 4, 3], -0.03662801351783161],\n",
       " [[5, 2, 6, 1], -5.991199944039062e-07],\n",
       " [[5, 3, 4, 2], 0.03662801351783161],\n",
       " [[5, 3, 6, 0], 1.7604565832408058e-06],\n",
       " [[5, 3, 7, 1], 1.1613365888368996e-06],\n",
       " [[6, 0, 4, 2], 1.1613365888368996e-06],\n",
       " [[6, 0, 5, 3], 1.7604565832408058e-06],\n",
       " [[6, 0, 7, 1], 0.0006616364017180414],\n",
       " [[6, 1, 5, 2], -5.991199944039062e-07],\n",
       " [[6, 1, 7, 0], -0.0006616364017180414],\n",
       " [[6, 2, 4, 0], -1.1613365888368996e-06],\n",
       " [[6, 2, 5, 1], 5.991199944039062e-07],\n",
       " [[6, 2, 7, 3], -0.5515616282989068],\n",
       " [[6, 3, 5, 0], -1.7604565832408058e-06],\n",
       " [[6, 3, 7, 2], 0.5515616282989068],\n",
       " [[7, 0, 4, 3], -5.991199944039062e-07],\n",
       " [[7, 0, 6, 1], -0.0006616364017180414],\n",
       " [[7, 1, 4, 2], 1.7604565832408058e-06],\n",
       " [[7, 1, 5, 3], 1.1613365888368996e-06],\n",
       " [[7, 1, 6, 0], 0.0006616364017180414],\n",
       " [[7, 2, 4, 1], -1.7604565832408058e-06],\n",
       " [[7, 2, 6, 3], 0.5515616282989068],\n",
       " [[7, 3, 4, 0], 5.991199944039062e-07],\n",
       " [[7, 3, 5, 1], -1.1613365888368996e-06],\n",
       " [[7, 3, 6, 2], -0.5515616282989068]]"
      ]
     },
     "execution_count": 6,
     "metadata": {},
     "output_type": "execute_result"
    }
   ],
   "source": [
    "double_amplitudes_list=[]\n",
    "double_amplitudes = ccsd_double_amps\n",
    "for i, j, k, l in zip(*double_amplitudes.nonzero()):\n",
    "    if not np.isclose(double_amplitudes[i, j, k, l], 0):\n",
    "        double_amplitudes_list.append([[i, j, k, l],\n",
    "                                       double_amplitudes[i, j, k, l]])\n",
    "    \n",
    "double_amplitudes_list"
   ]
  },
  {
   "cell_type": "code",
   "execution_count": 7,
   "id": "1253eaed",
   "metadata": {},
   "outputs": [
    {
     "data": {
      "text/plain": [
       "[[[4, 0], 3.7372991954509263e-14],\n",
       " [[4, 2], 3.012770106836085e-06],\n",
       " [[5, 1], 3.7372991954509263e-14],\n",
       " [[5, 3], 3.012770106836085e-06],\n",
       " [[6, 0], -0.44350284282277974],\n",
       " [[6, 2], 7.37425160928958e-14],\n",
       " [[7, 1], -0.44350284282277974],\n",
       " [[7, 3], 7.37425160928958e-14]]"
      ]
     },
     "execution_count": 7,
     "metadata": {},
     "output_type": "execute_result"
    }
   ],
   "source": [
    "single_amplitudes_list = []\n",
    "for i, j in zip(*ccsd_single_amps.nonzero()):\n",
    "    single_amplitudes_list.append([[i, j], ccsd_single_amps[i, j]])\n",
    "\n",
    "single_amplitudes_list"
   ]
  },
  {
   "cell_type": "code",
   "execution_count": 8,
   "id": "1a5470c2",
   "metadata": {},
   "outputs": [],
   "source": [
    "generator_t2 = FermionOperator()\n",
    "\n",
    "# Add double excitations\n",
    "for (i, j, k, l), t_ijkl in double_amplitudes_list:\n",
    "    i, j, k, l = int(i), int(j), int(k), int(l)\n",
    "    generator_t2 += FermionOperator(((i, 1), (j, 0), (k, 1), (l, 0)), t_ijkl)\n",
    "#     if anti_hermitian:\n",
    "#         generator += FermionOperator(((l, 1), (k, 0), (j, 1), (i, 0)),\n",
    "#                                      -t_ijkl)"
   ]
  },
  {
   "cell_type": "code",
   "execution_count": 9,
   "id": "1289e9bc",
   "metadata": {},
   "outputs": [],
   "source": [
    "generator_t1 = FermionOperator()\n",
    "for (i, j), t_ij in single_amplitudes_list:\n",
    "    i, j = int(i), int(j)\n",
    "    generator_t1 += FermionOperator(((i, 1), (j, 0)), t_ij)"
   ]
  },
  {
   "cell_type": "code",
   "execution_count": null,
   "id": "224a9999",
   "metadata": {},
   "outputs": [],
   "source": []
  },
  {
   "cell_type": "code",
   "execution_count": 12,
   "id": "8790e5b5",
   "metadata": {},
   "outputs": [],
   "source": [
    "T = generator_t1 + 0.5*generator_t2\n",
    "\n",
    "ccsd_ansatz = expm(get_sparse_operator(T, n_qubits=molecule.n_qubits))"
   ]
  },
  {
   "cell_type": "code",
   "execution_count": 16,
   "id": "ca116cc2",
   "metadata": {},
   "outputs": [
    {
     "data": {
      "text/plain": [
       "(-1.8261576342039731+0j)"
      ]
     },
     "execution_count": 16,
     "metadata": {},
     "output_type": "execute_result"
    }
   ],
   "source": [
    "ccsd_ket =  ccsd_ansatz @ hf_ket\n",
    "hf_ket.conj().T @ H_mat @ ccsd_ket"
   ]
  },
  {
   "cell_type": "code",
   "execution_count": 19,
   "id": "d87a984a",
   "metadata": {},
   "outputs": [
    {
     "data": {
      "text/plain": [
       "-1.8261576342041543"
      ]
     },
     "execution_count": 19,
     "metadata": {},
     "output_type": "execute_result"
    }
   ],
   "source": [
    "molecule.ccsd_energy"
   ]
  },
  {
   "cell_type": "code",
   "execution_count": 31,
   "id": "2a240c62",
   "metadata": {},
   "outputs": [
    {
     "data": {
      "text/plain": [
       "(1+0j)"
      ]
     },
     "execution_count": 31,
     "metadata": {},
     "output_type": "execute_result"
    }
   ],
   "source": [
    "hf_ket.conj().T @ ccsd_ket"
   ]
  },
  {
   "cell_type": "code",
   "execution_count": 21,
   "id": "ea8ffaad",
   "metadata": {},
   "outputs": [
    {
     "name": "stdout",
     "output_type": "stream",
     "text": [
      "(1.2183051954059552+0j)|00001111>\n",
      "(1.995064311144928e-06+0j)|00011011>\n",
      "(-1.995064311144928e-06+0j)|00100111>\n",
      "(0.19801804439532333+0j)|00110011>\n",
      "(-1.0912644375746903+0j)|00111100>\n",
      "(0.03248925623063924+0j)|01001110>\n",
      "(9.86501070520506e-07+0j)|01011010>\n",
      "(-2.1847410593283184e-06+0j)|01100110>\n",
      "(1.1982399888078124e-06+0j)|01101001>\n",
      "(0.4435028428227797+0j)|01110010>\n",
      "(-0.032489256230639245+0j)|10001101>\n",
      "(1.1982399888078124e-06+0j)|10010110>\n",
      "(-2.1847410593283184e-06+0j)|10011001>\n",
      "(9.86501070520506e-07+0j)|10100101>\n",
      "(-0.44350284282277974+0j)|10110001>\n",
      "(-1.1031232565978135+0j)|11000011>\n",
      "(0.07325602704473999+0j)|11001100>\n",
      "(-3.012770106836085e-06+0j)|11011000>\n",
      "(3.012770106836085e-06+0j)|11100100>\n",
      "(1+0j)|11110000>\n"
     ]
    }
   ],
   "source": [
    "for ind, amp in enumerate(ccsd_ket):\n",
    "    if not np.isclose(amp, 0):\n",
    "        binary_string = np.binary_repr(ind, width=molecule.n_qubits)\n",
    "        print(f'{amp}|{binary_string}>')"
   ]
  },
  {
   "cell_type": "code",
   "execution_count": 28,
   "id": "352dd690",
   "metadata": {
    "scrolled": true
   },
   "outputs": [
    {
     "name": "stdout",
     "output_type": "stream",
     "text": [
      "00001111\n"
     ]
    }
   ],
   "source": [
    "no_hf_ket = ccsd_ket - hf_ket\n",
    "max_amp_binary_string = np.binary_repr(np.argsort(np.abs(no_hf_ket))[::-1][0], width=molecule.n_qubits)\n",
    "print(max_amp_binary_string)"
   ]
  },
  {
   "cell_type": "markdown",
   "id": "bb513220",
   "metadata": {},
   "source": [
    "look at states with common sector (aka assign eigval of stabilizers in the same way)\n",
    "\n",
    "Gives a way of searching over sectors in a reduced approach."
   ]
  },
  {
   "cell_type": "code",
   "execution_count": null,
   "id": "c859f2fe",
   "metadata": {},
   "outputs": [],
   "source": []
  },
  {
   "cell_type": "code",
   "execution_count": 37,
   "id": "7538233a",
   "metadata": {},
   "outputs": [
    {
     "name": "stdout",
     "output_type": "stream",
     "text": [
      "(1.2183051954059552+0j)|00001111>\n",
      "(-1.1031232565978135+0j)|11000011>\n",
      "(-1.0912644375746903+0j)|00111100>\n",
      "(-0.44350284282277974+0j)|10110001>\n",
      "(0.4435028428227797+0j)|01110010>\n",
      "(0.19801804439532333+0j)|00110011>\n",
      "(0.07325602704473999+0j)|11001100>\n",
      "(-0.032489256230639245+0j)|10001101>\n",
      "(0.03248925623063924+0j)|01001110>\n",
      "(3.012770106836085e-06+0j)|11100100>\n",
      "(-3.012770106836085e-06+0j)|11011000>\n",
      "(-2.1847410593283184e-06+0j)|10011001>\n",
      "(-2.1847410593283184e-06+0j)|01100110>\n",
      "(-1.995064311144928e-06+0j)|00100111>\n",
      "(1.995064311144928e-06+0j)|00011011>\n",
      "(1.1982399888078124e-06+0j)|01101001>\n",
      "(1.1982399888078124e-06+0j)|10010110>\n",
      "(9.86501070520506e-07+0j)|01011010>\n",
      "(9.86501070520506e-07+0j)|10100101>\n"
     ]
    }
   ],
   "source": [
    "# go by size\n",
    "no_hf_ket = ccsd_ket - hf_ket\n",
    "for ind in (np.argsort(np.abs(no_hf_ket))[::-1]):\n",
    "    amp = no_hf_ket[ind]\n",
    "    if not np.isclose(amp, 0):\n",
    "        binary_string = np.binary_repr(ind, width=molecule.n_qubits)\n",
    "        print(f'{amp}|{binary_string}>')"
   ]
  },
  {
   "cell_type": "code",
   "execution_count": null,
   "id": "a4e7be56",
   "metadata": {},
   "outputs": [],
   "source": []
  },
  {
   "cell_type": "code",
   "execution_count": 46,
   "id": "60d89156",
   "metadata": {},
   "outputs": [
    {
     "data": {
      "text/plain": [
       "(-1.741903772141814+0j)"
      ]
     },
     "execution_count": 46,
     "metadata": {},
     "output_type": "execute_result"
    }
   ],
   "source": [
    "ccsd_ket =  ccsd_ansatz @ hf_ket\n",
    "norm_ccsd = ccsd_ket/np.linalg.norm(ccsd_ket)\n",
    "norm_ccsd.conj().T @ H_mat @ norm_ccsd"
   ]
  },
  {
   "cell_type": "code",
   "execution_count": 47,
   "id": "6a2ddde4",
   "metadata": {},
   "outputs": [
    {
     "data": {
      "text/plain": [
       "-1.8261576342041543"
      ]
     },
     "execution_count": 47,
     "metadata": {},
     "output_type": "execute_result"
    }
   ],
   "source": [
    "molecule.ccsd_energy"
   ]
  }
 ],
 "metadata": {
  "kernelspec": {
   "display_name": "Python 3 (ipykernel)",
   "language": "python",
   "name": "python3"
  },
  "language_info": {
   "codemirror_mode": {
    "name": "ipython",
    "version": 3
   },
   "file_extension": ".py",
   "mimetype": "text/x-python",
   "name": "python",
   "nbconvert_exporter": "python",
   "pygments_lexer": "ipython3",
   "version": "3.9.7"
  }
 },
 "nbformat": 4,
 "nbformat_minor": 5
}
