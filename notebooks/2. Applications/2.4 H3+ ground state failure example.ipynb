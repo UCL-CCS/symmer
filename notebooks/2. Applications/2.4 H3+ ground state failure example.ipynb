{
 "cells": [
  {
   "cell_type": "markdown",
   "id": "2f5c6e01",
   "metadata": {},
   "source": [
    "# A cautionary tale of ground state energy calculation\n",
    "\n",
    "When calculating the ground state energy of an electronic structure Hamiltonian, some care should be exercised. Converting the Hamiltonian to a sparse matrix and finding the least eigenvalue will not always be the _true_ ground state with respect to the system it represents, since the diagonalization scheme used may not inherently observe any symmetries present in the underlying physical system.\n",
    "\n",
    "Consider the following $H_3^+$ example, consisting of 2 electrons in 6 spin-orbitals..."
   ]
  },
  {
   "cell_type": "code",
   "execution_count": 1,
   "id": "29fc03b7",
   "metadata": {},
   "outputs": [
    {
     "name": "stdout",
     "output_type": "stream",
     "text": [
      "Molecule geometry:\n",
      "H\t0.0\t0.558243\t0.0\n",
      "H\t0.483452\t-0.279121\t0.0\n",
      "H\t-0.483452\t-0.279121\t0.0\n",
      "\n",
      "HF converged?   True\n",
      "CCSD converged? True\n",
      "FCI converged?  True\n",
      "\n",
      "HF energy:   -1.2468600063384467\n",
      "MP2 energy:  -1.2658602663569571\n",
      "CCSD energy: -1.2741446169583148\n",
      "FCI energy:  -1.2741444671239888\n",
      "\n",
      "\n",
      "Number of qubits: 6\n"
     ]
    }
   ],
   "source": [
    "from symmer.chemistry import MoleculeBuilder\n",
    "from symmer.symplectic import QuantumState\n",
    "\n",
    "basis='sto-3g'\n",
    "charge=+1\n",
    "geometry =[\n",
    "    (\"H\", [0., 0.558243000, 0.]),\n",
    "    (\"H\", [0.483452000, -0.279121000, 0.]),\n",
    "    (\"H\", [-0.483452000, -0.279121000, 0.])\n",
    "]\n",
    "molecule = MoleculeBuilder(geometry=geometry, charge=charge, basis=basis, spin=0, run_fci=True, print_info=True)"
   ]
  },
  {
   "cell_type": "markdown",
   "id": "1a12cea3",
   "metadata": {},
   "source": [
    "Naively computing the ground state energy by taking the smallest eigenvalue of the Hamiltonian does not match the FCI energy:"
   ]
  },
  {
   "cell_type": "code",
   "execution_count": 5,
   "id": "55e0ea78",
   "metadata": {},
   "outputs": [
    {
     "name": "stdout",
     "output_type": "stream",
     "text": [
      "Least eigenvalue = -1.350730643890767 | FCI error = -0.07658617676677815\n"
     ]
    }
   ],
   "source": [
    "from symmer.utils import exact_gs_energy\n",
    "\n",
    "gs_nrg, gs_vec = exact_gs_energy(molecule.H_q.to_sparse_matrix)\n",
    "\n",
    "print(f'Least eigenvalue = {gs_nrg} | FCI error = {gs_nrg - molecule.fci_energy}')"
   ]
  },
  {
   "cell_type": "markdown",
   "id": "c632ed58",
   "metadata": {},
   "source": [
    "What has gone wrong here? Taking a look at the corresponding eigenvector, we see the identified state actually contains 3 particles, whereas the underlying system only contains 2:"
   ]
  },
  {
   "cell_type": "code",
   "execution_count": 6,
   "id": "15aef568",
   "metadata": {},
   "outputs": [
    {
     "name": "stdout",
     "output_type": "stream",
     "text": [
      "Eigenvector with eigenvalue -1.350730643890767:\n",
      "\n",
      " 0.083+0.086j |001011> +\n",
      " 0.100+0.104j |100011> +\n",
      "-0.100-0.104j |101100> +\n",
      "-0.676-0.698j |111000>\n"
     ]
    }
   ],
   "source": [
    "psi = QuantumState.from_array(gs_vec).cleanup(zero_threshold=1e-5)\n",
    "print(f'Eigenvector with eigenvalue {gs_nrg}:\\n')\n",
    "print(psi)"
   ]
  },
  {
   "cell_type": "markdown",
   "id": "b51b93ff",
   "metadata": {},
   "source": [
    "To counter this issue, we instead need to select the least eigenvalue that contains the _correct_ number of particles. This is implemented in `symmer.chemistry.exact_gs_energy`"
   ]
  },
  {
   "cell_type": "code",
   "execution_count": 7,
   "id": "5265519a",
   "metadata": {},
   "outputs": [
    {
     "name": "stdout",
     "output_type": "stream",
     "text": [
      "Least eigenvalue = -1.2741444671239932 | FCI error = -4.440892098500626e-15\n",
      "\n",
      "Eigenvector with eigenvalue -1.2741444671239932:\n",
      "\n",
      " 0.059+0.073j |000011> +\n",
      " 0.059+0.073j |001100> +\n",
      "-0.625-0.769j |110000>\n"
     ]
    }
   ],
   "source": [
    "gs_nrg, gs_vec = exact_gs_energy(\n",
    "    molecule.H_q.to_sparse_matrix, \n",
    "    n_particles=molecule.n_particles, \n",
    "    number_operator=molecule.number_operator\n",
    ")\n",
    "psi = QuantumState.from_array(gs_vec).cleanup(zero_threshold=1e-5)\n",
    "\n",
    "print(f'Least eigenvalue = {gs_nrg} | FCI error = {gs_nrg - molecule.fci_energy}\\n')\n",
    "print(f'Eigenvector with eigenvalue {gs_nrg}:\\n')\n",
    "print(psi)"
   ]
  },
  {
   "cell_type": "markdown",
   "id": "a3066e1c",
   "metadata": {},
   "source": [
    "Success! We have now recovered the true ground state by enforcing that only solutions with the correct number of particles are considered. Note however it is possible that no solution is identified at first - in this case, increase the `n_eigs` parameter in `symmer.chem.exact_gs_state` to increase the search space."
   ]
  }
 ],
 "metadata": {
  "kernelspec": {
   "display_name": "Python 3 (ipykernel)",
   "language": "python",
   "name": "python3"
  },
  "language_info": {
   "codemirror_mode": {
    "name": "ipython",
    "version": 3
   },
   "file_extension": ".py",
   "mimetype": "text/x-python",
   "name": "python",
   "nbconvert_exporter": "python",
   "pygments_lexer": "ipython3",
   "version": "3.9.12"
  },
  "vscode": {
   "interpreter": {
    "hash": "916dbcbb3f70747c44a77c7bcd40155683ae19c65e1c03b4aa3499c5328201f1"
   }
  }
 },
 "nbformat": 4,
 "nbformat_minor": 5
}
