{
 "cells": [
  {
   "cell_type": "code",
   "execution_count": 39,
   "id": "1a4f058d",
   "metadata": {},
   "outputs": [],
   "source": [
    "import numpy as np\n",
    "from symmer.symplectic.matrix import matrix_to_Pword\n",
    "from symmer.symplectic import PauliwordOp"
   ]
  },
  {
   "cell_type": "code",
   "execution_count": null,
   "id": "28ad4ae4",
   "metadata": {},
   "outputs": [],
   "source": []
  },
  {
   "cell_type": "markdown",
   "id": "1f605640",
   "metadata": {},
   "source": [
    "We can select a basis for any $\\mathcal{C}^{2^{N}\\times 2^{N}}$ matrix by taking all n-fold tensor product of Pauli operators, which is of size $4^{N}$.\n",
    "\n",
    "E.g.\n",
    "\n",
    "$$basis = B = $$\n",
    "$$\\{II, IZ,ZI,ZZ, $$\n",
    "$$\\:IX,IY,ZX,ZY, $$\n",
    "$$\\:XI,XZ,YI,YZ, $$\n",
    "$$\\:XX,XY,YX,YY \\}$$\n",
    "\n",
    "The decomposition of any matrix $M$ is then\n",
    "\n",
    "$$M = \\sum_{P \\in basis} c_{i}P_{i}$$\n",
    "\n",
    "It should be clear that:\n",
    "\n",
    "$$Trace(M P_{i}) = c_{i} 2^{N}$$\n",
    "\n",
    "so re-aranging we find:\n",
    "\n",
    "$$c_{i} = \\frac{Trace(M P_{i})}{ 2^{N}}$$"
   ]
  },
  {
   "cell_type": "markdown",
   "id": "6f3430bb",
   "metadata": {},
   "source": [
    "Function currently uses $4^{N}$ build...\n",
    "\n",
    "interesting question is **what are the smallest set of unitaries which we can decompose a given matrix!**"
   ]
  },
  {
   "cell_type": "code",
   "execution_count": 40,
   "id": "8b8c1b58",
   "metadata": {},
   "outputs": [],
   "source": [
    "n_qub = 3\n",
    "mat = np.arange(2**n_qub * 2**n_qub).reshape([2**n_qub,2**n_qub])\n",
    "decomp_obj = matrix_to_Pword(mat)"
   ]
  },
  {
   "cell_type": "code",
   "execution_count": 41,
   "id": "f9223be5",
   "metadata": {},
   "outputs": [
    {
     "data": {
      "text/plain": [
       " 31.500+0.000j III +\n",
       "-4.500+0.000j IIZ +\n",
       "-9.000+0.000j IZI +\n",
       "-18.000+0.000j ZII +\n",
       " 31.500+0.000j IIX +\n",
       " 0.000-3.500j IIY +\n",
       "-9.000+0.000j IZX +\n",
       "-18.000+0.000j ZIX +\n",
       " 31.500+0.000j IXI +\n",
       "-4.500+0.000j IXZ +\n",
       " 0.000-7.000j IYI +\n",
       "-18.000+0.000j ZXI +\n",
       " 31.500+0.000j IXX +\n",
       " 0.000-3.500j IXY +\n",
       " 0.000-7.000j IYX +\n",
       "-18.000+0.000j ZXX +\n",
       " 31.500+0.000j XII +\n",
       "-4.500+0.000j XIZ +\n",
       "-9.000+0.000j XZI +\n",
       " 0.000-14.000j YII +\n",
       " 31.500+0.000j XIX +\n",
       " 0.000-3.500j XIY +\n",
       "-9.000+0.000j XZX +\n",
       " 0.000-14.000j YIX +\n",
       " 31.500+0.000j XXI +\n",
       "-4.500+0.000j XXZ +\n",
       " 0.000-7.000j XYI +\n",
       " 0.000-14.000j YXI +\n",
       " 31.500+0.000j XXX +\n",
       " 0.000-3.500j XXY +\n",
       " 0.000-7.000j XYX +\n",
       " 0.000-14.000j YXX"
      ]
     },
     "execution_count": 41,
     "metadata": {},
     "output_type": "execute_result"
    }
   ],
   "source": [
    "decomp_obj.operator"
   ]
  },
  {
   "cell_type": "code",
   "execution_count": 42,
   "id": "680bc9ff",
   "metadata": {},
   "outputs": [
    {
     "data": {
      "text/plain": [
       " 3.000+0.000j II +\n",
       " 1.000+0.000j IZ +\n",
       "-1.000+0.000j ZI +\n",
       "-3.000+0.000j ZZ +\n",
       " 1.000+0.000j IX +\n",
       " 0.000-0.500j IY +\n",
       " 1.000+0.000j ZX +\n",
       " 0.000-0.500j ZY +\n",
       " 2.000+0.000j XI +\n",
       " 2.000+0.000j XZ +\n",
       " 0.000-1.000j YI +\n",
       " 0.000-1.000j YZ +\n",
       " 3.000+0.000j XX +\n",
       " 0.000+0.500j XY +\n",
       " 0.000-0.500j YX +\n",
       " 3.000+0.000j YY"
      ]
     },
     "execution_count": 42,
     "metadata": {},
     "output_type": "execute_result"
    }
   ],
   "source": [
    "mat2 = np.arange(9).reshape([3,3])\n",
    "decomp_obj2 = matrix_to_Pword(mat2)\n",
    "\n",
    "decomp_obj2.operator"
   ]
  },
  {
   "cell_type": "code",
   "execution_count": 43,
   "id": "11ecd2d5",
   "metadata": {},
   "outputs": [
    {
     "data": {
      "text/plain": [
       "True"
      ]
     },
     "execution_count": 43,
     "metadata": {},
     "output_type": "execute_result"
    }
   ],
   "source": [
    "decomp_obj2.check_decomposition()"
   ]
  },
  {
   "cell_type": "code",
   "execution_count": null,
   "id": "d1faca4e",
   "metadata": {},
   "outputs": [],
   "source": []
  }
 ],
 "metadata": {
  "kernelspec": {
   "display_name": "Python 3 (ipykernel)",
   "language": "python",
   "name": "python3"
  },
  "language_info": {
   "codemirror_mode": {
    "name": "ipython",
    "version": 3
   },
   "file_extension": ".py",
   "mimetype": "text/x-python",
   "name": "python",
   "nbconvert_exporter": "python",
   "pygments_lexer": "ipython3",
   "version": "3.9.7"
  }
 },
 "nbformat": 4,
 "nbformat_minor": 5
}
