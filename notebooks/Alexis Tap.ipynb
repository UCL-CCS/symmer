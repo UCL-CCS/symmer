{
 "cells": [
  {
   "cell_type": "markdown",
   "id": "1f026262",
   "metadata": {},
   "source": [
    "# Qubit Tapering \n",
    "### in the Stabilizer Subspace Projection formalism\n",
    "Here, we take a look at the qubit reduction technique of [tapering](https://arxiv.org/abs/1701.08213) and an implementation based on the core `S3_projection` class. Unlike [Contextual-Subspace VQE](https://doi.org/10.22331/q-2021-05-14-456), this technique is *exact*, in the sense that it perfectly preserves the energy spectrum of the input operator.\n",
    "\n",
    "At the core of qubit tapering is a symmetry of the Hamiltonian, which in this case means a set of universally commuting operators. The idea is that these operators must be simultaneously measureable and so can be treated independently of the remaining Hamiltonian terms. The method works by finding an independent generating set for the symmetry and seeks to find the 'correct' assignment of eigenvalues (called a *sector*), which completely determines the measurement outcome of the symmetry operators. Once this is obtained, the theory of stabilizers allows us to rotate the symmetry generators onto single Pauli $X$ operators, and since they must commute universally every operator of the rotated Hamiltonian will consist of an identity or Pauli $X$ in the corresponding qubit position. This means we can drop the qubit from the Hamiltonian, leaving in its place the eigenvalue determined by the chosen sector."
   ]
  },
  {
   "cell_type": "code",
   "execution_count": 23,
   "id": "e65c3082",
   "metadata": {},
   "outputs": [],
   "source": [
    "import numpy as np\n",
    "import scipy as sp\n",
    "from matplotlib import pyplot as plt\n",
    "import openfermion as of\n",
    "import os\n",
    "import json\n",
    "from symred.symplectic_form import PauliwordOp, QubitHamiltonian\n",
    "from symred.S3_projection import QubitTapering\n",
    "\n",
    "def get_ground_state(sparse_operator, initial_guess=None):\n",
    "    \"\"\"Compute lowest eigenvalue and eigenstate.\n",
    "    Args:\n",
    "        sparse_operator (LinearOperator): Operator to find the ground state of.\n",
    "        initial_guess (ndarray): Initial guess for ground state.  A good\n",
    "            guess dramatically reduces the cost required to converge.\n",
    "    Returns\n",
    "    -------\n",
    "        eigenvalue:\n",
    "            The lowest eigenvalue, a float.\n",
    "        eigenstate:\n",
    "            The lowest eigenstate in scipy.sparse csc format.\n",
    "    \"\"\"\n",
    "    values, vectors = sp.sparse.linalg.eigsh(sparse_operator,\n",
    "                                            k=1,\n",
    "                                            v0=initial_guess,\n",
    "                                            which='SA',\n",
    "                                            maxiter=1e7)\n",
    "\n",
    "    order = np.argsort(values)\n",
    "    values = values[order]\n",
    "    vectors = vectors[:, order]\n",
    "    eigenvalue = values[0]\n",
    "    eigenstate = vectors[:, 0]\n",
    "    return eigenvalue, eigenstate.T\n",
    "\n",
    "\n",
    "def plot_ground_state_amplitudes(eigenvalue,eigenvector, \n",
    "                                num_qubits: int, \n",
    "                                reverse_bitstrings: bool=False,\n",
    "                                return_amps: bool = False,\n",
    "                                matrix_type='sparse'\n",
    "                                )-> None:\n",
    "    \"\"\" Prints a barplot of the probability amplitudes for each \n",
    "    basis state in the ground eigenstate of the input operator\n",
    "    \"\"\"\n",
    "    bitstrings = [format(index, f'0{num_qubits}b') for index in range(2**(num_qubits))]\n",
    "    if reverse_bitstrings:\n",
    "        bitstrings.reverse()\n",
    "    amps = [(b_str, amp) for b_str,amp \n",
    "            in zip(bitstrings, np.square(abs(eigenvector))) if amp>1e-5]\n",
    "    amps = sorted(amps, key=lambda x:-x[1])\n",
    "    X, Y = zip(*amps)\n",
    "    \n",
    "    # plot and show the amplitudes\n",
    "    plt.bar(X, Y)\n",
    "    plt.xlabel('Basis state')\n",
    "    plt.ylabel('Amplitude in ground state')\n",
    "    plt.title(f'Energy = {eigenvalue: .10f}')\n",
    "    plt.xticks(rotation=90)\n",
    "    plt.show()\n",
    "\n",
    "    if return_amps:\n",
    "        return amps\n",
    "    "
   ]
  },
  {
   "cell_type": "markdown",
   "id": "11cda1c4",
   "metadata": {},
   "source": [
    "First, we shall construct a molecule using OpenFermion with PySCF the underlying quantum chemistry package. The resulting fermionic operator will be mapped onto qubits via the Jordan-Wigner transformation."
   ]
  },
  {
   "cell_type": "code",
   "execution_count": 2,
   "id": "a6641b42",
   "metadata": {},
   "outputs": [],
   "source": [
    "working_dir = os.getcwd()\n",
    "parent_dir = os.path.dirname(working_dir)\n",
    "data_dir = os.path.join(parent_dir,'data')"
   ]
  },
  {
   "cell_type": "code",
   "execution_count": null,
   "id": "9cc80680",
   "metadata": {},
   "outputs": [],
   "source": [
    "# os.listdir(data_dir)"
   ]
  },
  {
   "cell_type": "code",
   "execution_count": 3,
   "id": "d1dc6047",
   "metadata": {},
   "outputs": [
    {
     "data": {
      "text/plain": [
       "<symred.symplectic_form.QubitHamiltonian at 0x7fcd8d95ca90>"
      ]
     },
     "execution_count": 3,
     "metadata": {},
     "output_type": "execute_result"
    }
   ],
   "source": [
    "file = 'O1_STO-3G_triplet_OO.json'\n",
    "# file = 'H2-Be1_STO-3G_singlet_BeH2BeH2.json'\n",
    "\n",
    "file_path = os.path.join(data_dir, file)\n",
    "with open(file_path, 'r') as input_file:\n",
    "    ham_dict = json.load(input_file)\n",
    "    \n",
    "ham = QubitHamiltonian(ham_dict)\n",
    "ham"
   ]
  },
  {
   "cell_type": "markdown",
   "id": "41ac714e",
   "metadata": {},
   "source": [
    "We are now in a position to initialize our `QubitTapering` class, which will identify a set of independent operators that generate the Hamiltonian symmetry."
   ]
  },
  {
   "cell_type": "code",
   "execution_count": 4,
   "id": "040b7c95",
   "metadata": {},
   "outputs": [
    {
     "name": "stdout",
     "output_type": "stream",
     "text": [
      "We are able to taper 5 qubits from the Hamiltonian.\n",
      "\n",
      "The symmetry generators are\n",
      "\n",
      "(1+0j) ZIIZIZIZIZ +\n",
      "(1+0j) IZIZIZIZIZ +\n",
      "(1+0j) IIZZIIIIII +\n",
      "(1+0j) IIIIZZIIII +\n",
      "(1+0j) IIIIIIZZZZ\n",
      "\n",
      "and are rotated onto the single-qubit Pauli operators\n",
      "\n",
      "(-1+0j) IIIIIIXIII +\n",
      "(-1+0j) IIIIXIIIII +\n",
      "(-1+0j) IIXIIIIIII +\n",
      "(-1+0j) IXIIIIIIII +\n",
      "(-1+0j) XIIIIIIIII\n",
      "\n",
      "via a sequence of Clifford pi/2 rotations\n",
      "\n",
      "YIIZIZIZIZ IYIZIZIZIZ IIYZIIIIII IIIIYZIIII IIIIIIYZZZ\n"
     ]
    }
   ],
   "source": [
    "taper_hamiltonian = QubitTapering(ham)\n",
    "\n",
    "print(f'We are able to taper {taper_hamiltonian.n_taper} qubits from the Hamiltonian.\\n')\n",
    "print('The symmetry generators are\\n')\n",
    "print(taper_hamiltonian.symmetry_generators)\n",
    "print('\\nand are rotated onto the single-qubit Pauli operators\\n')\n",
    "print(taper_hamiltonian.rotated_stabilizers)\n",
    "print('\\nvia a sequence of Clifford pi/2 rotations\\n')\n",
    "print(*taper_hamiltonian.rotations)"
   ]
  },
  {
   "cell_type": "markdown",
   "id": "2f059a30",
   "metadata": {},
   "source": [
    "In order to perform the stabilizer subspace projection, we must also supply a symmetry sector or reference state. Under the Jordan-Wigner transformation, the Hartree-Fock state for our $M$-electron, $N$-orbital molecular system with charge=0 and multiplicity=1 will be \n",
    "\n",
    "$$|\\mathrm{HF}\\rangle = |\\underbrace{1 \\dots 1}_{M \\,\\text{times}}\\; \\underbrace{0 \\dots 0}_{N-M \\,\\text{times}} \\rangle.$$\n",
    "\n",
    "Note that OpenFermion fills orbital occupations from the left... this will not always be the case! For example, if using Qiskit or some other quantum computing package the Hartree-Fock state will not look the same."
   ]
  },
  {
   "cell_type": "code",
   "execution_count": 5,
   "id": "a4ee52aa",
   "metadata": {},
   "outputs": [],
   "source": [
    "n_electrons = 6\n",
    "n_qubits = len(list(ham_dict.keys())[0])"
   ]
  },
  {
   "cell_type": "code",
   "execution_count": null,
   "id": "087ad5d6",
   "metadata": {},
   "outputs": [],
   "source": []
  },
  {
   "cell_type": "code",
   "execution_count": 18,
   "id": "b5d122b0",
   "metadata": {},
   "outputs": [],
   "source": [
    "ham.Get_ground_state(n_eig_vals=1)\n",
    "\n",
    "true_gs_energy, true_gs_vec = ham.eig_vals[0], ham.eig_vecs[0,:]\n",
    "guess_state = np.binary_repr(np.argmax(true_gs_vec), width=n_qubits)"
   ]
  },
  {
   "cell_type": "code",
   "execution_count": null,
   "id": "a9d7913f",
   "metadata": {},
   "outputs": [],
   "source": []
  },
  {
   "cell_type": "code",
   "execution_count": 19,
   "id": "4b2fb804",
   "metadata": {},
   "outputs": [
    {
     "name": "stdout",
     "output_type": "stream",
     "text": [
      "The Hartree-Fock state is |0101111111>\n"
     ]
    }
   ],
   "source": [
    "# hf_state = np.concatenate([np.ones(n_electrons, dtype=int),np.zeros(n_qubits-n_electrons, dtype=int)])\n",
    "# hf_string = ''.join([str(i) for i in hf_state])\n",
    "\n",
    "hf_string = guess_state\n",
    "print(f'The Hartree-Fock state is |{hf_string}>')\n",
    "\n",
    "hf_state = np.array(list(map(int, hf_string)))"
   ]
  },
  {
   "cell_type": "markdown",
   "id": "213b37ce",
   "metadata": {},
   "source": [
    "The corresponding sector is obtained by measuring each symmetry generator with respect to the reference state, yielding a $\\pm1$ eigenvalue assignment."
   ]
  },
  {
   "cell_type": "code",
   "execution_count": 20,
   "id": "3ac9b6ff",
   "metadata": {},
   "outputs": [
    {
     "name": "stdout",
     "output_type": "stream",
     "text": [
      "The symmetry sector corresponding with the reference state is [ 1 -1 -1  1  1]\n"
     ]
    }
   ],
   "source": [
    "print(f'The symmetry sector corresponding with the reference state is {taper_hamiltonian.identify_symmetry_sector(hf_state)}')"
   ]
  },
  {
   "cell_type": "markdown",
   "id": "7c3d5ff4",
   "metadata": {},
   "source": [
    "This is everything we need to go ahead and perform the tapering process, which is effected by the `taper_it()` method that calls on the parent `S3_projection` class."
   ]
  },
  {
   "cell_type": "code",
   "execution_count": 21,
   "id": "f533176c",
   "metadata": {},
   "outputs": [
    {
     "name": "stdout",
     "output_type": "stream",
     "text": [
      "Tapered Hamiltonian:\n",
      "\n",
      " (-47.24319175857829+0j) IIIII +\n",
      "(12.420195218611381+0j) IIIIZ +\n",
      "(12.420195218611381+0j) IIIZI +\n",
      "(1.386087206475665+0j) IIIZZ +\n",
      "(1.6560274461609374+0j) IIZII +\n",
      "(0.520181883024243+0j) IIZIZ +\n",
      "(0.5570302427543667+0j) IIZZI +\n",
      "(1.6560274461609377-0j) IIZZZ +\n",
      "(2.6678191376918603+0j) IZIII +\n",
      "(0.5512397458758697+0j) IZIIZ +\n",
      "(0.5512397458758697+0j) IZIZI +\n",
      "(0.3586246955560466+0j) IZZII +\n",
      "(0.023722222559192097+0j) IZZIZ +\n",
      "(0.3586246955560466+0j) IZZZZ +\n",
      "(2.220446049250313e-16+0j) ZIIII +\n",
      "(-0.00645688621584839+0j) ZIIIZ +\n",
      "(0.00645688621584839+0j) ZIIZI +\n",
      "(-0.043093593380162915+0j) ZIZII +\n",
      "0j ZIZIZ +\n",
      "(0.043093593380162915+0j) ZIZZZ +\n",
      "0j ZZIII +\n",
      "(0.043093593380162915+0j) ZZIIZ +\n",
      "(-0.043093593380162915+0j) ZZIZI +\n",
      "(0.00645688621584839+0j) ZZZII +\n",
      "(-4.440892098500626e-16+0j) ZZZIZ +\n",
      "(-0.00645688621584839+0j) ZZZZZ +\n",
      "(-0.00896331655087819+0j) IIIIX +\n",
      "(0.00896331655087819-0j) IIZZX +\n",
      "(0.00896331655087819-0j) ZZIZX +\n",
      "(-0.00896331655087819+0j) ZZZIX +\n",
      "(-0.11259375353764486+0j) IIIXI +\n",
      "(-0.13926536214747354+0j) IIIXZ +\n",
      "(0.13926536214747354-0j) IIZXI +\n",
      "(0.11259375353764486+0j) IIZXZ +\n",
      "(-0.01585365100780425+0j) IZIXZ +\n",
      "(0.01585365100780425+0j) IZZXI +\n",
      "(0.00896331655087819+0j) ZIIXZ +\n",
      "(-0.00896331655087819+0j) ZIZXI +\n",
      "(0.00896331655087819+0j) ZZIXZ +\n",
      "(-0.00896331655087819+0j) ZZZXI +\n",
      "(0.006456886215848404+0j) IIIXX +\n",
      "(0.006456886215848404-0j) IIIYY +\n",
      "(0.006456886215848404+0j) ZZZXX +\n",
      "(0.006456886215848404-0j) ZZZYY +\n",
      "(-0.04309359338016289+0j) IIXII +\n",
      "(0.04309359338016289-0j) IIXZZ +\n",
      "(-0.04309359338016289+0j) ZZXIZ +\n",
      "(0.04309359338016289-0j) ZZXZI +\n",
      "(-0.11259375353764486+0j) IIXIX +\n",
      "(-0.13926536214747354+0j) IIXZX +\n",
      "(-0.11259375353764486+0j) IIYIY +\n",
      "(-0.13926536214747354+0j) IIYZY +\n",
      "(-0.01585365100780425+0j) IZXZX +\n",
      "(-0.01585365100780425+0j) IZYZY +\n",
      "(-0.00896331655087819+0j) ZIXZX +\n",
      "(-0.00896331655087819+0j) ZIYZY +\n",
      "(-0.00896331655087819+0j) ZZXZX +\n",
      "(-0.00896331655087819+0j) ZZYZY +\n",
      "(-0.00896331655087819+0j) IIXXI +\n",
      "(-0.00896331655087819+0j) IIYYI +\n",
      "(-0.00896331655087819+0j) ZZXXZ +\n",
      "(-0.00896331655087819+0j) ZZYYZ +\n",
      "(0.036848359730123695+0j) IIXYY +\n",
      "(-0.036848359730123695+0j) IIYYX +\n",
      "0j IXIII +\n",
      "0j ZXZIZ +\n",
      "(-0.00896331655087819+0j) IXIIX +\n",
      "(-0.00896331655087819+0j) IXZZX +\n",
      "(-0.00896331655087819+0j) IYIIY +\n",
      "(-0.00896331655087819+0j) IYZZY +\n",
      "(-0.006456886215848404+0j) IXIXX +\n",
      "(0.006456886215848404-0j) IXIYY +\n",
      "(-0.006456886215848404+0j) IYIXY +\n",
      "(-0.006456886215848404+0j) IYIYX +\n",
      "(0.04309359338016289-0j) IXXII +\n",
      "(0.04309359338016289-0j) IXXZZ +\n",
      "(0.04309359338016289-0j) IYYII +\n",
      "(0.04309359338016289-0j) IYYZZ +\n",
      "(-0.00896331655087819+0j) IXXXI +\n",
      "(0.00896331655087819+0j) IXYYI +\n",
      "(-0.00896331655087819+0j) IYXYI +\n",
      "(-0.00896331655087819+0j) IYYXI +\n",
      "(0.023722222559192093+0j) XIIII +\n",
      "(0.023722222559192093+0j) XZZIZ +\n",
      "(0.00896331655087819+0j) XIIIX +\n",
      "(-0.00896331655087819+0j) XIZZX +\n",
      "(0.00896331655087819+0j) YIIIY +\n",
      "(-0.00896331655087819+0j) YIZZY +\n",
      "(-0.006456886215848404+0j) XIIXX +\n",
      "(-0.006456886215848404+0j) XIIYY +\n",
      "(-0.006456886215848404+0j) YIIXY +\n",
      "(0.006456886215848404+0j) YIIYX +\n",
      "(0.04309359338016289-0j) XIXII +\n",
      "(-0.04309359338016289+0j) XIXZZ +\n",
      "(0.04309359338016289-0j) YIYII +\n",
      "(-0.04309359338016289+0j) YIYZZ +\n",
      "(0.00896331655087819+0j) XIXXI +\n",
      "(0.00896331655087819+0j) XIYYI +\n",
      "(-0.00896331655087819+0j) YIXYI +\n",
      "(0.00896331655087819+0j) YIYXI +\n",
      "0j XXIII +\n",
      "0j YYIII\n"
     ]
    }
   ],
   "source": [
    "ham_tap = taper_hamiltonian.taper_it(ref_state=hf_state)\n",
    "print('Tapered Hamiltonian:\\n\\n', ham_tap)"
   ]
  },
  {
   "cell_type": "markdown",
   "id": "b838b371",
   "metadata": {},
   "source": [
    "We should also check that the ground state energy of the tapered Hamiltonian mathces that of the full system."
   ]
  },
  {
   "cell_type": "code",
   "execution_count": 25,
   "id": "258cfbcf",
   "metadata": {},
   "outputs": [
    {
     "name": "stdout",
     "output_type": "stream",
     "text": [
      "The ground state energy of the full system is -73.80415023325718,\n",
      "whereas for the tapered system we find the energy is -73.8041502332558.\n",
      "The absolute error is 1.3784529073745944e-12.\n"
     ]
    }
   ],
   "source": [
    "# true_gs_energy, true_gs_vec = get_ground_state(ham.to_sparse_matrix)\n",
    "tap_gs_energy, tap_gs = get_ground_state(ham_tap.to_sparse_matrix)\n",
    "\n",
    "print(f'The ground state energy of the full system is {true_gs_energy},')\n",
    "print(f'whereas for the tapered system we find the energy is {tap_gs_energy}.')\n",
    "print(f'The absolute error is {tap_gs_energy-true_gs_energy}.')"
   ]
  },
  {
   "cell_type": "code",
   "execution_count": null,
   "id": "deb0755e",
   "metadata": {},
   "outputs": [],
   "source": []
  },
  {
   "cell_type": "code",
   "execution_count": null,
   "id": "e2b1e9ed",
   "metadata": {},
   "outputs": [],
   "source": []
  },
  {
   "cell_type": "markdown",
   "id": "b82a9c80",
   "metadata": {},
   "source": [
    "Do they match? Depending on the molecule chosen, they might not! One can sometimes find that the Hartree-Fock state does not yield the correct symmetry sector, particularly in the strongly correlated regime."
   ]
  },
  {
   "cell_type": "code",
   "execution_count": 26,
   "id": "c2a40d0e",
   "metadata": {},
   "outputs": [
    {
     "name": "stdout",
     "output_type": "stream",
     "text": [
      "The Hartree-Fock state exhibits non-zero overlap with the true ground state.\n",
      "Overlap of the Hartree-Fock state with the true ground state: <HF|True GS> = 0.1119320479\n"
     ]
    }
   ],
   "source": [
    "hf_vec = np.eye(1,len(true_gs_vec),int(hf_string,2))\n",
    "hf_overlap = np.square(np.abs(hf_vec.dot(true_gs_vec)))[0]\n",
    "\n",
    "if hf_overlap < 1e-18:\n",
    "    print('The Hartree-Fock state has no overlap with the true ground state!')\n",
    "else:\n",
    "    print('The Hartree-Fock state exhibits non-zero overlap with the true ground state.')\n",
    "print(f'Overlap of the Hartree-Fock state with the true ground state: <HF|True GS> = {hf_overlap:.10f}')"
   ]
  },
  {
   "cell_type": "markdown",
   "id": "35149fe9",
   "metadata": {},
   "source": [
    "If we instead take the dominant basis state (plotted below in a histogram), we should see that the energies do match in the resulting sector..."
   ]
  },
  {
   "cell_type": "code",
   "execution_count": null,
   "id": "3837a46b",
   "metadata": {},
   "outputs": [],
   "source": [
    "amps = plot_ground_state_amplitudes(true_gs_energy,true_gs_vec, n_qubits, return_amps=True)\n",
    "new_ref_state = [int(i) for i in amps[0][0]]\n",
    "ham_tap_2 = taper_hamiltonian.taper_it(ref_state=new_ref_state)\n",
    "tap_gs_energy_2, tap_gs_2 = get_ground_state(ham_tap_2.to_sparse_matrix)\n",
    "\n",
    "print(f'In the sector {taper_hamiltonian.identify_symmetry_sector(new_ref_state)}, we find the ground state energy to be {tap_gs_energy_2}.')\n",
    "print(f'The absolute error is {tap_gs_energy_2-true_gs_energy}.')"
   ]
  },
  {
   "cell_type": "markdown",
   "id": "d1c00fa5",
   "metadata": {},
   "source": [
    "*The problem is...* \n",
    "\n",
    "we will not in general know how the basis states are distributed in the ground state!\n",
    "\n",
    "The scalability of tapering is highly predicated on finding new approaches to identifying the correct symmetry sector."
   ]
  },
  {
   "cell_type": "code",
   "execution_count": null,
   "id": "55a669c0",
   "metadata": {},
   "outputs": [],
   "source": []
  },
  {
   "cell_type": "code",
   "execution_count": null,
   "id": "2b30db76",
   "metadata": {},
   "outputs": [],
   "source": []
  },
  {
   "cell_type": "code",
   "execution_count": null,
   "id": "5c104db9",
   "metadata": {},
   "outputs": [],
   "source": [
    "from openfermion.ops import MajoranaOperator"
   ]
  },
  {
   "cell_type": "code",
   "execution_count": null,
   "id": "76992dc6",
   "metadata": {},
   "outputs": [],
   "source": [
    "y1 = MajoranaOperator(term=(1,), coefficient=1.0)\n",
    "y2 = MajoranaOperator(term=(2,), coefficient=1.0)\n",
    "y1*y2 == -1*y2*y1"
   ]
  },
  {
   "cell_type": "code",
   "execution_count": null,
   "id": "60763852",
   "metadata": {},
   "outputs": [],
   "source": [
    "y1 = MajoranaOperator(term=(1,2,3,4), coefficient=1.0)\n",
    "y2 = MajoranaOperator(term=(1,2,3), coefficient=1.0)\n",
    "\n",
    "y1*y2 == - y2*y1"
   ]
  },
  {
   "cell_type": "code",
   "execution_count": null,
   "id": "557caef4",
   "metadata": {},
   "outputs": [],
   "source": []
  },
  {
   "cell_type": "code",
   "execution_count": null,
   "id": "0d250526",
   "metadata": {},
   "outputs": [],
   "source": [
    "class MajoranaOp:\n",
    "    \"\"\" \n",
    "    A class thats represents an operator defined over the Pauli group in the symplectic representation.\n",
    "    \"\"\"\n",
    "    def __init__(self, \n",
    "            n_qubits, list_lists_OR_sympletic_form\n",
    "        ) -> None:\n",
    "        \"\"\" \n",
    "        TODO\n",
    "        \"\"\"\n",
    "        \n",
    "        self.n_qubits = n_qubits\n",
    "        self.initalize_op(list_lists_OR_sympletic_form)\n",
    "        \n",
    "    def initalize_op(self, input_term):\n",
    "        \n",
    "        if isinstance(input_term, np.ndarray):\n",
    "            assert(input_term.shape[1] == 2*self.n_qubits), 'incorrect qubit no.'\n",
    "            self.m_op = input_term\n",
    "        else:\n",
    "            n_terms = len(input_term)\n",
    "            self.m_op = np.zeros((n_terms, 2*self.n_qubits), dtype=int)\n",
    "            for ind, term in enumerate(input_term):\n",
    "                self.m_op[ind,term]=1\n",
    "                \n",
    "        \n",
    "    def commutes(self, M_OP):\n",
    "#         sum(np.logical_and(self.m_op, M_OP.m_op))\n",
    "        return not bool(np.dot(self.m_op, M_OP.m_op)%2)\n",
    "        \n",
    "    def commutes_termwise(self, M_OP):\n",
    "        # 1 means terms anticommute!\n",
    "        # 0 means terms commute!\n",
    "        comm_flag = np.dot(self.m_op, M_OP.m_op.T)%2\n",
    "        return comm_flag\n",
    "    \n",
    "    def adjacency_matrix(self):\n",
    "        \"\"\" Checks which terms of self commute within itself\n",
    "        \"\"\"\n",
    "        adj = self.commutes_termwise(self)\n",
    "        np.fill_diagonal(adj, 0) # zero means commutes (need to set diagonal!)\n",
    "        return adj"
   ]
  },
  {
   "cell_type": "code",
   "execution_count": null,
   "id": "911ccf06",
   "metadata": {},
   "outputs": [],
   "source": [
    "M = MajoranaOp(3, [[0,1],[1],[0,1,2],[2], [3]])\n",
    "M.adjacency_matrix()\n"
   ]
  },
  {
   "cell_type": "code",
   "execution_count": null,
   "id": "924583c8",
   "metadata": {},
   "outputs": [],
   "source": []
  },
  {
   "cell_type": "code",
   "execution_count": null,
   "id": "de12ecbf",
   "metadata": {},
   "outputs": [],
   "source": [
    "from symred.S3_projection import gf2_basis_for_gf2_rref, gf2_gaus_elim\n",
    "ZX_symp = M.m_op\n",
    "reduced = gf2_gaus_elim(ZX_symp)\n",
    "kernel  =  gf2_basis_for_gf2_rref(reduced)\n",
    "kernel = np.logical_not(kernel).astype(int) # uses not as we get the anticommutator \n",
    "kernel"
   ]
  },
  {
   "cell_type": "code",
   "execution_count": null,
   "id": "8fdf8225",
   "metadata": {},
   "outputs": [],
   "source": [
    "from openfermion.linalg import get_sparse_operator\n",
    "get_sparse_operator(y6, n_qubits=10)"
   ]
  },
  {
   "cell_type": "code",
   "execution_count": null,
   "id": "57eda0df",
   "metadata": {},
   "outputs": [],
   "source": []
  },
  {
   "cell_type": "code",
   "execution_count": null,
   "id": "e9c74ed9",
   "metadata": {},
   "outputs": [],
   "source": [
    "y6 = MajoranaOperator(term=(0,1,2,3,5), coefficient=1.0)\n",
    "y7 = MajoranaOperator(term=(0,1,2,3,4), coefficient=1.0)\n",
    "\n",
    "y_all = (MajoranaOperator(term=(0,1), coefficient=1.0) + \n",
    "        MajoranaOperator(term=(1,), coefficient=1.0) + \n",
    "        MajoranaOperator(term=(0,1,2), coefficient=1.0) + \n",
    "        MajoranaOperator(term=(2,), coefficient=1.0) )\n",
    "\n",
    "print(y6 * y_all == y_all * y6)\n",
    "print(y7 * y_all == y_all * y7)\n"
   ]
  },
  {
   "cell_type": "code",
   "execution_count": null,
   "id": "7eb12157",
   "metadata": {},
   "outputs": [],
   "source": []
  },
  {
   "cell_type": "code",
   "execution_count": null,
   "id": "ca554417",
   "metadata": {},
   "outputs": [],
   "source": [
    "\n",
    "\n",
    "# def symmetry_generators(self) -> StabilizerOp:\n",
    "#     \"\"\" Find an independent basis for the input operator symmetry\n",
    "#     \"\"\"\n",
    "#     # swap order of XZ blocks in symplectic matrix to ZX\n",
    "#     ZX_symp = np.hstack([self.operator.Z_block, self.operator.X_block])\n",
    "#     reduced = gf2_gaus_elim(ZX_symp)\n",
    "#     kernel  = gf2_basis_for_gf2_rref(reduced)"
   ]
  },
  {
   "cell_type": "code",
   "execution_count": null,
   "id": "b053e854",
   "metadata": {
    "scrolled": true
   },
   "outputs": [],
   "source": [
    "M1 = MajoranaOp(12, [[1,2,3,4], [1,2]])\n",
    "M2 = MajoranaOp(12, [[1,2,3],[1],[10],[2]])\n",
    "\n",
    "M1.commutes_termwise(M2)\n",
    "# first term in M1 anticomm, anticomm, commutes, anticomm with M2 terms\n",
    "# second ....   M1 commutes, anticomm, commutes, anticomm with M2 terms"
   ]
  },
  {
   "cell_type": "code",
   "execution_count": null,
   "id": "e2f5d5f3",
   "metadata": {},
   "outputs": [],
   "source": [
    "y1 = MajoranaOperator(term=(1,2,3), coefficient=1.0)\n",
    "y2 = MajoranaOperator(term=(1,2,3), coefficient=1.0)\n",
    "\n",
    "y1*y2 == y2*y1"
   ]
  },
  {
   "cell_type": "code",
   "execution_count": null,
   "id": "8d6a6c32",
   "metadata": {},
   "outputs": [],
   "source": []
  },
  {
   "cell_type": "code",
   "execution_count": null,
   "id": "ff1c4a14",
   "metadata": {},
   "outputs": [],
   "source": [
    "#     @cached_property\n",
    "#     def symmetry_generators(self) -> StabilizerOp:\n",
    "#         \"\"\" Find an independent basis for the input operator symmetry\n",
    "#         \"\"\"\n",
    "#         # swap order of XZ blocks in symplectic matrix to ZX\n",
    "#         ZX_symp = np.hstack([self.operator.Z_block, self.operator.X_block])\n",
    "#         reduced = gf2_gaus_elim(ZX_symp)\n",
    "#         kernel  = gf2_basis_for_gf2_rref(reduced)"
   ]
  },
  {
   "cell_type": "code",
   "execution_count": null,
   "id": "3e41b173",
   "metadata": {},
   "outputs": [],
   "source": [
    "M1.shape"
   ]
  },
  {
   "cell_type": "code",
   "execution_count": null,
   "id": "5487aa23",
   "metadata": {},
   "outputs": [],
   "source": [
    "M1 = MajoranaOp(6, [[1,2,3,4]])\n",
    "M2 = MajoranaOp(6, [[1,2]])\n",
    "\n",
    "# M1.commutes(M2)\n"
   ]
  },
  {
   "cell_type": "code",
   "execution_count": null,
   "id": "491d79e0",
   "metadata": {},
   "outputs": [],
   "source": []
  },
  {
   "cell_type": "code",
   "execution_count": null,
   "id": "75f7317c",
   "metadata": {},
   "outputs": [],
   "source": []
  },
  {
   "cell_type": "code",
   "execution_count": null,
   "id": "7c4f49c6",
   "metadata": {},
   "outputs": [],
   "source": [
    "y1 = MajoranaOperator(term=(1,2,3,4), coefficient=1.0)\n",
    "y2 = MajoranaOperator(term=(1,2), coefficient=1.0)\n",
    "\n",
    "y1*y2 == -y2*y1"
   ]
  }
 ],
 "metadata": {
  "kernelspec": {
   "display_name": "Python 3 (ipykernel)",
   "language": "python",
   "name": "python3"
  },
  "language_info": {
   "codemirror_mode": {
    "name": "ipython",
    "version": 3
   },
   "file_extension": ".py",
   "mimetype": "text/x-python",
   "name": "python",
   "nbconvert_exporter": "python",
   "pygments_lexer": "ipython3",
   "version": "3.9.7"
  }
 },
 "nbformat": 4,
 "nbformat_minor": 5
}
