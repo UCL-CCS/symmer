{
 "cells": [
  {
   "cell_type": "code",
   "execution_count": null,
   "id": "abee2765",
   "metadata": {},
   "outputs": [],
   "source": [
    "import numpy as np\n",
    "from typing import Union\n",
    "from scipy.sparse import csr_matrix, dok_matrix, csc_matrix, coo_matrix\n",
    "from tqdm.notebook import tqdm\n",
    "from symmer import PauliwordOp"
   ]
  },
  {
   "cell_type": "markdown",
   "id": "430e5bec",
   "metadata": {},
   "source": [
    "https://docs.scipy.org/doc/scipy/reference/generated/scipy.sparse.dok_matrix.html#scipy.sparse.dok_matrix"
   ]
  },
  {
   "cell_type": "code",
   "execution_count": 2,
   "id": "13ded8c7",
   "metadata": {},
   "outputs": [],
   "source": [
    "M = dok_matrix((100, 100))"
   ]
  },
  {
   "cell_type": "code",
   "execution_count": 3,
   "id": "6e19a06a",
   "metadata": {},
   "outputs": [],
   "source": [
    "nq = 3\n",
    "\n",
    "empty = dok_matrix((4**nq, 4**nq), \n",
    "                   dtype=bool)\n"
   ]
  },
  {
   "cell_type": "code",
   "execution_count": null,
   "id": "3372fb91",
   "metadata": {},
   "outputs": [],
   "source": []
  },
  {
   "cell_type": "code",
   "execution_count": 4,
   "id": "8ddbc870",
   "metadata": {},
   "outputs": [],
   "source": [
    "P = PauliwordOp.random(10,6)\n",
    "# int_list = P.symp_matrix @ (1 << np.arange(P.symp_matrix.shape[1])[::-1])\n",
    "\n",
    "int_list = P.symp_matrix @ (1 << np.arange(P.symp_matrix.shape[1])[::-1])\n",
    "\n"
   ]
  },
  {
   "cell_type": "code",
   "execution_count": 5,
   "id": "da34b9c3",
   "metadata": {},
   "outputs": [],
   "source": [
    "# PauliwordOp(P.symp_matrix[sort_inds], P.coeff_vec[sort_inds])"
   ]
  },
  {
   "cell_type": "code",
   "execution_count": null,
   "id": "613a7bc7",
   "metadata": {},
   "outputs": [],
   "source": []
  },
  {
   "cell_type": "code",
   "execution_count": 6,
   "id": "0a69e423",
   "metadata": {},
   "outputs": [],
   "source": [
    "def get_ij_operator(i,j,n_qubits,binary_vec=None, return_operator=False):\n",
    "    \"\"\"\n",
    "    \"\"\"\n",
    "    if n_qubits > 30:\n",
    "        raise ValueError('Too many qubits, might run into memory limitations.')\n",
    "\n",
    "    if binary_vec is None:\n",
    "        binary_vec = (\n",
    "            ((np.arange(2 ** n_qubits).reshape([-1, 1]) & \n",
    "            (1 << np.arange(n_qubits))[::-1])) > 0\n",
    "        ).astype(bool)\n",
    "\n",
    "    left  = np.array([int(i) for i in np.binary_repr(i, width=n_qubits)]).astype(bool)\n",
    "    right = np.array([int(i) for i in np.binary_repr(j, width=n_qubits)]).astype(bool)\n",
    "\n",
    "    AND = left & right # AND where -1 sign\n",
    "    XZX_sign_flips = (-1) ** np.sum(AND & binary_vec, axis=1) # XZX = -X multiplications\n",
    "        \n",
    "    if i != j:\n",
    "        XOR = left ^ right # XOR where +-i phase\n",
    "\n",
    "        XZ_mult = left & binary_vec\n",
    "        ZX_mult = binary_vec & right\n",
    "\n",
    "        XZ_phase = (-1j) ** np.sum(XZ_mult & ~ZX_mult, axis=1) # XZ=-iY multiplications\n",
    "        ZX_phase = (+1j) ** np.sum(ZX_mult & ~XZ_mult, axis=1) # ZX=+iY multiplications\n",
    "        phase_mod = XZX_sign_flips * XZ_phase * ZX_phase\n",
    "        \n",
    "        ij_symp_matrix = np.hstack([np.tile(XOR, [2**n_qubits, 1]), binary_vec])\n",
    "        coeffs = phase_mod/2**n_qubits\n",
    "        \n",
    "        if return_operator:\n",
    "            ij_operator= PauliwordOp(ij_symp_matrix, phase_mod/2**n_qubits)\n",
    "            return ij_operator\n",
    "    else:\n",
    "        ij_symp_matrix = np.hstack([np.zeros_like(binary_vec), binary_vec])\n",
    "        coeffs = XZX_sign_flips/2**n_qubits \n",
    "        \n",
    "        if return_operator:\n",
    "            ij_operator= PauliwordOp(ij_symp_matrix, XZX_sign_flips/2**n_qubits)\n",
    "            return ij_operator\n",
    "\n",
    "    return ij_symp_matrix, coeffs #ij_operator"
   ]
  },
  {
   "cell_type": "code",
   "execution_count": null,
   "id": "443cd6fb",
   "metadata": {},
   "outputs": [],
   "source": []
  },
  {
   "cell_type": "code",
   "execution_count": 7,
   "id": "6e3bdd84",
   "metadata": {},
   "outputs": [],
   "source": [
    "#     def _from_matrix_projector(cls, \n",
    "#             matrix: Union[np.array, csr_matrix],\n",
    "#             n_qubits: int\n",
    "#         ) -> \"PauliwordOp\":\n",
    "#         \"\"\"\n",
    "#         \"\"\"\n",
    "#         if isinstance(matrix, np.ndarray):\n",
    "#             row, col = np.where(matrix)\n",
    "#         elif isinstance(matrix, (csr_matrix, csc_matrix, coo_matrix)):\n",
    "#             row, col = matrix.nonzero()\n",
    "#         else:\n",
    "#             raise ValueError('Unrecognised matrix type, must be one of np.array or sp.sparse.csr_matrix')\n",
    "        \n",
    "#         binary_vec = (\n",
    "#             (\n",
    "#                 np.arange(2 ** n_qubits).reshape([-1, 1]) & \n",
    "#                 (1 << np.arange(n_qubits))[::-1]\n",
    "#             ) > 0\n",
    "#         ).astype(bool)\n",
    "\n",
    "#         P_out = cls.empty(n_qubits)\n",
    "#         for i,j in tqdm(zip(row, col), desc='Building operator via projectors', total=len(row)):\n",
    "#             ij_op = get_ij_operator(i,j,n_qubits,binary_vec=binary_vec) \n",
    "#             P_out += ij_op * matrix[i,j]\n",
    "\n",
    "#         return P_out"
   ]
  },
  {
   "cell_type": "code",
   "execution_count": 8,
   "id": "b25db185",
   "metadata": {},
   "outputs": [],
   "source": [
    "def from_matrix_projector( matrix: Union[np.array, csr_matrix], \n",
    "                           n_qubits: int) -> \"PauliwordOp\":\n",
    "    \"\"\"\n",
    "    \"\"\"\n",
    "    assert n_qubits <=32, 'cannot decompose matrices above 32 qubits'\n",
    "    \n",
    "    if isinstance(matrix, np.ndarray):\n",
    "        row, col = np.where(matrix)\n",
    "    elif isinstance(matrix, (csr_matrix, csc_matrix, coo_matrix)):\n",
    "        row, col = matrix.nonzero()\n",
    "    else:\n",
    "        raise ValueError('Unrecognised matrix type, must be one of np.array or sp.sparse.csr_matrix')\n",
    "    \n",
    "    sym_operator = dok_matrix((4**n_qubits, 2*n_qubits), \n",
    "                        dtype=bool)\n",
    "    \n",
    "    coeff_operator = dok_matrix((4**n_qubits, 1), \n",
    "                        dtype=complex)\n",
    "    \n",
    "    \n",
    "    binary_vec = (\n",
    "        (\n",
    "            np.arange(2 ** n_qubits).reshape([-1, 1]) & \n",
    "            (1 << np.arange(n_qubits))[::-1]\n",
    "        ) > 0).astype(bool)\n",
    "    \n",
    "    binary_convert = 1 << np.arange(2*n_qubits)[::-1]\n",
    "    #P_out = cls.empty(n_qubits)\n",
    "    for i,j in tqdm(zip(row, col), desc='Building operator via projectors', total=len(row)):\n",
    "        \n",
    "        ij_symp_matrix, proj_coeffs = get_ij_operator(i,j,\n",
    "                                                      n_qubits,\n",
    "                                                      binary_vec=binary_vec) \n",
    "        \n",
    "        ### find location in symp matrix\n",
    "        int_list = ij_symp_matrix @ binary_convert #(1 << np.arange(ij_symp_matrix.shape[1])[::-1])        \n",
    "        \n",
    "        # populate sparse mats\n",
    "        sym_operator[int_list, :] = ij_symp_matrix\n",
    "        coeff_operator[int_list] += proj_coeffs.reshape(-1,1) * matrix[i,j]\n",
    "    \n",
    "    \n",
    "    ### only keep nonzero coeffs!\n",
    "    nonzero = coeff_operator.nonzero()[0]\n",
    "    P_out = PauliwordOp(sym_operator[nonzero,:].toarray(), \n",
    "                        coeff_operator[nonzero].toarray()[:,0])\n",
    "\n",
    "#     P_out = PauliwordOp(sym_operator.toarray(),\n",
    "#                        coeff_operator.toarray()[:,0]).cleanup()\n",
    "    return P_out"
   ]
  },
  {
   "cell_type": "code",
   "execution_count": null,
   "id": "2f00dbab",
   "metadata": {},
   "outputs": [],
   "source": []
  },
  {
   "cell_type": "code",
   "execution_count": 9,
   "id": "5074f33f",
   "metadata": {},
   "outputs": [],
   "source": [
    "nq = 2\n",
    "random_M = np.random.random((2**nq,2**nq))\n",
    "\n",
    "\n",
    "# nq=2\n",
    "# random_M = np.array([[ 2.+0.j,  0.+0.j,  1.+0.j,  0.+0.j],\n",
    "#        [ 0.+0.j, -2.+0.j,  0.+0.j,  1.+0.j],\n",
    "#        [ 1.+0.j,  0.+0.j, -2.+0.j,  0.+0.j],\n",
    "#        [ 0.+0.j,  1.+0.j,  0.+0.j,  2.+0.j]])"
   ]
  },
  {
   "cell_type": "code",
   "execution_count": 10,
   "id": "a4d82170",
   "metadata": {},
   "outputs": [
    {
     "data": {
      "application/vnd.jupyter.widget-view+json": {
       "model_id": "6ec81117f42440cf86b1c40e5f4c4e5b",
       "version_major": 2,
       "version_minor": 0
      },
      "text/plain": [
       "Building operator via projectors:   0%|          | 0/16 [00:00<?, ?it/s]"
      ]
     },
     "metadata": {},
     "output_type": "display_data"
    },
    {
     "data": {
      "text/plain": [
       " 0.580+0.000j II +\n",
       "-0.117+0.000j IZ +\n",
       " 0.006+0.000j ZI +\n",
       "-0.129+0.000j ZZ +\n",
       " 0.410+0.000j IX +\n",
       " 0.000-0.184j IY +\n",
       " 0.033+0.000j ZX +\n",
       " 0.000+0.115j ZY +\n",
       " 0.540+0.000j XI +\n",
       "-0.158+0.000j XZ +\n",
       " 0.000-0.187j YI +\n",
       " 0.000-0.145j YZ +\n",
       " 0.620+0.000j XX +\n",
       " 0.000-0.111j XY +\n",
       " 0.000-0.175j YX +\n",
       "-0.022+0.000j YY"
      ]
     },
     "execution_count": 10,
     "metadata": {},
     "output_type": "execute_result"
    }
   ],
   "source": [
    "P_test = from_matrix_projector(random_M, nq)\n",
    "\n",
    "P_test"
   ]
  },
  {
   "cell_type": "code",
   "execution_count": 11,
   "id": "20eb2464",
   "metadata": {},
   "outputs": [
    {
     "name": "stdout",
     "output_type": "stream",
     "text": [
      "True\n"
     ]
    }
   ],
   "source": [
    "print(np.allclose(P_test.to_sparse_matrix.toarray(),\n",
    "            random_M))"
   ]
  },
  {
   "cell_type": "code",
   "execution_count": 12,
   "id": "236c0e06",
   "metadata": {},
   "outputs": [
    {
     "data": {
      "application/vnd.jupyter.widget-view+json": {
       "model_id": "8b3879dfbadd47c1a39af076b721adef",
       "version_major": 2,
       "version_minor": 0
      },
      "text/plain": [
       "Building operator via projectors:   0%|          | 0/16 [00:00<?, ?it/s]"
      ]
     },
     "metadata": {},
     "output_type": "display_data"
    },
    {
     "data": {
      "text/plain": [
       "True"
      ]
     },
     "execution_count": 12,
     "metadata": {},
     "output_type": "execute_result"
    }
   ],
   "source": [
    "P_old = PauliwordOp.from_matrix(random_M)\n",
    "\n",
    "np.allclose(P_old.to_sparse_matrix.toarray(),\n",
    "            random_M)"
   ]
  },
  {
   "cell_type": "code",
   "execution_count": 13,
   "id": "91f3c2ce",
   "metadata": {},
   "outputs": [
    {
     "data": {
      "text/plain": [
       " 0.580+0.000j II +\n",
       "-0.117+0.000j IZ +\n",
       " 0.006+0.000j ZI +\n",
       "-0.129+0.000j ZZ +\n",
       " 0.410+0.000j IX +\n",
       " 0.000-0.184j IY +\n",
       " 0.033+0.000j ZX +\n",
       " 0.000+0.115j ZY +\n",
       " 0.540+0.000j XI +\n",
       "-0.158+0.000j XZ +\n",
       " 0.000-0.187j YI +\n",
       " 0.000-0.145j YZ +\n",
       " 0.620+0.000j XX +\n",
       " 0.000-0.111j XY +\n",
       " 0.000-0.175j YX +\n",
       "-0.022+0.000j YY"
      ]
     },
     "execution_count": 13,
     "metadata": {},
     "output_type": "execute_result"
    }
   ],
   "source": [
    "P_old"
   ]
  },
  {
   "cell_type": "code",
   "execution_count": null,
   "id": "9adb6dc1",
   "metadata": {},
   "outputs": [],
   "source": []
  },
  {
   "cell_type": "code",
   "execution_count": 15,
   "id": "015b8d60",
   "metadata": {},
   "outputs": [],
   "source": [
    "# test = PauliwordOp(symp.toarray(), coeff.toarray()[:,0]).cleanup()\n",
    "# test"
   ]
  },
  {
   "cell_type": "code",
   "execution_count": 16,
   "id": "fb7eb5ff",
   "metadata": {},
   "outputs": [
    {
     "data": {
      "text/plain": [
       "array([[ 2.+0.j,  0.+0.j,  1.+0.j,  0.+0.j],\n",
       "       [ 0.+0.j, -2.+0.j,  0.+0.j,  1.+0.j],\n",
       "       [ 1.+0.j,  0.+0.j, -2.+0.j,  0.+0.j],\n",
       "       [ 0.+0.j,  1.+0.j,  0.+0.j,  2.+0.j]])"
      ]
     },
     "execution_count": 16,
     "metadata": {},
     "output_type": "execute_result"
    }
   ],
   "source": [
    "PauliwordOp.from_dictionary({'XI':1,\n",
    "                             'ZZ':2}).to_sparse_matrix.toarray()"
   ]
  },
  {
   "cell_type": "code",
   "execution_count": null,
   "id": "0b28f363",
   "metadata": {},
   "outputs": [],
   "source": []
  },
  {
   "cell_type": "code",
   "execution_count": null,
   "id": "3476e0fc",
   "metadata": {},
   "outputs": [],
   "source": []
  },
  {
   "cell_type": "code",
   "execution_count": 35,
   "id": "1d36cee7",
   "metadata": {},
   "outputs": [],
   "source": [
    "from scipy.sparse import rand\n",
    "import numpy as np\n",
    "from time import time\n",
    "\n",
    "n_qubits = 5#8\n",
    "density = 0.1\n",
    "\n",
    "dim = 2**n_qubits\n",
    "#x = rand(D, D, density=1/(2**(1.9*n_qubits)), format='csr')\n",
    "sparse_mat = rand(dim, dim, \n",
    "                  density=density, \n",
    "                  format='csr')\n",
    "\n",
    "sparse_mat = sparse_mat.toarray()\n",
    "\n",
    "# n_qubits=2\n",
    "# sparse_mat = np.random.random((2**n_qubits,2**n_qubits))\n",
    "# sparse_mat = sparse_mat.astype(complex)\n",
    "\n",
    "\n",
    "# n_qubits=3\n",
    "# sparse_mat = PauliwordOp.from_dictionary({'ZZI':2,\n",
    "#                                           'YII':2j+1}).to_sparse_matrix"
   ]
  },
  {
   "cell_type": "code",
   "execution_count": null,
   "id": "f7f837e6",
   "metadata": {},
   "outputs": [],
   "source": []
  },
  {
   "cell_type": "code",
   "execution_count": 36,
   "id": "a42714e1",
   "metadata": {},
   "outputs": [
    {
     "data": {
      "application/vnd.jupyter.widget-view+json": {
       "model_id": "a8f6f065a15e4150a20072b3b7963b39",
       "version_major": 2,
       "version_minor": 0
      },
      "text/plain": [
       "Building operator via projectors:   0%|          | 0/102 [00:00<?, ?it/s]"
      ]
     },
     "metadata": {},
     "output_type": "display_data"
    }
   ],
   "source": [
    "P_test = from_matrix_projector(sparse_mat, n_qubits)"
   ]
  },
  {
   "cell_type": "code",
   "execution_count": 44,
   "id": "b3c5826b",
   "metadata": {},
   "outputs": [
    {
     "data": {
      "text/plain": [
       "True"
      ]
     },
     "execution_count": 44,
     "metadata": {},
     "output_type": "execute_result"
    }
   ],
   "source": [
    "np.allclose(sparse_mat,\n",
    "           P_test.to_sparse_matrix.toarray())"
   ]
  },
  {
   "cell_type": "code",
   "execution_count": 37,
   "id": "0e2ffe2e",
   "metadata": {},
   "outputs": [
    {
     "data": {
      "application/vnd.jupyter.widget-view+json": {
       "model_id": "95d5e4d5fa2c40d98b19a509784230ec",
       "version_major": 2,
       "version_minor": 0
      },
      "text/plain": [
       "Building operator via projectors:   0%|          | 0/102 [00:00<?, ?it/s]"
      ]
     },
     "metadata": {},
     "output_type": "display_data"
    }
   ],
   "source": [
    "Pold_proj = PauliwordOp.from_matrix(sparse_mat, strategy='projector')"
   ]
  },
  {
   "cell_type": "code",
   "execution_count": 38,
   "id": "7b017865",
   "metadata": {},
   "outputs": [
    {
     "data": {
      "text/plain": [
       "True"
      ]
     },
     "execution_count": 38,
     "metadata": {},
     "output_type": "execute_result"
    }
   ],
   "source": [
    "P_test == Pold_proj"
   ]
  },
  {
   "cell_type": "code",
   "execution_count": 39,
   "id": "4bd15d2a",
   "metadata": {},
   "outputs": [
    {
     "data": {
      "application/vnd.jupyter.widget-view+json": {
       "model_id": "bcadcd5f6e044663b15121ad9ae99058",
       "version_major": 2,
       "version_minor": 0
      },
      "text/plain": [
       "Building operator via full basis:   0%|          | 0/1024 [00:00<?, ?it/s]"
      ]
     },
     "metadata": {},
     "output_type": "display_data"
    }
   ],
   "source": [
    "Pold_fullbasis = PauliwordOp.from_matrix(sparse_mat, \n",
    "                                         strategy='full_basis',\n",
    "                                        operator_basis = None)"
   ]
  },
  {
   "cell_type": "code",
   "execution_count": 40,
   "id": "e8cf53e2",
   "metadata": {},
   "outputs": [
    {
     "data": {
      "text/plain": [
       "False"
      ]
     },
     "execution_count": 40,
     "metadata": {},
     "output_type": "execute_result"
    }
   ],
   "source": [
    "Pold_fullbasis  == Pold_proj"
   ]
  },
  {
   "cell_type": "code",
   "execution_count": 41,
   "id": "0ffdb6ff",
   "metadata": {},
   "outputs": [
    {
     "data": {
      "text/plain": [
       "True"
      ]
     },
     "execution_count": 41,
     "metadata": {},
     "output_type": "execute_result"
    }
   ],
   "source": [
    "Y_sign = (Pold_fullbasis.Y_count%2 * -2)+1\n",
    "Pold_fullbasis.coeff_vec = Pold_fullbasis.coeff_vec * Y_sign\n",
    "\n",
    "Pold_fullbasis  == Pold_proj"
   ]
  },
  {
   "cell_type": "code",
   "execution_count": null,
   "id": "b7bb97e7",
   "metadata": {},
   "outputs": [],
   "source": []
  },
  {
   "cell_type": "code",
   "execution_count": null,
   "id": "0fa65ce8",
   "metadata": {},
   "outputs": [],
   "source": []
  },
  {
   "cell_type": "code",
   "execution_count": null,
   "id": "8c200de6",
   "metadata": {},
   "outputs": [],
   "source": []
  },
  {
   "cell_type": "code",
   "execution_count": null,
   "id": "d3d0e304",
   "metadata": {},
   "outputs": [],
   "source": [
    "Pold_proj"
   ]
  },
  {
   "cell_type": "code",
   "execution_count": 31,
   "id": "f5bc9d64",
   "metadata": {},
   "outputs": [
    {
     "data": {
      "text/plain": [
       "array([1])"
      ]
     },
     "execution_count": 31,
     "metadata": {},
     "output_type": "execute_result"
    }
   ],
   "source": [
    "op_basis[-1].Y_count % 2"
   ]
  },
  {
   "cell_type": "code",
   "execution_count": null,
   "id": "48bfd83d",
   "metadata": {},
   "outputs": [],
   "source": []
  },
  {
   "cell_type": "code",
   "execution_count": null,
   "id": "373e7a09",
   "metadata": {},
   "outputs": [],
   "source": [
    "abs(P_test.coeff_vec) - abs(Pold_fullbasis.coeff_vec)"
   ]
  },
  {
   "cell_type": "code",
   "execution_count": 32,
   "id": "8b4cc6be",
   "metadata": {},
   "outputs": [
    {
     "data": {
      "text/plain": [
       " 1.000+0.000j II +\n",
       " 1.000+0.000j IZ +\n",
       " 1.000+0.000j ZI +\n",
       " 1.000+0.000j ZZ +\n",
       " 1.000+0.000j IX +\n",
       " 1.000+0.000j IY +\n",
       " 1.000+0.000j ZX +\n",
       " 1.000+0.000j ZY +\n",
       " 1.000+0.000j XI +\n",
       " 1.000+0.000j XZ +\n",
       " 1.000+0.000j YI +\n",
       " 1.000+0.000j YZ +\n",
       " 1.000+0.000j XX +\n",
       " 1.000+0.000j XY +\n",
       " 1.000+0.000j YX +\n",
       " 1.000+0.000j YY"
      ]
     },
     "execution_count": 32,
     "metadata": {},
     "output_type": "execute_result"
    }
   ],
   "source": [
    "### GENERATE operator basis!\n",
    "n_qubits=2\n",
    "\n",
    "int_list = np.arange(4 ** (n_qubits))\n",
    "XZ_block = (((int_list[:, None] & (1 << np.arange(2 * n_qubits))[::-1])) > 0).astype(bool)\n",
    "op_basis = PauliwordOp(XZ_block, np.ones(XZ_block.shape[0]))\n",
    "op_basis"
   ]
  },
  {
   "cell_type": "code",
   "execution_count": null,
   "id": "7c60bfb8",
   "metadata": {},
   "outputs": [],
   "source": []
  },
  {
   "cell_type": "code",
   "execution_count": null,
   "id": "29f73c9a",
   "metadata": {},
   "outputs": [],
   "source": []
  },
  {
   "cell_type": "code",
   "execution_count": null,
   "id": "ebff4953",
   "metadata": {},
   "outputs": [],
   "source": [
    "XX = dok_matrix((16,1),\n",
    "                dtype=complex)"
   ]
  },
  {
   "cell_type": "code",
   "execution_count": null,
   "id": "1bf417c1",
   "metadata": {},
   "outputs": [],
   "source": [
    "# XX[[2,3],0] = "
   ]
  },
  {
   "cell_type": "code",
   "execution_count": null,
   "id": "bfc6a1b7",
   "metadata": {},
   "outputs": [],
   "source": [
    "np.array([2,1]).shape"
   ]
  },
  {
   "cell_type": "code",
   "execution_count": null,
   "id": "46506fd6",
   "metadata": {},
   "outputs": [],
   "source": [
    "XX[[2,3]] = np.array([1,2], dtype=complex)"
   ]
  },
  {
   "cell_type": "code",
   "execution_count": null,
   "id": "7b2245d0",
   "metadata": {},
   "outputs": [],
   "source": []
  },
  {
   "cell_type": "code",
   "execution_count": null,
   "id": "76bfdb37",
   "metadata": {},
   "outputs": [],
   "source": [
    "op = PauliwordOp.from_dictionary({'Y':1})\n",
    "\n",
    "nq = op.n_qubits\n",
    "matrix = np.random.random((2**nq,2**nq))\n",
    "denominator = 2 ** n_qubits\n",
    "\n",
    "const = np.einsum(\n",
    "    'ij,ij->', \n",
    "    op.to_sparse_matrix.toarray(), \n",
    "    matrix, \n",
    "    optimize=True\n",
    ") / denominator"
   ]
  },
  {
   "cell_type": "code",
   "execution_count": null,
   "id": "a446022c",
   "metadata": {},
   "outputs": [],
   "source": [
    "const"
   ]
  },
  {
   "cell_type": "code",
   "execution_count": null,
   "id": "6be63c23",
   "metadata": {},
   "outputs": [],
   "source": [
    "np.multiply(op.to_sparse_matrix.toarray(), \n",
    "            matrix).sum()/ denominator"
   ]
  },
  {
   "cell_type": "code",
   "execution_count": null,
   "id": "b48c35e1",
   "metadata": {},
   "outputs": [],
   "source": []
  },
  {
   "cell_type": "code",
   "execution_count": null,
   "id": "1edb0eaa",
   "metadata": {},
   "outputs": [],
   "source": []
  },
  {
   "cell_type": "code",
   "execution_count": null,
   "id": "8fb8ac3d",
   "metadata": {},
   "outputs": [],
   "source": [
    ".toarray() * matrix"
   ]
  },
  {
   "cell_type": "code",
   "execution_count": null,
   "id": "08555982",
   "metadata": {},
   "outputs": [],
   "source": [
    "matrix = csr_matrix(matrix)\n",
    "\n",
    "const = (op.to_sparse_matrix.multiply(matrix)).sum() / denominator\n",
    "\n",
    "const"
   ]
  },
  {
   "cell_type": "code",
   "execution_count": null,
   "id": "c49a805e",
   "metadata": {},
   "outputs": [],
   "source": []
  },
  {
   "cell_type": "code",
   "execution_count": null,
   "id": "2a91f98b",
   "metadata": {},
   "outputs": [],
   "source": []
  },
  {
   "cell_type": "code",
   "execution_count": null,
   "id": "6b0852d3",
   "metadata": {},
   "outputs": [],
   "source": []
  },
  {
   "cell_type": "code",
   "execution_count": null,
   "id": "28f43c70",
   "metadata": {},
   "outputs": [],
   "source": []
  }
 ],
 "metadata": {
  "kernelspec": {
   "display_name": "Python 3 (ipykernel)",
   "language": "python",
   "name": "python3"
  },
  "language_info": {
   "codemirror_mode": {
    "name": "ipython",
    "version": 3
   },
   "file_extension": ".py",
   "mimetype": "text/x-python",
   "name": "python",
   "nbconvert_exporter": "python",
   "pygments_lexer": "ipython3",
   "version": "3.8.16"
  }
 },
 "nbformat": 4,
 "nbformat_minor": 5
}
