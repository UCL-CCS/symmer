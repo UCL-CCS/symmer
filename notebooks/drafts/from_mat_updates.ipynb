{
 "cells": [
  {
   "cell_type": "code",
   "execution_count": 1,
   "id": "6091e459",
   "metadata": {},
   "outputs": [],
   "source": [
    "import numpy as np\n",
    "from typing import Union\n",
    "from scipy.sparse import csr_matrix, dok_matrix, csc_matrix, coo_matrix\n",
    "from tqdm.notebook import tqdm\n",
    "from symmer import PauliwordOp"
   ]
  },
  {
   "cell_type": "markdown",
   "id": "5e4f5cb7",
   "metadata": {},
   "source": [
    "https://docs.scipy.org/doc/scipy/reference/generated/scipy.sparse.dok_matrix.html#scipy.sparse.dok_matrix"
   ]
  },
  {
   "cell_type": "code",
   "execution_count": 2,
   "id": "fc72bfce",
   "metadata": {},
   "outputs": [],
   "source": [
    "M = dok_matrix((100, 100))"
   ]
  },
  {
   "cell_type": "code",
   "execution_count": 3,
   "id": "a1b4d6e8",
   "metadata": {},
   "outputs": [],
   "source": [
    "nq = 3\n",
    "\n",
    "empty = dok_matrix((4**nq, 4**nq), \n",
    "                   dtype=bool)\n"
   ]
  },
  {
   "cell_type": "code",
   "execution_count": null,
   "id": "d0b6d911",
   "metadata": {},
   "outputs": [],
   "source": []
  },
  {
   "cell_type": "code",
   "execution_count": null,
   "id": "c01c6226",
   "metadata": {},
   "outputs": [],
   "source": [
    "P = PauliwordOp.random(10,6)\n",
    "# int_list = P.symp_matrix @ (1 << np.arange(P.symp_matrix.shape[1])[::-1])\n",
    "\n",
    "int_list = P.symp_matrix @ (1 << np.arange(P.symp_matrix.shape[1])[::-1])\n",
    "\n"
   ]
  },
  {
   "cell_type": "code",
   "execution_count": null,
   "id": "54c8366f",
   "metadata": {},
   "outputs": [],
   "source": [
    "# PauliwordOp(P.symp_matrix[sort_inds], P.coeff_vec[sort_inds])"
   ]
  },
  {
   "cell_type": "code",
   "execution_count": null,
   "id": "30a31f8a",
   "metadata": {},
   "outputs": [],
   "source": [
    "n_qubits = 2\n",
    "((np.arange(2 ** n_qubits).reshape([-1, 1]) &\n",
    "              (1 << np.arange(n_qubits))[::-1])) > 0"
   ]
  },
  {
   "cell_type": "code",
   "execution_count": null,
   "id": "58f8bf07",
   "metadata": {},
   "outputs": [],
   "source": [
    "def get_ij_operator(i,j,n_qubits,binary_vec=None, return_operator=False):\n",
    "    \"\"\"\n",
    "    \"\"\"\n",
    "    if n_qubits > 30:\n",
    "        raise ValueError('Too many qubits, might run into memory limitations.')\n",
    "\n",
    "    if binary_vec is None:\n",
    "        binary_vec = (\n",
    "            ((np.arange(2 ** n_qubits).reshape([-1, 1]) & \n",
    "            (1 << np.arange(n_qubits))[::-1])) > 0\n",
    "        ).astype(bool)\n",
    "\n",
    "    left  = np.array([int(i) for i in np.binary_repr(i, width=n_qubits)]).astype(bool)\n",
    "    right = np.array([int(i) for i in np.binary_repr(j, width=n_qubits)]).astype(bool)\n",
    "\n",
    "    AND = left & right # AND where -1 sign\n",
    "    XZX_sign_flips = (-1) ** np.sum(AND & binary_vec, axis=1) # XZX = -X multiplications\n",
    "        \n",
    "    if i != j:\n",
    "        XOR = left ^ right # XOR where +-i phase\n",
    "\n",
    "        XZ_mult = left & binary_vec\n",
    "        ZX_mult = binary_vec & right\n",
    "\n",
    "        XZ_phase = (-1j) ** np.sum(XZ_mult & ~ZX_mult, axis=1) # XZ=-iY multiplications\n",
    "        ZX_phase = (+1j) ** np.sum(ZX_mult & ~XZ_mult, axis=1) # ZX=+iY multiplications\n",
    "        phase_mod = XZX_sign_flips * XZ_phase * ZX_phase\n",
    "        \n",
    "        ij_symp_matrix = np.hstack([np.tile(XOR, [2**n_qubits, 1]), binary_vec])\n",
    "        coeffs = phase_mod/2**n_qubits\n",
    "        \n",
    "        if return_operator:\n",
    "            ij_operator= PauliwordOp(ij_symp_matrix, phase_mod/2**n_qubits)\n",
    "            return ij_operator\n",
    "    else:\n",
    "        ij_symp_matrix = np.hstack([np.zeros_like(binary_vec), binary_vec])\n",
    "        coeffs = XZX_sign_flips/2**n_qubits \n",
    "        \n",
    "        if return_operator:\n",
    "            ij_operator= PauliwordOp(ij_symp_matrix, XZX_sign_flips/2**n_qubits)\n",
    "            return ij_operator\n",
    "\n",
    "    return ij_symp_matrix, coeffs #ij_operator"
   ]
  },
  {
   "cell_type": "code",
   "execution_count": null,
   "id": "6f24b943",
   "metadata": {},
   "outputs": [],
   "source": []
  },
  {
   "cell_type": "code",
   "execution_count": null,
   "id": "6cc57850",
   "metadata": {},
   "outputs": [],
   "source": [
    "#     def _from_matrix_projector(cls, \n",
    "#             matrix: Union[np.array, csr_matrix],\n",
    "#             n_qubits: int\n",
    "#         ) -> \"PauliwordOp\":\n",
    "#         \"\"\"\n",
    "#         \"\"\"\n",
    "#         if isinstance(matrix, np.ndarray):\n",
    "#             row, col = np.where(matrix)\n",
    "#         elif isinstance(matrix, (csr_matrix, csc_matrix, coo_matrix)):\n",
    "#             row, col = matrix.nonzero()\n",
    "#         else:\n",
    "#             raise ValueError('Unrecognised matrix type, must be one of np.array or sp.sparse.csr_matrix')\n",
    "        \n",
    "#         binary_vec = (\n",
    "#             (\n",
    "#                 np.arange(2 ** n_qubits).reshape([-1, 1]) & \n",
    "#                 (1 << np.arange(n_qubits))[::-1]\n",
    "#             ) > 0\n",
    "#         ).astype(bool)\n",
    "\n",
    "#         P_out = cls.empty(n_qubits)\n",
    "#         for i,j in tqdm(zip(row, col), desc='Building operator via projectors', total=len(row)):\n",
    "#             ij_op = get_ij_operator(i,j,n_qubits,binary_vec=binary_vec) \n",
    "#             P_out += ij_op * matrix[i,j]\n",
    "\n",
    "#         return P_out"
   ]
  },
  {
   "cell_type": "code",
   "execution_count": null,
   "id": "f23c46fe",
   "metadata": {},
   "outputs": [],
   "source": [
    "def from_matrix_projector( matrix: Union[np.array, csr_matrix], \n",
    "                           n_qubits: int) -> \"PauliwordOp\":\n",
    "    \"\"\"\n",
    "    \"\"\"\n",
    "    assert n_qubits <=32, 'cannot decompose matrices above 32 qubits'\n",
    "    \n",
    "    if isinstance(matrix, np.ndarray):\n",
    "        row, col = np.where(matrix)\n",
    "    elif isinstance(matrix, (csr_matrix, csc_matrix, coo_matrix)):\n",
    "        row, col = matrix.nonzero()\n",
    "    else:\n",
    "        raise ValueError('Unrecognised matrix type, must be one of np.array or sp.sparse.csr_matrix')\n",
    "    \n",
    "    sym_operator = dok_matrix((4**n_qubits, 2*n_qubits), \n",
    "                        dtype=bool)\n",
    "    \n",
    "    coeff_operator = dok_matrix((4**n_qubits, 1), \n",
    "                        dtype=complex)\n",
    "    \n",
    "    \n",
    "    binary_vec = (\n",
    "        (\n",
    "            np.arange(2 ** n_qubits).reshape([-1, 1]) & \n",
    "            (1 << np.arange(n_qubits))[::-1]\n",
    "        ) > 0).astype(bool)\n",
    "    \n",
    "    binary_convert = 1 << np.arange(2*n_qubits)[::-1]\n",
    "    #P_out = cls.empty(n_qubits)\n",
    "    for i,j in tqdm(zip(row, col), desc='Building operator via projectors', total=len(row)):\n",
    "        \n",
    "        ij_symp_matrix, proj_coeffs = get_ij_operator(i,j,\n",
    "                                                      n_qubits,\n",
    "                                                      binary_vec=binary_vec) \n",
    "        \n",
    "        ### find location in symp matrix\n",
    "        int_list = ij_symp_matrix @ binary_convert #(1 << np.arange(ij_symp_matrix.shape[1])[::-1])        \n",
    "        \n",
    "        # populate sparse mats\n",
    "        sym_operator[int_list, :] = ij_symp_matrix\n",
    "        coeff_operator[int_list] += proj_coeffs.reshape(-1,1) * matrix[i,j]\n",
    "    \n",
    "    \n",
    "    ### only keep nonzero coeffs! (skips expensive cleanup)\n",
    "    nonzero = coeff_operator.nonzero()[0]\n",
    "    P_out = PauliwordOp(sym_operator[nonzero,:].toarray(), \n",
    "                        coeff_operator[nonzero].toarray()[:,0])\n",
    "    \n",
    "    # P_out = PauliwordOp(sym_operator.toarray(),\n",
    "    #                    coeff_operator.toarray()[:,0]).cleanup()\n",
    "    return P_out"
   ]
  },
  {
   "cell_type": "code",
   "execution_count": null,
   "id": "a3fdd4e9",
   "metadata": {},
   "outputs": [],
   "source": []
  },
  {
   "cell_type": "code",
   "execution_count": null,
   "id": "81b4cef5",
   "metadata": {},
   "outputs": [],
   "source": [
    "nq = 2\n",
    "random_M = np.random.random((2**nq,2**nq))\n",
    "\n",
    "\n",
    "# nq=2\n",
    "# random_M = np.array([[ 2.+0.j,  0.+0.j,  1.+0.j,  0.+0.j],\n",
    "#        [ 0.+0.j, -2.+0.j,  0.+0.j,  1.+0.j],\n",
    "#        [ 1.+0.j,  0.+0.j, -2.+0.j,  0.+0.j],\n",
    "#        [ 0.+0.j,  1.+0.j,  0.+0.j,  2.+0.j]])"
   ]
  },
  {
   "cell_type": "code",
   "execution_count": null,
   "id": "a0152591",
   "metadata": {},
   "outputs": [],
   "source": [
    "P_test = from_matrix_projector(random_M, nq)\n",
    "\n",
    "P_test"
   ]
  },
  {
   "cell_type": "code",
   "execution_count": null,
   "id": "93f640d7",
   "metadata": {},
   "outputs": [],
   "source": [
    "print(np.allclose(P_test.to_sparse_matrix.toarray(),\n",
    "            random_M))"
   ]
  },
  {
   "cell_type": "code",
   "execution_count": null,
   "id": "1f413d26",
   "metadata": {},
   "outputs": [],
   "source": [
    "P_old = PauliwordOp.from_matrix(random_M)\n",
    "\n",
    "np.allclose(P_old.to_sparse_matrix.toarray(),\n",
    "            random_M)"
   ]
  },
  {
   "cell_type": "code",
   "execution_count": null,
   "id": "4ef830c2",
   "metadata": {},
   "outputs": [],
   "source": [
    "P_old"
   ]
  },
  {
   "cell_type": "code",
   "execution_count": null,
   "id": "109ae43e",
   "metadata": {},
   "outputs": [],
   "source": []
  },
  {
   "cell_type": "code",
   "execution_count": null,
   "id": "94f9b741",
   "metadata": {},
   "outputs": [],
   "source": [
    "# test = PauliwordOp(symp.toarray(), coeff.toarray()[:,0]).cleanup()\n",
    "# test"
   ]
  },
  {
   "cell_type": "code",
   "execution_count": null,
   "id": "e108832d",
   "metadata": {},
   "outputs": [],
   "source": [
    "PauliwordOp.from_dictionary({'XI':1,\n",
    "                             'ZZ':2}).to_sparse_matrix.toarray()"
   ]
  },
  {
   "cell_type": "code",
   "execution_count": 15,
   "id": "bb370590",
   "metadata": {},
   "outputs": [
    {
     "data": {
      "text/plain": [
       "array([[ 2.+0.j,  0.+0.j,  0.+1.j, -1.+0.j],\n",
       "       [ 0.+0.j, -2.+0.j,  3.+0.j,  0.+1.j],\n",
       "       [ 0.-1.j,  3.+0.j, -2.+0.j,  0.+0.j],\n",
       "       [-1.+0.j,  0.-1.j,  0.+0.j,  2.+0.j]])"
      ]
     },
     "execution_count": 15,
     "metadata": {},
     "output_type": "execute_result"
    }
   ],
   "source": [
    "PauliwordOp.from_dictionary({'XX':1,\n",
    "                             'ZZ':2,\n",
    "                              'YY':2,\n",
    "                             'YI':-1}).to_sparse_matrix.toarray()"
   ]
  },
  {
   "cell_type": "code",
   "execution_count": 25,
   "id": "4a756b6c",
   "metadata": {},
   "outputs": [
    {
     "data": {
      "application/vnd.jupyter.widget-view+json": {
       "model_id": "5f4da79d693543c594a8c083e6a14aeb",
       "version_major": 2,
       "version_minor": 0
      },
      "text/plain": [
       "Building operator via full basis:   0%|          | 0/16 [00:00<?, ?it/s]"
      ]
     },
     "metadata": {},
     "output_type": "display_data"
    },
    {
     "data": {
      "text/plain": [
       "{'II': (0.25-0.25j),\n",
       " 'IZ': (0.25-0.25j),\n",
       " 'ZI': (0.25+0.25j),\n",
       " 'ZZ': (0.25+0.25j),\n",
       " 'IX': (0.25+0j),\n",
       " 'IY': (-0-0.25j),\n",
       " 'ZX': (0.25+0j),\n",
       " 'ZY': (-0-0.25j),\n",
       " 'XI': (0.25+0j),\n",
       " 'XZ': (0.25+0j),\n",
       " 'YI': (-0-0.25j),\n",
       " 'YZ': (-0-0.25j),\n",
       " 'XX': (0.25+0j),\n",
       " 'XY': (-0-0.25j),\n",
       " 'YX': (-0-0.25j),\n",
       " 'YY': (-0.25+0j)}"
      ]
     },
     "execution_count": 25,
     "metadata": {},
     "output_type": "execute_result"
    }
   ],
   "source": [
    "mat = np.array([[1,0,0,0],\n",
    "                [1,0,0,0],\n",
    "                [1,0,-1j,0],\n",
    "                [1,0,0,0]])\n",
    "sparse = csr_matrix(mat)\n",
    "PauliOp_from_matrix = PauliwordOp.from_matrix(sparse, strategy='full_basis')\n",
    "PauliOp_from_matrix.to_dictionary"
   ]
  },
  {
   "cell_type": "code",
   "execution_count": 4,
   "id": "bd898acf",
   "metadata": {},
   "outputs": [],
   "source": [
    "from scipy.sparse import rand\n",
    "import numpy as np\n",
    "from time import time\n",
    "\n",
    "n_qubits = 5#8\n",
    "density = 0.1\n",
    "\n",
    "dim = 2**n_qubits\n",
    "#x = rand(D, D, density=1/(2**(1.9*n_qubits)), format='csr')\n",
    "sparse_mat = rand(dim, dim, \n",
    "                  density=density, \n",
    "                  format='csr')\n",
    "\n",
    "sparse_mat = sparse_mat.toarray()\n",
    "\n",
    "# n_qubits=2\n",
    "# sparse_mat = np.random.random((2**n_qubits,2**n_qubits))\n",
    "# sparse_mat = sparse_mat.astype(complex)\n",
    "\n",
    "\n",
    "# n_qubits=3\n",
    "# sparse_mat = PauliwordOp.from_dictionary({'ZZI':2,\n",
    "#                                           'YII':2j+1}).to_sparse_matrix"
   ]
  },
  {
   "cell_type": "code",
   "execution_count": null,
   "id": "1be00231",
   "metadata": {},
   "outputs": [],
   "source": []
  },
  {
   "cell_type": "code",
   "execution_count": 5,
   "id": "bdcefa79",
   "metadata": {},
   "outputs": [
    {
     "ename": "NameError",
     "evalue": "name 'from_matrix_projector' is not defined",
     "output_type": "error",
     "traceback": [
      "\u001b[0;31m---------------------------------------------------------------------------\u001b[0m",
      "\u001b[0;31mNameError\u001b[0m                                 Traceback (most recent call last)",
      "Cell \u001b[0;32mIn[5], line 1\u001b[0m\n\u001b[0;32m----> 1\u001b[0m P_test \u001b[38;5;241m=\u001b[39m \u001b[43mfrom_matrix_projector\u001b[49m(sparse_mat, n_qubits)\n",
      "\u001b[0;31mNameError\u001b[0m: name 'from_matrix_projector' is not defined"
     ]
    }
   ],
   "source": [
    "P_test = from_matrix_projector(sparse_mat, n_qubits)"
   ]
  },
  {
   "cell_type": "code",
   "execution_count": null,
   "id": "96e717d2",
   "metadata": {},
   "outputs": [],
   "source": [
    "np.allclose(sparse_mat,\n",
    "           P_test.to_sparse_matrix.toarray())"
   ]
  },
  {
   "cell_type": "code",
   "execution_count": 6,
   "id": "ddb699b8",
   "metadata": {},
   "outputs": [
    {
     "data": {
      "application/vnd.jupyter.widget-view+json": {
       "model_id": "f6d0cafcc621475e8cc65086ae6f1969",
       "version_major": 2,
       "version_minor": 0
      },
      "text/plain": [
       "Building operator via projectors:   0%|          | 0/102 [00:00<?, ?it/s]"
      ]
     },
     "metadata": {},
     "output_type": "display_data"
    }
   ],
   "source": [
    "Pold_proj = PauliwordOp.from_matrix(sparse_mat, strategy='projector')"
   ]
  },
  {
   "cell_type": "code",
   "execution_count": null,
   "id": "1b05ed25",
   "metadata": {},
   "outputs": [],
   "source": [
    "P_test == Pold_proj"
   ]
  },
  {
   "cell_type": "code",
   "execution_count": 7,
   "id": "bbd05c4a",
   "metadata": {},
   "outputs": [
    {
     "data": {
      "application/vnd.jupyter.widget-view+json": {
       "model_id": "07494d541b8940018d031c6f6b774160",
       "version_major": 2,
       "version_minor": 0
      },
      "text/plain": [
       "Building operator via full basis:   0%|          | 0/1024 [00:00<?, ?it/s]"
      ]
     },
     "metadata": {},
     "output_type": "display_data"
    }
   ],
   "source": [
    "Pold_fullbasis = PauliwordOp.from_matrix(sparse_mat, \n",
    "                                         strategy='full_basis',\n",
    "                                        operator_basis = None)"
   ]
  },
  {
   "cell_type": "code",
   "execution_count": 8,
   "id": "758588fc",
   "metadata": {},
   "outputs": [
    {
     "data": {
      "text/plain": [
       "True"
      ]
     },
     "execution_count": 8,
     "metadata": {},
     "output_type": "execute_result"
    }
   ],
   "source": [
    "Pold_fullbasis  == Pold_proj"
   ]
  },
  {
   "cell_type": "code",
   "execution_count": null,
   "id": "de48315e",
   "metadata": {},
   "outputs": [],
   "source": [
    "Y_sign = (Pold_fullbasis.Y_count%2 * -2)+1\n",
    "Pold_fullbasis.coeff_vec = Pold_fullbasis.coeff_vec * Y_sign\n",
    "\n",
    "Pold_fullbasis  == Pold_proj"
   ]
  },
  {
   "cell_type": "code",
   "execution_count": null,
   "id": "ae66bada",
   "metadata": {},
   "outputs": [],
   "source": []
  },
  {
   "cell_type": "code",
   "execution_count": null,
   "id": "0cbe0ce9",
   "metadata": {},
   "outputs": [],
   "source": []
  },
  {
   "cell_type": "code",
   "execution_count": null,
   "id": "16403f0d",
   "metadata": {},
   "outputs": [],
   "source": []
  },
  {
   "cell_type": "code",
   "execution_count": null,
   "id": "11f045d5",
   "metadata": {},
   "outputs": [],
   "source": [
    "Pold_proj"
   ]
  },
  {
   "cell_type": "code",
   "execution_count": null,
   "id": "21981d42",
   "metadata": {},
   "outputs": [],
   "source": [
    "op_basis[-1].Y_count % 2"
   ]
  },
  {
   "cell_type": "code",
   "execution_count": null,
   "id": "e9ab9586",
   "metadata": {},
   "outputs": [],
   "source": []
  },
  {
   "cell_type": "code",
   "execution_count": null,
   "id": "9a147ad5",
   "metadata": {},
   "outputs": [],
   "source": [
    "abs(P_test.coeff_vec) - abs(Pold_fullbasis.coeff_vec)"
   ]
  },
  {
   "cell_type": "code",
   "execution_count": null,
   "id": "5e7777a1",
   "metadata": {},
   "outputs": [],
   "source": [
    "### GENERATE operator basis!\n",
    "n_qubits=2\n",
    "\n",
    "int_list = np.arange(4 ** (n_qubits))\n",
    "XZ_block = (((int_list[:, None] & (1 << np.arange(2 * n_qubits))[::-1])) > 0).astype(bool)\n",
    "op_basis = PauliwordOp(XZ_block, np.ones(XZ_block.shape[0]))\n",
    "op_basis"
   ]
  },
  {
   "cell_type": "code",
   "execution_count": null,
   "id": "1fa18bb7",
   "metadata": {},
   "outputs": [],
   "source": []
  },
  {
   "cell_type": "code",
   "execution_count": null,
   "id": "fc5f0afd",
   "metadata": {},
   "outputs": [],
   "source": []
  },
  {
   "cell_type": "code",
   "execution_count": null,
   "id": "0f6d3a00",
   "metadata": {},
   "outputs": [],
   "source": [
    "XX = dok_matrix((16,1),\n",
    "                dtype=complex)"
   ]
  },
  {
   "cell_type": "code",
   "execution_count": null,
   "id": "c92636f4",
   "metadata": {},
   "outputs": [],
   "source": [
    "# XX[[2,3],0] = "
   ]
  },
  {
   "cell_type": "code",
   "execution_count": null,
   "id": "1c1d4a42",
   "metadata": {},
   "outputs": [],
   "source": [
    "np.array([2,1]).shape"
   ]
  },
  {
   "cell_type": "code",
   "execution_count": null,
   "id": "0233606c",
   "metadata": {},
   "outputs": [],
   "source": [
    "XX[[2,3]] = np.array([1,2], dtype=complex)"
   ]
  },
  {
   "cell_type": "code",
   "execution_count": null,
   "id": "e70f7935",
   "metadata": {},
   "outputs": [],
   "source": []
  },
  {
   "cell_type": "code",
   "execution_count": 9,
   "id": "de7c419a",
   "metadata": {},
   "outputs": [],
   "source": [
    "op = PauliwordOp.from_dictionary({'Y':1})\n",
    "\n",
    "nq = op.n_qubits\n",
    "matrix = np.random.random((2**nq,2**nq))\n",
    "denominator = 2 ** n_qubits\n",
    "\n",
    "const = np.einsum(\n",
    "    'ij,ij->', \n",
    "    op.to_sparse_matrix.toarray(), \n",
    "    matrix, \n",
    "    optimize=True\n",
    ") / denominator"
   ]
  },
  {
   "cell_type": "code",
   "execution_count": 10,
   "id": "35c4f78a",
   "metadata": {},
   "outputs": [
    {
     "data": {
      "text/plain": [
       "-0.020525211510709105j"
      ]
     },
     "execution_count": 10,
     "metadata": {},
     "output_type": "execute_result"
    }
   ],
   "source": [
    "const"
   ]
  },
  {
   "cell_type": "code",
   "execution_count": 11,
   "id": "44ed6df5",
   "metadata": {},
   "outputs": [
    {
     "data": {
      "text/plain": [
       "-0.020525211510709105j"
      ]
     },
     "execution_count": 11,
     "metadata": {},
     "output_type": "execute_result"
    }
   ],
   "source": []
  },
  {
   "cell_type": "code",
   "execution_count": null,
   "id": "13eff64f",
   "metadata": {},
   "outputs": [],
   "source": []
  },
  {
   "cell_type": "code",
   "execution_count": null,
   "id": "10130cb2",
   "metadata": {},
   "outputs": [],
   "source": []
  },
  {
   "cell_type": "code",
   "execution_count": null,
   "id": "edebad65",
   "metadata": {},
   "outputs": [],
   "source": [
    ".toarray() * matrix"
   ]
  },
  {
   "cell_type": "code",
   "execution_count": null,
   "id": "4c9827ac",
   "metadata": {},
   "outputs": [],
   "source": [
    "matrix = csr_matrix(matrix)\n",
    "\n",
    "const = (op.to_sparse_matrix.multiply(matrix)).sum() / denominator\n",
    "\n",
    "const"
   ]
  },
  {
   "cell_type": "code",
   "execution_count": null,
   "id": "f66088bb",
   "metadata": {},
   "outputs": [],
   "source": []
  },
  {
   "cell_type": "code",
   "execution_count": null,
   "id": "a1eac470",
   "metadata": {},
   "outputs": [],
   "source": []
  },
  {
   "cell_type": "code",
   "execution_count": null,
   "id": "dc79dfc5",
   "metadata": {},
   "outputs": [],
   "source": []
  },
  {
   "cell_type": "code",
   "execution_count": null,
   "id": "b6d2aff6",
   "metadata": {},
   "outputs": [],
   "source": []
  }
 ],
 "metadata": {
  "kernelspec": {
   "display_name": "Python 3 (ipykernel)",
   "language": "python",
   "name": "python3"
  },
  "language_info": {
   "codemirror_mode": {
    "name": "ipython",
    "version": 3
   },
   "file_extension": ".py",
   "mimetype": "text/x-python",
   "name": "python",
   "nbconvert_exporter": "python",
   "pygments_lexer": "ipython3",
   "version": "3.8.16"
  }
 },
 "nbformat": 4,
 "nbformat_minor": 5
}
