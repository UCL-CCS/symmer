{
 "cells": [
  {
   "cell_type": "markdown",
   "id": "f029e667",
   "metadata": {},
   "source": [
    "# Matrix to PauliwordOp\n",
    "\n",
    "We provide three methods of converting a matrix to the `PauliwordOp` representation:\n",
    "\n",
    "1. Full basis expansion scaling as $\\mathcal{O}(4^N)$\n",
    "2. Expansion over a defined basis $\\mathcal{B}$ scaling as $\\mathcal{O}(|\\mathcal{B}|)$\n",
    "3. Expansion via projectors scaling as $\\mathcal{O}(2^N M)$ where $M$ is the number of non-zero elements"
   ]
  },
  {
   "cell_type": "code",
   "execution_count": 1,
   "id": "1a4f058d",
   "metadata": {},
   "outputs": [],
   "source": [
    "import numpy as np\n",
    "#from symmer.symplectic.matrix import matrix_to_Pword\n",
    "from symmer.symplectic import PauliwordOp, get_PauliwordOp_projector\n",
    "import warnings\n",
    "warnings.filterwarnings(action='always')"
   ]
  },
  {
   "cell_type": "markdown",
   "id": "1f605640",
   "metadata": {},
   "source": [
    "# Full basis method\n",
    "\n",
    "We can select a basis for any $\\mathcal{C}^{2^{N}\\times 2^{N}}$ matrix by taking all n-fold tensor product of Pauli operators, which is of size $4^{N}$.\n",
    "\n",
    "E.g.\n",
    "\n",
    "$$basis = B = $$\n",
    "$$\\{II, IZ,ZI,ZZ, $$\n",
    "$$\\:IX,IY,ZX,ZY, $$\n",
    "$$\\:XI,XZ,YI,YZ, $$\n",
    "$$\\:XX,XY,YX,YY \\}$$\n",
    "\n",
    "The decomposition of any matrix $M$ is then\n",
    "\n",
    "$$M = \\sum_{P \\in basis} c_{i}P_{i}$$\n",
    "\n",
    "It should be clear that:\n",
    "\n",
    "$$Trace(M P_{i}) = c_{i} 2^{N}$$\n",
    "\n",
    "so re-aranging we find:\n",
    "\n",
    "$$c_{i} = \\frac{Trace(M P_{i})}{ 2^{N}}$$"
   ]
  },
  {
   "cell_type": "markdown",
   "id": "6f3430bb",
   "metadata": {},
   "source": [
    "Function currently uses $4^{N}$ terms to build operator...\n",
    "\n",
    "interesting question is **what are the smallest set of unitaries which we can decompose a given matrix!**"
   ]
  },
  {
   "cell_type": "code",
   "execution_count": null,
   "id": "5b96dd45",
   "metadata": {},
   "outputs": [],
   "source": []
  },
  {
   "cell_type": "markdown",
   "id": "9edf80fe",
   "metadata": {},
   "source": [
    "potential solution for CHEMISTRY:\n",
    "\n",
    "second quantized operator is given as:\n",
    "\n",
    "$$     H_{e} = \\sum_{p=0}^{N-1}  \\sum_{q=0}^{N-1} h_{pq} a_{p}^{\\dagger} a_{q} + \\frac{1}{2} \\sum_{p=0}^{N-1}  \\sum_{q=0}^{N-1}  \\sum_{r=0}^{N-1}  \\sum_{s=0}^{N-1}  h_{pqrs} a_{p}^{\\dagger} a_{q}^{\\dagger} a_{r} a_{s}$$\n",
    "\n",
    "\n",
    "Therefore basis can be built by getting all the $N^{2}$ 1-RDM operators and all the $N^{4}$ 2-RDM operators  (as Pauli operators!)\n",
    "\n",
    "TODO: check this out"
   ]
  },
  {
   "cell_type": "code",
   "execution_count": 2,
   "id": "8b8c1b58",
   "metadata": {},
   "outputs": [
    {
     "data": {
      "application/vnd.jupyter.widget-view+json": {
       "model_id": "b574a8ea7f404e8eb26a25d72c36021f",
       "version_major": 2,
       "version_minor": 0
      },
      "text/plain": [
       "Building operator via projectors:   0%|          | 0/4095 [00:00<?, ?it/s]"
      ]
     },
     "metadata": {},
     "output_type": "display_data"
    }
   ],
   "source": [
    "n_qub = 6\n",
    "mat = np.arange(2**n_qub * 2**n_qub).reshape([2**n_qub,2**n_qub])\n",
    "decomp_obj = PauliwordOp.from_matrix(mat, strategy='projector')"
   ]
  },
  {
   "cell_type": "code",
   "execution_count": null,
   "id": "16c62f29",
   "metadata": {},
   "outputs": [],
   "source": []
  },
  {
   "cell_type": "code",
   "execution_count": 3,
   "id": "f9223be5",
   "metadata": {},
   "outputs": [
    {
     "data": {
      "text/plain": [
       "True"
      ]
     },
     "execution_count": 3,
     "metadata": {},
     "output_type": "execute_result"
    }
   ],
   "source": [
    "np.all(decomp_obj.to_sparse_matrix == mat)"
   ]
  },
  {
   "cell_type": "code",
   "execution_count": 4,
   "id": "ad2d628a",
   "metadata": {},
   "outputs": [],
   "source": [
    "from scipy.sparse import rand\n",
    "import numpy as np\n",
    "from time import time\n",
    "\n",
    "n_qubits = 10\n",
    "\n",
    "D = 2**n_qubits\n",
    "#x = rand(D, D, density=1/(2**(1.9*n_qubits)), format='csr')\n",
    "x = rand(D, D, density=0.001, format='csr')"
   ]
  },
  {
   "cell_type": "code",
   "execution_count": 6,
   "id": "d802080e",
   "metadata": {},
   "outputs": [],
   "source": [
    "p = PauliwordOp.from_matrix(x, strategy='projector')\n",
    "print(p.n_terms)"
   ]
  },
  {
   "cell_type": "code",
   "execution_count": null,
   "id": "4f0361c2",
   "metadata": {},
   "outputs": [],
   "source": [
    "p_sparse = PauliwordOp.from_matrix(x, strategy='full_basis')\n",
    "print(p_sparse.n_terms)"
   ]
  },
  {
   "cell_type": "code",
   "execution_count": null,
   "id": "cf1e2872",
   "metadata": {},
   "outputs": [],
   "source": [
    "p_dense = PauliwordOp.from_matrix(x.toarray(), strategy='full_basis')\n",
    "print(p_dense.n_terms)"
   ]
  },
  {
   "cell_type": "code",
   "execution_count": null,
   "id": "934a352d",
   "metadata": {},
   "outputs": [],
   "source": []
  },
  {
   "cell_type": "code",
   "execution_count": null,
   "id": "1defcaf2",
   "metadata": {},
   "outputs": [],
   "source": []
  },
  {
   "cell_type": "markdown",
   "id": "c1503620",
   "metadata": {},
   "source": [
    "The user may specify their own pauli basis, however care must be taken to ensure it is sufficiently expressible to represent the input matrix. An error will be thrown if it is not:"
   ]
  },
  {
   "cell_type": "code",
   "execution_count": 7,
   "id": "680bc9ff",
   "metadata": {},
   "outputs": [
    {
     "name": "stdout",
     "output_type": "stream",
     "text": [
      " 1.000+0.000j XIZ +\n",
      " 1.000+0.000j XYY\n"
     ]
    },
    {
     "data": {
      "application/vnd.jupyter.widget-view+json": {
       "model_id": "6b46c606319548a0b7f9b3da2d4b999a",
       "version_major": 2,
       "version_minor": 0
      },
      "text/plain": [
       "Building operator via full basis:   0%|          | 0/2 [00:00<?, ?it/s]"
      ]
     },
     "metadata": {},
     "output_type": "display_data"
    },
    {
     "name": "stderr",
     "output_type": "stream",
     "text": [
      "/Users/lex/anaconda3/envs/symred/lib/python3.9/site-packages/symmer/symplectic/base.py:186: UserWarning: Basis not sufficiently expressive, output operator projected onto basis supplied.\n",
      "  warnings.warn('Basis not sufficiently expressive, output operator projected onto basis supplied.')\n"
     ]
    },
    {
     "data": {
      "text/plain": [
       " 1.000+0.000j XYY"
      ]
     },
     "execution_count": 7,
     "metadata": {},
     "output_type": "execute_result"
    }
   ],
   "source": [
    "P = PauliwordOp.from_dictionary({'XYY':1, 'ZZZ':1})\n",
    "basis = P[0] + PauliwordOp.from_dictionary({'XIZ':1})\n",
    "print(basis)\n",
    "matrix = P.to_sparse_matrix\n",
    "PauliwordOp.from_matrix(matrix, operator_basis=basis)"
   ]
  },
  {
   "cell_type": "markdown",
   "id": "18a6249c",
   "metadata": {},
   "source": [
    "The adapted basis now sufficiently expressive, and note redundancy in the basis is okay. Defining a basis can circumvent accessing the full $4^N$-dimensional Hilbert space of $2^N \\times 2^N$ square matrices."
   ]
  },
  {
   "cell_type": "code",
   "execution_count": 8,
   "id": "11ecd2d5",
   "metadata": {},
   "outputs": [
    {
     "name": "stdout",
     "output_type": "stream",
     "text": [
      " 1.000+0.000j ZZZ +\n",
      " 1.000+0.000j XIZ +\n",
      " 1.000+0.000j XYY\n"
     ]
    },
    {
     "data": {
      "application/vnd.jupyter.widget-view+json": {
       "model_id": "1dedc3c0a277434ab60568ad23b33d04",
       "version_major": 2,
       "version_minor": 0
      },
      "text/plain": [
       "Building operator via full basis:   0%|          | 0/3 [00:00<?, ?it/s]"
      ]
     },
     "metadata": {},
     "output_type": "display_data"
    },
    {
     "data": {
      "text/plain": [
       " 1.000+0.000j ZZZ +\n",
       " 1.000+0.000j XYY"
      ]
     },
     "execution_count": 8,
     "metadata": {},
     "output_type": "execute_result"
    }
   ],
   "source": [
    "P = PauliwordOp.from_dictionary({'XYY':1, 'ZZZ':1})\n",
    "basis = P + PauliwordOp.from_dictionary({'XIZ':1})\n",
    "print(basis)\n",
    "matrix = P.to_sparse_matrix.todense()\n",
    "PauliwordOp.from_matrix(matrix, operator_basis=basis)"
   ]
  },
  {
   "cell_type": "markdown",
   "id": "150bba16",
   "metadata": {},
   "source": [
    "# Projector method\n",
    "\n",
    "This strategy uses projectors on the computational basis to pick non-zero matrix elements out. In particular, we may write $$ | 0 \\rangle \\langle 0 | = \\sum_{\\vec{Z} \\in \\{I, Z\\}^{\\otimes N}} \\vec{Z}.$$ An arbitrary projection $| i \\rangle \\langle j |$ may be obtained via application of Pauli $X$ operators on either side of the base projection, $$| i \\rangle \\langle j | = \\vec{X}_i | 0 \\rangle \\langle 0 | \\vec{X}_j.$$ For example,"
   ]
  },
  {
   "cell_type": "code",
   "execution_count": 9,
   "id": "9614a210",
   "metadata": {},
   "outputs": [
    {
     "data": {
      "text/plain": [
       "array([[1., 0., 0., 0.],\n",
       "       [0., 0., 0., 0.],\n",
       "       [0., 0., 0., 0.],\n",
       "       [0., 0., 0., 0.]])"
      ]
     },
     "execution_count": 9,
     "metadata": {},
     "output_type": "execute_result"
    }
   ],
   "source": [
    "_00_projector = get_PauliwordOp_projector('00')\n",
    "_00_projector.to_sparse_matrix.toarray().real"
   ]
  },
  {
   "cell_type": "code",
   "execution_count": null,
   "id": "f70e41dd",
   "metadata": {},
   "outputs": [],
   "source": [
    "# change row and column index for two qubit example\n",
    "i=1\n",
    "j=2\n",
    "\n",
    "\n",
    "Xi = np.binary_repr(i, width=_00_projector.n_qubits)\n",
    "Xj = np.binary_repr(j, width=_00_projector.n_qubits)\n",
    "Xi_op = PauliwordOp.from_list([Xi.replace('0', 'I').replace('1', 'X')])\n",
    "Xj_op = PauliwordOp.from_list([Xj.replace('0', 'I').replace('1', 'X')])\n",
    "_ij_projector = (Xi_op * _00_projector * Xj_op)\n",
    "_ij_projector.to_sparse_matrix.toarray().real"
   ]
  },
  {
   "cell_type": "code",
   "execution_count": null,
   "id": "b3cf9929",
   "metadata": {},
   "outputs": [],
   "source": []
  },
  {
   "cell_type": "code",
   "execution_count": null,
   "id": "c4cd705d",
   "metadata": {},
   "outputs": [],
   "source": []
  },
  {
   "cell_type": "code",
   "execution_count": null,
   "id": "d931e184",
   "metadata": {},
   "outputs": [],
   "source": [
    "# basis supplied\n",
    "%timeit PauliwordOp.from_matrix(matrix, operator_basis=basis, strategy='full_basis')\n",
    "\n",
    "# no basis supplied\n",
    "%timeit PauliwordOp.from_matrix(matrix, strategy='full_basis')\n",
    "\n",
    "# projector method\n",
    "%timeit PauliwordOp.from_matrix(matrix, strategy='projector')"
   ]
  },
  {
   "cell_type": "code",
   "execution_count": null,
   "id": "14d726f4",
   "metadata": {},
   "outputs": [],
   "source": []
  },
  {
   "cell_type": "code",
   "execution_count": null,
   "id": "1f05ded0",
   "metadata": {},
   "outputs": [],
   "source": [
    "from scipy.sparse import csr_matrix\n",
    "nq = 20\n",
    "\n",
    "row = np.array([1, 1000])\n",
    "col = np.array([2000,478])\n",
    "\n",
    "data = np.array([1e6,1e3])\n",
    "\n",
    "sparse_mat = csr_matrix((data, (row, col)), shape=(2**nq, 2**nq))"
   ]
  },
  {
   "cell_type": "code",
   "execution_count": null,
   "id": "b1be26f5",
   "metadata": {},
   "outputs": [],
   "source": [
    "P_sparse = PauliwordOp.from_matrix(sparse_mat, strategy='projector')\n",
    "P_sparse.n_terms"
   ]
  },
  {
   "cell_type": "code",
   "execution_count": null,
   "id": "baeead2b",
   "metadata": {},
   "outputs": [],
   "source": []
  },
  {
   "cell_type": "code",
   "execution_count": null,
   "id": "1a06b479",
   "metadata": {},
   "outputs": [],
   "source": []
  },
  {
   "cell_type": "code",
   "execution_count": null,
   "id": "b07cdb6e",
   "metadata": {},
   "outputs": [],
   "source": []
  },
  {
   "cell_type": "code",
   "execution_count": null,
   "id": "2dfde1c6",
   "metadata": {},
   "outputs": [],
   "source": []
  }
 ],
 "metadata": {
  "kernelspec": {
   "display_name": "Python 3 (ipykernel)",
   "language": "python",
   "name": "python3"
  },
  "language_info": {
   "codemirror_mode": {
    "name": "ipython",
    "version": 3
   },
   "file_extension": ".py",
   "mimetype": "text/x-python",
   "name": "python",
   "nbconvert_exporter": "python",
   "pygments_lexer": "ipython3",
   "version": "3.8.16"
  },
  "vscode": {
   "interpreter": {
    "hash": "916dbcbb3f70747c44a77c7bcd40155683ae19c65e1c03b4aa3499c5328201f1"
   }
  }
 },
 "nbformat": 4,
 "nbformat_minor": 5
}
