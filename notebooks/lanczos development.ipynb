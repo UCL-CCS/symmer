{
 "cells": [
  {
   "cell_type": "code",
   "execution_count": 1,
   "id": "39cfaf88",
   "metadata": {},
   "outputs": [],
   "source": [
    "from symmer.symplectic import (\n",
    "    PauliwordOp, QuantumState, random_PauliwordOp, random_QuantumState,\n",
    "    array_to_QuantumState, find_symmetry_basis\n",
    ")\n",
    "from symmer.chemistry import MoleculeBuilder\n",
    "from symmer.utils import lp_norm, exact_gs_energy\n",
    "import numpy as np"
   ]
  },
  {
   "cell_type": "code",
   "execution_count": 2,
   "id": "ce67b5d1",
   "metadata": {},
   "outputs": [
    {
     "name": "stdout",
     "output_type": "stream",
     "text": [
      "Molecule geometry:\n",
      "H\t0.0\t0.0\t0.0\n",
      "H\t2.45366053071732\t0.0\t0.0\n",
      "H\t2.45366053071732\t2.45366053071732\t0.0\n",
      "H\t0.0\t2.45366053071732\t0.0\n",
      "\n",
      "HF converged?   True\n",
      "CCSD converged? True\n",
      "FCI converged?  True\n",
      "\n",
      "HF energy:   -1.3334202453959019\n",
      "MP2 energy:  -1.616081960776292\n",
      "CCSD energy: -1.8261563137199488\n",
      "FCI energy:  -1.8743108952541838\n",
      "\n",
      "\n",
      "Number of qubits: 8\n"
     ]
    }
   ],
   "source": [
    "geometry=[\n",
    "    ('H', (0.0,0.0,0.0)),\n",
    "    ('H', (2.45366053071732,0.0,0.0)),\n",
    "    ('H', (2.45366053071732,2.45366053071732,0.0)),\n",
    "    ('H', (0.0,2.45366053071732,0.0))\n",
    "     ]    \n",
    "    \n",
    "basis = 'sto-3g'\n",
    "multiplicity = 1\n",
    "charge = 0\n",
    "\n",
    "molecule = MoleculeBuilder(geometry=geometry, charge=charge, basis=basis, spin=0, run_fci=True, print_info=True)"
   ]
  },
  {
   "cell_type": "code",
   "execution_count": 8,
   "id": "ed133bce",
   "metadata": {},
   "outputs": [
    {
     "name": "stdout",
     "output_type": "stream",
     "text": [
      "Ground state energy = -1.8743108952541774\n"
     ]
    },
    {
     "data": {
      "text/plain": [
       " 1 ZIIZIZZI \n",
       " 1 IZIZIZIZ \n",
       " 1 IIZZIIII \n",
       " 1 IIIIZZII"
      ]
     },
     "execution_count": 8,
     "metadata": {},
     "output_type": "execute_result"
    }
   ],
   "source": [
    "#n_qubits = 10\n",
    "#n_terms  = 100\n",
    "\n",
    "H = molecule.H_q# random_PauliwordOp(n_qubits, n_terms, complex_coeffs=False)\n",
    "#print(H)\n",
    "gs_nrg, gs_vec = exact_gs_energy(H.to_sparse_matrix)\n",
    "print(f'Ground state energy = {gs_nrg}')\n",
    "S = find_symmetry_basis(H)\n",
    "S"
   ]
  },
  {
   "cell_type": "code",
   "execution_count": 9,
   "id": "a91c5858",
   "metadata": {},
   "outputs": [
    {
     "data": {
      "text/plain": [
       "array([ 1.+0.j,  1.+0.j, -1.+0.j, -1.+0.j])"
      ]
     },
     "execution_count": 9,
     "metadata": {},
     "output_type": "execute_result"
    }
   ],
   "source": [
    "gs_psi = array_to_QuantumState(gs_vec)\n",
    "gs_psi.sectors_present(S)"
   ]
  },
  {
   "cell_type": "code",
   "execution_count": 10,
   "id": "dcb47bfb",
   "metadata": {},
   "outputs": [
    {
     "data": {
      "text/plain": [
       "array([1.+0.j, 1.+0.j, 1.+0.j, 1.+0.j])"
      ]
     },
     "execution_count": 10,
     "metadata": {},
     "output_type": "execute_result"
    }
   ],
   "source": [
    "hf_psi = QuantumState([molecule.hf_array])\n",
    "hf_psi.sectors_present(S)"
   ]
  },
  {
   "cell_type": "markdown",
   "id": "d4dad381",
   "metadata": {},
   "source": [
    "Initialize the algorithm with a random state:"
   ]
  },
  {
   "cell_type": "code",
   "execution_count": 11,
   "id": "ca69abd4",
   "metadata": {},
   "outputs": [],
   "source": [
    "def gram_schmidt_step(v, orthogonal_set):\n",
    "    u_out = v.copy()\n",
    "    for u in orthogonal_set:\n",
    "        u_norm = np.square(lp_norm(u.coeff_vector))\n",
    "        uv_inner_prod = u.conjugate * v\n",
    "        u_out -= u.multiply_by_constant(uv_inner_prod/u_norm)\n",
    "    return u_out"
   ]
  },
  {
   "cell_type": "code",
   "execution_count": 84,
   "id": "5543df78",
   "metadata": {},
   "outputs": [
    {
     "name": "stdout",
     "output_type": "stream",
     "text": [
      " 0.204+0.334j |00000001> +\n",
      " 0.308+0.004j |00100001> +\n",
      " 0.076+0.223j |00101010> +\n",
      " 0.349+0.318j |00111100> +\n",
      " 0.089+0.115j |00111101> +\n",
      " 0.019+0.179j |01110101> +\n",
      " 0.365+0.077j |01111101> +\n",
      " 0.310+0.141j |10011011> +\n",
      " 0.270+0.041j |10100111> +\n",
      " 0.197+0.227j |10101010>\n",
      "(0.9999999999999998+0j)\n",
      " 0.522+0.853j |00000001>\n"
     ]
    }
   ],
   "source": [
    "v_init = random_QuantumState(H.n_qubits, n_terms=10, normalized=True)\n",
    "v_init = v_init.cleanup().normalize\n",
    "print(v_init)\n",
    "print(v_init.conjugate * v_init)\n",
    "w_init_prime = H * v_init\n",
    "alpha_init = w_init_prime.conjugate * v_init\n",
    "w_init = w_init_prime - v_init.multiply_by_constant(alpha_init)\n",
    "w_init = w_init.sort()[0].normalize\n",
    "print(w_init)"
   ]
  },
  {
   "cell_type": "markdown",
   "id": "fdf19ae8",
   "metadata": {},
   "source": [
    "From the randomized starting point, construct the next state as follows:"
   ]
  },
  {
   "cell_type": "code",
   "execution_count": 85,
   "id": "24b6e396",
   "metadata": {},
   "outputs": [
    {
     "data": {
      "text/plain": [
       "256"
      ]
     },
     "execution_count": 85,
     "metadata": {},
     "output_type": "execute_result"
    }
   ],
   "source": [
    "2**8"
   ]
  },
  {
   "cell_type": "code",
   "execution_count": 99,
   "id": "9fa352f0",
   "metadata": {},
   "outputs": [
    {
     "name": "stdout",
     "output_type": "stream",
     "text": [
      "beta_next = 0.9999999999999999\n",
      " 1.000 |00000001>  1.000 |00111100>\n",
      "(0.16295917253578637+0j)\n",
      "beta_next = 1.0\n",
      " 1.000 |00111100>  1.000 |00000001>\n",
      "(-1.226923982519471+0j)\n",
      "beta_next = 1.0\n",
      " 1.000 |00000001>  1.000 |00111100>\n",
      "(0.16295917253578637+0j)\n",
      "beta_next = 1.0\n",
      " 1.000 |00111100>  1.000 |00000001>\n",
      "(-1.226923982519471+0j)\n",
      "beta_next = 1.0\n",
      " 1.000 |00000001>  1.000 |00111100>\n",
      "(0.16295917253578637+0j)\n",
      "beta_next = 1.0\n",
      " 1.000 |00111100>  1.000 |00000001>\n",
      "(-1.226923982519471+0j)\n",
      "beta_next = 1.0\n",
      " 1.000 |00000001>  1.000 |00111100>\n",
      "(0.16295917253578637+0j)\n",
      "beta_next = 1.0\n",
      " 1.000 |00111100>  1.000 |00000001>\n",
      "(-1.226923982519471+0j)\n",
      "beta_next = 1.0\n",
      " 1.000 |00000001>  1.000 |00111100>\n",
      "(0.16295917253578637+0j)\n",
      "beta_next = 1.0\n",
      " 1.000 |00111100>  1.000 |00000001>\n",
      "(-1.226923982519471+0j)\n"
     ]
    }
   ],
   "source": [
    "w_current = w_init.copy()\n",
    "v_current = v_init.copy()\n",
    "\n",
    "w_list = [w_current]\n",
    "v_list = [v_current]\n",
    "for j in range(10):\n",
    "    \n",
    "    # construct v_next from w_current\n",
    "    beta_next = lp_norm(w_current.coeff_vector)\n",
    "    print(f'beta_next = {beta_next}')\n",
    "    if beta_next>1e-5:\n",
    "        v_next = w_current.multiply_by_constant(1/beta_next)\n",
    "    else:\n",
    "        v_next = random_QuantumState(n_qubits, n_terms=np.random.randint(0,2**n_qubits))\n",
    "        v_next = gram_schmidt_step(v=v_next, orthogonal_set=v_list) # orthogonalize w.r.t to previous v vectors\n",
    "    \n",
    "    v_next = v_next.sort()[0]\n",
    "    v_next.coeff_vector = np.array([1])\n",
    "    v_list.append(v_next)\n",
    "    \n",
    "    # construct w_next from w_current and v_next\n",
    "    w_next_prime = H * v_next\n",
    "    alpha_next = w_next_prime.conjugate * v_next\n",
    "    w_next = w_next_prime - v_next.multiply_by_constant(alpha_next) - v_current.multiply_by_constant(beta_next)\n",
    "    \n",
    "    w_next = w_next.sort()[0]\n",
    "    w_next.coeff_vector = np.array([1])\n",
    "    w_list.append(w_next)\n",
    "    \n",
    "    print(v_next, w_next)\n",
    "    print(v_next.conjugate * H * v_next)\n",
    "    # update the current v,w vectors and repeat\n",
    "    w_current = w_next\n",
    "    v_current = v_next"
   ]
  },
  {
   "cell_type": "code",
   "execution_count": null,
   "id": "789b1a75",
   "metadata": {},
   "outputs": [],
   "source": []
  },
  {
   "cell_type": "code",
   "execution_count": 100,
   "id": "2a4db642",
   "metadata": {},
   "outputs": [],
   "source": [
    "from scipy import sparse as sp\n",
    "\n",
    "V = sp.hstack([v.to_sparse_matrix for v in v_list])"
   ]
  },
  {
   "cell_type": "code",
   "execution_count": 101,
   "id": "6702f2ec",
   "metadata": {},
   "outputs": [],
   "source": [
    "T = (V.H @ H.to_sparse_matrix @ V).real"
   ]
  },
  {
   "cell_type": "code",
   "execution_count": 102,
   "id": "d58f03b9",
   "metadata": {},
   "outputs": [
    {
     "name": "stdout",
     "output_type": "stream",
     "text": [
      "[[ True  True  True  True  True  True  True  True  True  True  True]\n",
      " [ True  True False  True False  True False  True False  True False]\n",
      " [ True False  True False  True False  True False  True False  True]\n",
      " [ True  True False  True False  True False  True False  True False]\n",
      " [ True False  True False  True False  True False  True False  True]\n",
      " [ True  True False  True False  True False  True False  True False]\n",
      " [ True False  True False  True False  True False  True False  True]\n",
      " [ True  True False  True False  True False  True False  True False]\n",
      " [ True False  True False  True False  True False  True False  True]\n",
      " [ True  True False  True False  True False  True False  True False]\n",
      " [ True False  True False  True False  True False  True False  True]]\n"
     ]
    }
   ],
   "source": [
    "print(abs(T.toarray())>1e-10)"
   ]
  },
  {
   "cell_type": "code",
   "execution_count": 103,
   "id": "74984137",
   "metadata": {},
   "outputs": [
    {
     "name": "stdout",
     "output_type": "stream",
     "text": [
      "Grounds state energy of H is -1.8743108952541774, of T it is -6.307444522537066\n"
     ]
    }
   ],
   "source": [
    "T_gs_nrg, T_gs_vec = exact_gs_energy(T)\n",
    "print(f'Grounds state energy of H is {gs_nrg}, of T it is {T_gs_nrg}')"
   ]
  },
  {
   "cell_type": "code",
   "execution_count": null,
   "id": "211db7b6",
   "metadata": {},
   "outputs": [],
   "source": []
  },
  {
   "cell_type": "code",
   "execution_count": 104,
   "id": "924bd6c8",
   "metadata": {},
   "outputs": [
    {
     "data": {
      "text/plain": [
       "array([-0.1777779 ,  0.00083138, -0.44008898,  0.00083138, -0.44008898,\n",
       "        0.00083138, -0.44008898,  0.00083138, -0.44008898,  0.00083138,\n",
       "       -0.44008898])"
      ]
     },
     "execution_count": 104,
     "metadata": {},
     "output_type": "execute_result"
    }
   ],
   "source": [
    "T_gs_vec"
   ]
  },
  {
   "cell_type": "code",
   "execution_count": 105,
   "id": "f45eb181",
   "metadata": {},
   "outputs": [],
   "source": [
    "S_trans = (V.H @ S[0].to_sparse_matrix @ V).real"
   ]
  },
  {
   "cell_type": "code",
   "execution_count": 106,
   "id": "6d0a3cc3",
   "metadata": {},
   "outputs": [
    {
     "data": {
      "text/plain": [
       "array([[0.01603004, 0.00000014, 0.06753543, 0.00000014, 0.06753543,\n",
       "        0.00000014, 0.06753543, 0.00000014, 0.06753543, 0.00000014,\n",
       "        0.06753543],\n",
       "       [0.00645974, 0.00000069, 0.        , 0.00000069, 0.        ,\n",
       "        0.00000069, 0.        , 0.00000069, 0.        , 0.00000069,\n",
       "        0.        ],\n",
       "       [0.01102062, 0.        , 0.19367831, 0.        , 0.19367831,\n",
       "        0.        , 0.19367831, 0.        , 0.19367831, 0.        ,\n",
       "        0.19367831],\n",
       "       [0.00645974, 0.00000069, 0.        , 0.00000069, 0.        ,\n",
       "        0.00000069, 0.        , 0.00000069, 0.        , 0.00000069,\n",
       "        0.        ],\n",
       "       [0.01102062, 0.        , 0.19367831, 0.        , 0.19367831,\n",
       "        0.        , 0.19367831, 0.        , 0.19367831, 0.        ,\n",
       "        0.19367831],\n",
       "       [0.00645974, 0.00000069, 0.        , 0.00000069, 0.        ,\n",
       "        0.00000069, 0.        , 0.00000069, 0.        , 0.00000069,\n",
       "        0.        ],\n",
       "       [0.01102062, 0.        , 0.19367831, 0.        , 0.19367831,\n",
       "        0.        , 0.19367831, 0.        , 0.19367831, 0.        ,\n",
       "        0.19367831],\n",
       "       [0.00645974, 0.00000069, 0.        , 0.00000069, 0.        ,\n",
       "        0.00000069, 0.        , 0.00000069, 0.        , 0.00000069,\n",
       "        0.        ],\n",
       "       [0.01102062, 0.        , 0.19367831, 0.        , 0.19367831,\n",
       "        0.        , 0.19367831, 0.        , 0.19367831, 0.        ,\n",
       "        0.19367831],\n",
       "       [0.00645974, 0.00000069, 0.        , 0.00000069, 0.        ,\n",
       "        0.00000069, 0.        , 0.00000069, 0.        , 0.00000069,\n",
       "        0.        ],\n",
       "       [0.01102062, 0.        , 0.19367831, 0.        , 0.19367831,\n",
       "        0.        , 0.19367831, 0.        , 0.19367831, 0.        ,\n",
       "        0.19367831]])"
      ]
     },
     "execution_count": 106,
     "metadata": {},
     "output_type": "execute_result"
    }
   ],
   "source": [
    "T_gs_vec.transpose() * S_trans.toarray() * T_gs_vec"
   ]
  },
  {
   "cell_type": "code",
   "execution_count": 113,
   "id": "e51e4d42",
   "metadata": {},
   "outputs": [
    {
     "name": "stdout",
     "output_type": "stream",
     "text": [
      "[0.5071998 +0.j 0.46118653+0.j 0.13633313+0.j 0.26142689+0.j]\n",
      "0.2924975159807839\n",
      "[ 1.+0.j -1.+0.j  1.+0.j  1.+0.j]\n",
      "0.2924975159807839\n",
      "[1.+0.j 1.+0.j 1.+0.j 1.+0.j]\n",
      "0.00992117501148293\n",
      "[ 1.+0.j -1.+0.j  1.+0.j  1.+0.j]\n",
      "0.2924975159807839\n",
      "[1.+0.j 1.+0.j 1.+0.j 1.+0.j]\n",
      "0.00992117501148293\n",
      "[ 1.+0.j -1.+0.j  1.+0.j  1.+0.j]\n",
      "0.2924975159807839\n",
      "[1.+0.j 1.+0.j 1.+0.j 1.+0.j]\n",
      "0.00992117501148293\n",
      "[ 1.+0.j -1.+0.j  1.+0.j  1.+0.j]\n",
      "0.2924975159807839\n",
      "[1.+0.j 1.+0.j 1.+0.j 1.+0.j]\n",
      "0.00992117501148293\n",
      "[ 1.+0.j -1.+0.j  1.+0.j  1.+0.j]\n",
      "0.2924975159807839\n",
      "[1.+0.j 1.+0.j 1.+0.j 1.+0.j]\n",
      "0.00992117501148293\n"
     ]
    }
   ],
   "source": [
    "from symmer.projection import QubitTapering\n",
    "qt = QubitTapering(H)\n",
    "\n",
    "for w in v_list:\n",
    "    print(w.sectors_present(S))\n",
    "    H_tap = qt.taper_it(ref_state=w.state_matrix[0])\n",
    "    print(exact_gs_energy(H_tap.to_sparse_matrix)[0] - gs_nrg)"
   ]
  },
  {
   "cell_type": "code",
   "execution_count": null,
   "id": "4f2c9e7c",
   "metadata": {},
   "outputs": [],
   "source": []
  },
  {
   "cell_type": "code",
   "execution_count": null,
   "id": "96f8391b",
   "metadata": {},
   "outputs": [],
   "source": []
  },
  {
   "cell_type": "code",
   "execution_count": null,
   "id": "9c98f6a4",
   "metadata": {},
   "outputs": [],
   "source": []
  }
 ],
 "metadata": {
  "kernelspec": {
   "display_name": "Python 3 (ipykernel)",
   "language": "python",
   "name": "python3"
  },
  "language_info": {
   "codemirror_mode": {
    "name": "ipython",
    "version": 3
   },
   "file_extension": ".py",
   "mimetype": "text/x-python",
   "name": "python",
   "nbconvert_exporter": "python",
   "pygments_lexer": "ipython3",
   "version": "3.8.8"
  }
 },
 "nbformat": 4,
 "nbformat_minor": 5
}
