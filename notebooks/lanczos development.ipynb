{
 "cells": [
  {
   "cell_type": "code",
   "execution_count": 354,
   "id": "39cfaf88",
   "metadata": {},
   "outputs": [],
   "source": [
    "from symmer.symplectic import (\n",
    "    PauliwordOp, QuantumState, random_PauliwordOp, random_QuantumState,\n",
    "    array_to_QuantumState, find_symmetry_basis\n",
    ")\n",
    "from symmer.chemistry import MoleculeBuilder\n",
    "from symmer.utils import lp_norm, exact_gs_energy\n",
    "import numpy as np"
   ]
  },
  {
   "cell_type": "code",
   "execution_count": 355,
   "id": "ce67b5d1",
   "metadata": {},
   "outputs": [
    {
     "name": "stdout",
     "output_type": "stream",
     "text": [
      "Molecule geometry:\n",
      "H\t0.0\t0.0\t0.0\n",
      "H\t2.45366053071732\t0.0\t0.0\n",
      "H\t2.45366053071732\t2.45366053071732\t0.0\n",
      "H\t0.0\t2.45366053071732\t0.0\n",
      "\n",
      "HF converged?   True\n",
      "CCSD converged? True\n",
      "FCI converged?  True\n",
      "\n",
      "HF energy:   -1.333420245395901\n",
      "MP2 energy:  -1.6160819607762904\n",
      "CCSD energy: -1.826156313717218\n",
      "FCI energy:  -1.8743108952541816\n",
      "\n",
      "\n",
      "Number of qubits: 8\n"
     ]
    }
   ],
   "source": [
    "geometry=[\n",
    "    ('H', (0.0,0.0,0.0)),\n",
    "    ('H', (2.45366053071732,0.0,0.0)),\n",
    "    ('H', (2.45366053071732,2.45366053071732,0.0)),\n",
    "    ('H', (0.0,2.45366053071732,0.0))\n",
    "     ]    \n",
    "    \n",
    "basis = 'sto-3g'\n",
    "multiplicity = 1\n",
    "charge = 0\n",
    "\n",
    "molecule = MoleculeBuilder(geometry=geometry, charge=charge, basis=basis, spin=0, run_fci=True, print_info=True)"
   ]
  },
  {
   "cell_type": "code",
   "execution_count": 356,
   "id": "ed133bce",
   "metadata": {},
   "outputs": [
    {
     "name": "stdout",
     "output_type": "stream",
     "text": [
      "-1.081+0.000j IIIIIIII +\n",
      " 0.065+0.000j ZIIIIIII +\n",
      "-0.014+0.000j YZZZZZYI +\n",
      "-0.014+0.000j XZZZZZXI +\n",
      " 0.065+0.000j IZIIIIII +\n",
      "-0.014+0.000j IYZZZZZY +\n",
      "-0.014+0.000j IXZZZZZX +\n",
      " 0.038+0.000j IIZIIIII +\n",
      " 0.038+0.000j IIIZIIII +\n",
      " 0.038+0.000j IIIIZIII +\n",
      " 0.038+0.000j IIIIIZII +\n",
      " 0.014+0.000j IIIIIIZI +\n",
      " 0.014+0.000j IIIIIIIZ +\n",
      " 0.091+0.000j ZZIIIIII +\n",
      " 0.014+0.000j YIZZZZYI +\n",
      " 0.014+0.000j XIZZZZXI +\n",
      " 0.019+0.000j YXXYIIII +\n",
      "-0.019+0.000j YYXXIIII +\n",
      "-0.019+0.000j XXYYIIII +\n",
      " 0.019+0.000j XYYXIIII +\n",
      " 0.057+0.000j YXIIXYII +\n",
      "-0.057+0.000j YYIIXXII +\n",
      "-0.057+0.000j XXIIYYII +\n",
      " 0.057+0.000j XYIIYXII +\n",
      " 0.014+0.000j ZYZZZZZY +\n",
      " 0.014+0.000j ZXZZZZZX +\n",
      " 0.024+0.000j YXIIIIXY +\n",
      "-0.024+0.000j YYIIIIXX +\n",
      "-0.024+0.000j XXIIIIYY +\n",
      " 0.024+0.000j XYIIIIYX +\n",
      " 0.050+0.000j ZIZIIIII +\n",
      " 0.007+0.000j YZIZZZYI +\n",
      " 0.007+0.000j XZIZZZXI +\n",
      " 0.069+0.000j ZIIZIIII +\n",
      "-0.027+0.000j YZZIZZYI +\n",
      "-0.027+0.000j XZZIZZXI +\n",
      " 0.033+0.000j YZYYZZZY +\n",
      " 0.033+0.000j YZYXZZZX +\n",
      " 0.033+0.000j XZXYZZZY +\n",
      " 0.033+0.000j XZXXZZZX +\n",
      " 0.042+0.000j ZIIIZIII +\n",
      "-0.007+0.000j YZZZIZYI +\n",
      "-0.007+0.000j XZZZIZXI +\n",
      " 0.099+0.000j ZIIIIZII +\n",
      " 0.028+0.000j YZZZZIYI +\n",
      " 0.028+0.000j XZZZZIXI +\n",
      "-0.035+0.000j YZZZYYZY +\n",
      "-0.035+0.000j YZZZYXZX +\n",
      "-0.035+0.000j XZZZXYZY +\n",
      "-0.035+0.000j XZZZXXZX +\n",
      " 0.054+0.000j ZIIIIIZI +\n",
      " 0.077+0.000j ZIIIIIIZ +\n",
      "-0.013+0.000j YZZZZZYZ +\n",
      "-0.013+0.000j XZZZZZXZ +\n",
      " 0.069+0.000j IZZIIIII +\n",
      "-0.027+0.000j IYIZZZZY +\n",
      "-0.027+0.000j IXIZZZZX +\n",
      " 0.033+0.000j IYXXZZYI +\n",
      "-0.033+0.000j IYYXZZXI +\n",
      "-0.033+0.000j IXXYZZYI +\n",
      " 0.033+0.000j IXYYZZXI +\n",
      " 0.050+0.000j IZIZIIII +\n",
      " 0.007+0.000j IYZIZZZY +\n",
      " 0.007+0.000j IXZIZZZX +\n",
      " 0.099+0.000j IZIIZIII +\n",
      " 0.028+0.000j IYZZIZZY +\n",
      " 0.028+0.000j IXZZIZZX +\n",
      "-0.035+0.000j IYZZXXYI +\n",
      " 0.035+0.000j IYZZYXXI +\n",
      " 0.035+0.000j IXZZXYYI +\n",
      "-0.035+0.000j IXZZYYXI +\n",
      " 0.042+0.000j IZIIIZII +\n",
      "-0.007+0.000j IYZZZIZY +\n",
      "-0.007+0.000j IXZZZIZX +\n",
      " 0.077+0.000j IZIIIIZI +\n",
      "-0.013+0.000j IYZZZZIY +\n",
      "-0.013+0.000j IXZZZZIX +\n",
      " 0.054+0.000j IZIIIIIZ +\n",
      " 0.116+0.000j IIZZIIII +\n",
      " 0.000+0.000j IIYXXYII +\n",
      "-0.000+0.000j IIYYXXII +\n",
      "-0.000+0.000j IIXXYYII +\n",
      " 0.000+0.000j IIXYYXII +\n",
      " 0.059+0.000j IIYXIIXY +\n",
      "-0.059+0.000j IIYYIIXX +\n",
      "-0.059+0.000j IIXXIIYY +\n",
      " 0.059+0.000j IIXYIIYX +\n",
      " 0.054+0.000j IIZIZIII +\n",
      " 0.054+0.000j IIZIIZII +\n",
      " 0.042+0.000j IIZIIIZI +\n",
      " 0.101+0.000j IIZIIIIZ +\n",
      " 0.054+0.000j IIIZZIII +\n",
      " 0.054+0.000j IIIZIZII +\n",
      " 0.101+0.000j IIIZIIZI +\n",
      " 0.042+0.000j IIIZIIIZ +\n",
      " 0.116+0.000j IIIIZZII +\n",
      " 0.021+0.000j IIIIYXXY +\n",
      "-0.021+0.000j IIIIYYXX +\n",
      "-0.021+0.000j IIIIXXYY +\n",
      " 0.021+0.000j IIIIXYYX +\n",
      " 0.050+0.000j IIIIZIZI +\n",
      " 0.071+0.000j IIIIZIIZ +\n",
      " 0.071+0.000j IIIIIZZI +\n",
      " 0.050+0.000j IIIIIZIZ +\n",
      " 0.094+0.000j IIIIIIZZ\n",
      "Ground state energy = -1.8743108952541763\n"
     ]
    },
    {
     "data": {
      "text/plain": [
       " 1 ZIIZIZZI \n",
       " 1 IZIZIZIZ \n",
       " 1 IIZZIIII \n",
       " 1 IIIIZZII"
      ]
     },
     "execution_count": 356,
     "metadata": {},
     "output_type": "execute_result"
    }
   ],
   "source": [
    "#n_qubits = 10\n",
    "#n_terms  = 100\n",
    "\n",
    "H = molecule.H_q# random_PauliwordOp(n_qubits, n_terms, complex_coeffs=False)\n",
    "print(H)\n",
    "gs_nrg, gs_vec = exact_gs_energy(H.to_sparse_matrix)\n",
    "print(f'Ground state energy = {gs_nrg}')\n",
    "S = find_symmetry_basis(H)\n",
    "S"
   ]
  },
  {
   "cell_type": "code",
   "execution_count": 363,
   "id": "a91c5858",
   "metadata": {},
   "outputs": [
    {
     "data": {
      "text/plain": [
       "array([ 1.+0.j,  1.+0.j, -1.+0.j, -1.+0.j])"
      ]
     },
     "execution_count": 363,
     "metadata": {},
     "output_type": "execute_result"
    }
   ],
   "source": [
    "gs_psi = array_to_QuantumState(gs_vec)\n",
    "gs_psi.sectors_present(S)"
   ]
  },
  {
   "cell_type": "code",
   "execution_count": 364,
   "id": "dcb47bfb",
   "metadata": {},
   "outputs": [
    {
     "data": {
      "text/plain": [
       "array([1.+0.j, 1.+0.j, 1.+0.j, 1.+0.j])"
      ]
     },
     "execution_count": 364,
     "metadata": {},
     "output_type": "execute_result"
    }
   ],
   "source": [
    "hf_psi = QuantumState([molecule.hf_array])\n",
    "hf_psi.sectors_present(S)"
   ]
  },
  {
   "cell_type": "markdown",
   "id": "d4dad381",
   "metadata": {},
   "source": [
    "Initialize the algorithm with a random state:"
   ]
  },
  {
   "cell_type": "code",
   "execution_count": 299,
   "id": "ca69abd4",
   "metadata": {},
   "outputs": [],
   "source": [
    "def gram_schmidt_step(v, orthogonal_set):\n",
    "    u_out = v.copy()\n",
    "    for u in orthogonal_set:\n",
    "        u_norm = np.square(lp_norm(u.coeff_vector))\n",
    "        uv_inner_prod = u.conjugate * v\n",
    "        u_out -= u.multiply_by_constant(uv_inner_prod/u_norm)\n",
    "    return u_out"
   ]
  },
  {
   "cell_type": "code",
   "execution_count": 365,
   "id": "5543df78",
   "metadata": {},
   "outputs": [
    {
     "name": "stdout",
     "output_type": "stream",
     "text": [
      " 0.450+0.127j |00100010> +\n",
      " 0.036+0.016j |00101001> +\n",
      " 0.159+0.284j |00111101> +\n",
      " 0.101+0.064j |01000100> +\n",
      " 0.319+0.058j |10000101> +\n",
      " 0.010+0.124j |10000111> +\n",
      " 0.003+0.194j |10010011> +\n",
      " 0.325+0.320j |11010000> +\n",
      " 0.411+0.071j |11111001> +\n",
      " 0.345+0.023j |11111111>\n",
      "(0.9999999999999999+0j)\n",
      "-0.000-0.000j |00000101> +\n",
      " 0.027+0.005j |00000111> +\n",
      " 0.031+0.030j |00010011> +\n",
      "-0.009-0.004j |00011010> +\n",
      " 0.074+0.073j |00011100> +\n",
      "-0.000-0.027j |00011110> +\n",
      " 0.055+0.015j |00100010> +\n",
      "-0.003-0.001j |00100110> +\n",
      "-0.007-0.003j |00101001> +\n",
      "-0.043-0.008j |00110100> +\n",
      " 0.001+0.017j |00110110> +\n",
      "-0.054-0.097j |00111101> +\n",
      " 0.003+0.002j |01000100> +\n",
      "-0.030-0.005j |01000110> +\n",
      "-0.073-0.013j |01001001> +\n",
      "-0.002-0.028j |01001011> +\n",
      "-0.021-0.038j |01001111> +\n",
      " 0.009+0.009j |01010010> +\n",
      "-0.043-0.043j |01100001> +\n",
      "-0.000-0.015j |01100011> +\n",
      "-0.001-0.000j |01101000> +\n",
      " 0.022+0.039j |01110011> +\n",
      " 0.032+0.006j |01111011> +\n",
      "-0.004-0.008j |01111100> +\n",
      "-0.075-0.014j |10000101> +\n",
      "-0.004-0.045j |10000111> +\n",
      " 0.035+0.034j |10010001> +\n",
      "-0.001-0.077j |10010011> +\n",
      "-0.005-0.002j |10011000> +\n",
      " 0.000+0.016j |10011100> +\n",
      " 0.023+0.007j |10100000> +\n",
      " 0.005+0.002j |10100100> +\n",
      " 0.002+0.029j |10110100> +\n",
      "-0.057-0.010j |10110111> +\n",
      " 0.017+0.003j |11000100> +\n",
      "-0.000-0.000j |11000110> +\n",
      "-0.001-0.017j |11001001> +\n",
      " 0.012+0.022j |11001101> +\n",
      "-0.127-0.125j |11010000> +\n",
      "-0.000-0.011j |11010010> +\n",
      " 0.000+0.026j |11100001> +\n",
      " 0.036+0.065j |11110001> +\n",
      "-0.034-0.006j |11110110> +\n",
      "-0.071-0.012j |11111001> +\n",
      " 0.479+0.032j |11111111>\n"
     ]
    }
   ],
   "source": [
    "v_init = random_QuantumState(H.n_qubits, n_terms=10, normalized=True)\n",
    "v_init = v_init.cleanup().normalize\n",
    "print(v_init)\n",
    "print(v_init.conjugate * v_init)\n",
    "w_init_prime = H * v_init\n",
    "alpha_init = w_init_prime.conjugate * v_init\n",
    "w_init = w_init_prime - v_init.multiply_by_constant(alpha_init)\n",
    "print(w_init)"
   ]
  },
  {
   "cell_type": "markdown",
   "id": "fdf19ae8",
   "metadata": {},
   "source": [
    "From the randomized starting point, construct the next state as follows:"
   ]
  },
  {
   "cell_type": "code",
   "execution_count": 372,
   "id": "24b6e396",
   "metadata": {},
   "outputs": [
    {
     "data": {
      "text/plain": [
       "256"
      ]
     },
     "execution_count": 372,
     "metadata": {},
     "output_type": "execute_result"
    }
   ],
   "source": [
    "2**8"
   ]
  },
  {
   "cell_type": "code",
   "execution_count": 373,
   "id": "9fa352f0",
   "metadata": {},
   "outputs": [
    {
     "name": "stdout",
     "output_type": "stream",
     "text": [
      "beta_next = 0.588583462050134\n",
      "beta_next = 0.7105254418298599\n",
      "beta_next = 0.2933863709905624\n",
      "beta_next = 0.4536454870541469\n",
      "beta_next = 0.4005652019159028\n",
      "beta_next = 0.2915775918836008\n",
      "beta_next = 0.29988681070441375\n",
      "beta_next = 0.21614697154004053\n",
      "beta_next = 0.24276303846065267\n",
      "beta_next = 0.29622989060824567\n"
     ]
    }
   ],
   "source": [
    "w_current = w_init.copy()\n",
    "v_current = v_init.copy()\n",
    "\n",
    "w_list = [w_current]\n",
    "v_list = [v_current]\n",
    "for j in range(10):\n",
    "    \n",
    "    # construct v_next from w_current\n",
    "    beta_next = lp_norm(w_current.coeff_vector)\n",
    "    print(f'beta_next = {beta_next}')\n",
    "    if beta_next>1e-5:\n",
    "        v_next = w_current.multiply_by_constant(1/beta_next)\n",
    "    else:\n",
    "        v_next = random_QuantumState(n_qubits, n_terms=np.random.randint(0,2**n_qubits))\n",
    "        v_next = gram_schmidt_step(v=v_next, orthogonal_set=v_list) # orthogonalize w.r.t to previous v vectors\n",
    "    v_list.append(v_next)\n",
    "    \n",
    "    # construct w_next from w_current and v_next\n",
    "    w_next_prime = H * v_next\n",
    "    alpha_next = w_next_prime.conjugate * v_next\n",
    "    w_next = w_next_prime - v_next.multiply_by_constant(alpha_next) - v_current.multiply_by_constant(beta_next)\n",
    "    w_list.append(w_next)\n",
    "    \n",
    "    # update the current v,w vectors and repeat\n",
    "    w_current = w_next\n",
    "    v_current = v_next"
   ]
  },
  {
   "cell_type": "code",
   "execution_count": null,
   "id": "789b1a75",
   "metadata": {},
   "outputs": [],
   "source": []
  },
  {
   "cell_type": "code",
   "execution_count": 374,
   "id": "2a4db642",
   "metadata": {},
   "outputs": [],
   "source": [
    "from scipy import sparse as sp\n",
    "\n",
    "V = sp.hstack([v.to_sparse_matrix for v in v_list])"
   ]
  },
  {
   "cell_type": "code",
   "execution_count": 375,
   "id": "6702f2ec",
   "metadata": {},
   "outputs": [],
   "source": [
    "T = (V.H @ H.to_sparse_matrix @ V).real"
   ]
  },
  {
   "cell_type": "code",
   "execution_count": 376,
   "id": "d58f03b9",
   "metadata": {},
   "outputs": [
    {
     "name": "stdout",
     "output_type": "stream",
     "text": [
      "[[ True  True False False False False False False False False False]\n",
      " [ True  True  True False False False False False False False False]\n",
      " [False  True  True  True False False False False False False False]\n",
      " [False False  True  True  True False False False False False False]\n",
      " [False False False  True  True  True False False False False False]\n",
      " [False False False False  True  True  True False False False False]\n",
      " [False False False False False  True  True  True False False False]\n",
      " [False False False False False False  True  True  True False False]\n",
      " [False False False False False False False  True  True  True False]\n",
      " [False False False False False False False False  True  True  True]\n",
      " [False False False False False False False False False  True  True]]\n"
     ]
    }
   ],
   "source": [
    "print(abs(T.toarray())>1e-10)"
   ]
  },
  {
   "cell_type": "code",
   "execution_count": 380,
   "id": "74984137",
   "metadata": {},
   "outputs": [
    {
     "name": "stdout",
     "output_type": "stream",
     "text": [
      "Grounds state energy of H is -1.8743108952541763, of T it is -1.864297630255416\n"
     ]
    }
   ],
   "source": [
    "T_gs_nrg, T_gs_vec = exact_gs_energy(T)\n",
    "print(f'Grounds state energy of H is {gs_nrg}, of T it is {T_gs_nrg}')"
   ]
  },
  {
   "cell_type": "code",
   "execution_count": 381,
   "id": "211db7b6",
   "metadata": {},
   "outputs": [
    {
     "ename": "AssertionError",
     "evalue": "the statevector dimension is not a power of 2",
     "output_type": "error",
     "traceback": [
      "\u001b[0;31m---------------------------------------------------------------------------\u001b[0m",
      "\u001b[0;31mAssertionError\u001b[0m                            Traceback (most recent call last)",
      "\u001b[0;32m/tmp/ipykernel_239490/4065610588.py\u001b[0m in \u001b[0;36m<module>\u001b[0;34m\u001b[0m\n\u001b[0;32m----> 1\u001b[0;31m \u001b[0marray_to_QuantumState\u001b[0m\u001b[0;34m(\u001b[0m\u001b[0mT_gs_vec\u001b[0m\u001b[0;34m)\u001b[0m\u001b[0;34m\u001b[0m\u001b[0;34m\u001b[0m\u001b[0m\n\u001b[0m",
      "\u001b[0;32m~/anaconda3/lib/python3.8/site-packages/symmer/symplectic/base.py\u001b[0m in \u001b[0;36marray_to_QuantumState\u001b[0;34m(statevector, threshold)\u001b[0m\n\u001b[1;32m   1014\u001b[0m     \"\"\"\n\u001b[1;32m   1015\u001b[0m     \u001b[0mN\u001b[0m \u001b[0;34m=\u001b[0m \u001b[0mnp\u001b[0m\u001b[0;34m.\u001b[0m\u001b[0mlog2\u001b[0m\u001b[0;34m(\u001b[0m\u001b[0mstatevector\u001b[0m\u001b[0;34m.\u001b[0m\u001b[0mshape\u001b[0m\u001b[0;34m[\u001b[0m\u001b[0;36m0\u001b[0m\u001b[0;34m]\u001b[0m\u001b[0;34m)\u001b[0m\u001b[0;34m\u001b[0m\u001b[0;34m\u001b[0m\u001b[0m\n\u001b[0;32m-> 1016\u001b[0;31m     \u001b[0;32massert\u001b[0m\u001b[0;34m(\u001b[0m\u001b[0mN\u001b[0m\u001b[0;34m-\u001b[0m\u001b[0mint\u001b[0m\u001b[0;34m(\u001b[0m\u001b[0mN\u001b[0m\u001b[0;34m)\u001b[0m \u001b[0;34m==\u001b[0m \u001b[0;36m0\u001b[0m\u001b[0;34m)\u001b[0m\u001b[0;34m,\u001b[0m \u001b[0;34m'the statevector dimension is not a power of 2'\u001b[0m\u001b[0;34m\u001b[0m\u001b[0;34m\u001b[0m\u001b[0m\n\u001b[0m\u001b[1;32m   1017\u001b[0m     \u001b[0mN\u001b[0m \u001b[0;34m=\u001b[0m \u001b[0mint\u001b[0m\u001b[0;34m(\u001b[0m\u001b[0mN\u001b[0m\u001b[0;34m)\u001b[0m\u001b[0;34m\u001b[0m\u001b[0;34m\u001b[0m\u001b[0m\n\u001b[1;32m   1018\u001b[0m     \u001b[0mnon_zero\u001b[0m \u001b[0;34m=\u001b[0m \u001b[0mnp\u001b[0m\u001b[0;34m.\u001b[0m\u001b[0mwhere\u001b[0m\u001b[0;34m(\u001b[0m\u001b[0mabs\u001b[0m\u001b[0;34m(\u001b[0m\u001b[0mstatevector\u001b[0m\u001b[0;34m)\u001b[0m\u001b[0;34m>=\u001b[0m\u001b[0mthreshold\u001b[0m\u001b[0;34m)\u001b[0m\u001b[0;34m[\u001b[0m\u001b[0;36m0\u001b[0m\u001b[0;34m]\u001b[0m\u001b[0;34m\u001b[0m\u001b[0;34m\u001b[0m\u001b[0m\n",
      "\u001b[0;31mAssertionError\u001b[0m: the statevector dimension is not a power of 2"
     ]
    }
   ],
   "source": [
    "array_to_QuantumState()"
   ]
  },
  {
   "cell_type": "code",
   "execution_count": 382,
   "id": "924bd6c8",
   "metadata": {},
   "outputs": [
    {
     "data": {
      "text/plain": [
       "array([-0.06460042,  0.11275856, -0.227759  ,  0.57423681, -0.67335141,\n",
       "        0.3454961 , -0.15388286,  0.06703548, -0.02181461,  0.00792104,\n",
       "       -0.00286947])"
      ]
     },
     "execution_count": 382,
     "metadata": {},
     "output_type": "execute_result"
    }
   ],
   "source": [
    "T_gs_vec"
   ]
  },
  {
   "cell_type": "code",
   "execution_count": 389,
   "id": "f45eb181",
   "metadata": {},
   "outputs": [],
   "source": [
    "S_trans = (V.H @ S[0].to_sparse_matrix @ V).real"
   ]
  },
  {
   "cell_type": "code",
   "execution_count": 394,
   "id": "6d0a3cc3",
   "metadata": {},
   "outputs": [
    {
     "data": {
      "text/plain": [
       "array([[ 0.00178484, -0.00028448,  0.0218369 ,  0.10183428,  0.00786489,\n",
       "        -0.00933063, -0.01045113, -0.0008357 ,  0.0000717 , -0.0000048 ,\n",
       "        -0.00000063],\n",
       "       [-0.00009337,  0.01153892,  0.00896264,  0.00801897,  0.07798865,\n",
       "        -0.0228375 ,  0.00113767, -0.00038048, -0.00008103,  0.00000354,\n",
       "         0.00000051],\n",
       "       [ 0.00175675,  0.00219677,  0.02092047, -0.03730541, -0.17789592,\n",
       "         0.04935879,  0.00437159,  0.00109343,  0.00005386, -0.00000303,\n",
       "        -0.00000028],\n",
       "       [ 0.00128879,  0.0003092 , -0.00586869, -0.03013763,  0.29039589,\n",
       "        -0.01717315,  0.00830341,  0.00090409,  0.00020028, -0.00000157,\n",
       "        -0.00000104],\n",
       "       [ 0.00007239,  0.00218699, -0.02035324,  0.21119759, -0.01977666,\n",
       "         0.05256115,  0.00063957,  0.00145569,  0.00005035,  0.00001049,\n",
       "         0.00000016],\n",
       "       [-0.00032621, -0.00243255,  0.0214501 , -0.04744012,  0.19964668,\n",
       "         0.05833519,  0.00423705, -0.00007195, -0.0000753 ,  0.0000115 ,\n",
       "         0.00000176],\n",
       "       [-0.00184185,  0.00061085,  0.00957657,  0.11562661,  0.01224585,\n",
       "         0.02135841,  0.00848366, -0.00166249,  0.00003863, -0.00001439,\n",
       "        -0.00000028],\n",
       "       [-0.00077609, -0.00107653,  0.0126221 ,  0.066341  ,  0.14687382,\n",
       "        -0.00191118, -0.00876053,  0.00208995, -0.00014626, -0.00000873,\n",
       "        -0.00000066],\n",
       "       [ 0.00062875, -0.00216494,  0.00587078,  0.13877672,  0.04797455,\n",
       "        -0.01888815,  0.00192204, -0.00138116,  0.00009771, -0.00000929,\n",
       "        -0.00000055],\n",
       "       [-0.00031959,  0.00071801, -0.00250549, -0.00824771,  0.07581426,\n",
       "         0.02187135, -0.00543038, -0.00062502, -0.00007048,  0.00001468,\n",
       "        -0.0000052 ],\n",
       "       [-0.00031832,  0.0007819 , -0.00173896, -0.04151273,  0.00869412,\n",
       "         0.02546718, -0.00081102, -0.0003608 , -0.00003152, -0.00003962,\n",
       "         0.00000043]])"
      ]
     },
     "execution_count": 394,
     "metadata": {},
     "output_type": "execute_result"
    }
   ],
   "source": [
    "T_gs_vec.transpose() * S_trans.toarray() * T_gs_vec"
   ]
  },
  {
   "cell_type": "code",
   "execution_count": null,
   "id": "e51e4d42",
   "metadata": {},
   "outputs": [],
   "source": []
  }
 ],
 "metadata": {
  "kernelspec": {
   "display_name": "Python 3 (ipykernel)",
   "language": "python",
   "name": "python3"
  },
  "language_info": {
   "codemirror_mode": {
    "name": "ipython",
    "version": 3
   },
   "file_extension": ".py",
   "mimetype": "text/x-python",
   "name": "python",
   "nbconvert_exporter": "python",
   "pygments_lexer": "ipython3",
   "version": "3.8.8"
  }
 },
 "nbformat": 4,
 "nbformat_minor": 5
}
